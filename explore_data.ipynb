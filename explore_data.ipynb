{
 "cells": [
  {
   "cell_type": "code",
   "execution_count": 6,
   "metadata": {},
   "outputs": [],
   "source": [
    "library(tidyverse)\n",
    "library(readxl)"
   ]
  },
  {
   "cell_type": "code",
   "execution_count": 23,
   "metadata": {},
   "outputs": [
    {
     "data": {
      "text/html": [
       "<table>\n",
       "<caption>A tibble: 6 × 25</caption>\n",
       "<thead>\n",
       "\t<tr><th scope=col>ID</th><th scope=col>LIMIT_BAL</th><th scope=col>SEX</th><th scope=col>EDUCATION</th><th scope=col>MARRIAGE</th><th scope=col>AGE</th><th scope=col>PAY_0</th><th scope=col>PAY_2</th><th scope=col>PAY_3</th><th scope=col>PAY_4</th><th scope=col>⋯</th><th scope=col>BILL_AMT4</th><th scope=col>BILL_AMT5</th><th scope=col>BILL_AMT6</th><th scope=col>PAY_AMT1</th><th scope=col>PAY_AMT2</th><th scope=col>PAY_AMT3</th><th scope=col>PAY_AMT4</th><th scope=col>PAY_AMT5</th><th scope=col>PAY_AMT6</th><th scope=col>default payment next month</th></tr>\n",
       "\t<tr><th scope=col>&lt;dbl&gt;</th><th scope=col>&lt;dbl&gt;</th><th scope=col>&lt;dbl&gt;</th><th scope=col>&lt;dbl&gt;</th><th scope=col>&lt;dbl&gt;</th><th scope=col>&lt;dbl&gt;</th><th scope=col>&lt;dbl&gt;</th><th scope=col>&lt;dbl&gt;</th><th scope=col>&lt;dbl&gt;</th><th scope=col>&lt;dbl&gt;</th><th scope=col>⋯</th><th scope=col>&lt;dbl&gt;</th><th scope=col>&lt;dbl&gt;</th><th scope=col>&lt;dbl&gt;</th><th scope=col>&lt;dbl&gt;</th><th scope=col>&lt;dbl&gt;</th><th scope=col>&lt;dbl&gt;</th><th scope=col>&lt;dbl&gt;</th><th scope=col>&lt;dbl&gt;</th><th scope=col>&lt;dbl&gt;</th><th scope=col>&lt;dbl&gt;</th></tr>\n",
       "</thead>\n",
       "<tbody>\n",
       "\t<tr><td>1</td><td> 20000</td><td>2</td><td>2</td><td>1</td><td>24</td><td> 2</td><td>2</td><td>-1</td><td>-1</td><td>⋯</td><td>    0</td><td>    0</td><td>    0</td><td>   0</td><td>  689</td><td>    0</td><td>   0</td><td>   0</td><td>   0</td><td>1</td></tr>\n",
       "\t<tr><td>2</td><td>120000</td><td>2</td><td>2</td><td>2</td><td>26</td><td>-1</td><td>2</td><td> 0</td><td> 0</td><td>⋯</td><td> 3272</td><td> 3455</td><td> 3261</td><td>   0</td><td> 1000</td><td> 1000</td><td>1000</td><td>   0</td><td>2000</td><td>1</td></tr>\n",
       "\t<tr><td>3</td><td> 90000</td><td>2</td><td>2</td><td>2</td><td>34</td><td> 0</td><td>0</td><td> 0</td><td> 0</td><td>⋯</td><td>14331</td><td>14948</td><td>15549</td><td>1518</td><td> 1500</td><td> 1000</td><td>1000</td><td>1000</td><td>5000</td><td>0</td></tr>\n",
       "\t<tr><td>4</td><td> 50000</td><td>2</td><td>2</td><td>1</td><td>37</td><td> 0</td><td>0</td><td> 0</td><td> 0</td><td>⋯</td><td>28314</td><td>28959</td><td>29547</td><td>2000</td><td> 2019</td><td> 1200</td><td>1100</td><td>1069</td><td>1000</td><td>0</td></tr>\n",
       "\t<tr><td>5</td><td> 50000</td><td>1</td><td>2</td><td>1</td><td>57</td><td>-1</td><td>0</td><td>-1</td><td> 0</td><td>⋯</td><td>20940</td><td>19146</td><td>19131</td><td>2000</td><td>36681</td><td>10000</td><td>9000</td><td> 689</td><td> 679</td><td>0</td></tr>\n",
       "\t<tr><td>6</td><td> 50000</td><td>1</td><td>1</td><td>2</td><td>37</td><td> 0</td><td>0</td><td> 0</td><td> 0</td><td>⋯</td><td>19394</td><td>19619</td><td>20024</td><td>2500</td><td> 1815</td><td>  657</td><td>1000</td><td>1000</td><td> 800</td><td>0</td></tr>\n",
       "</tbody>\n",
       "</table>\n"
      ],
      "text/latex": [
       "A tibble: 6 × 25\n",
       "\\begin{tabular}{lllllllllllllllllllll}\n",
       " ID & LIMIT\\_BAL & SEX & EDUCATION & MARRIAGE & AGE & PAY\\_0 & PAY\\_2 & PAY\\_3 & PAY\\_4 & ⋯ & BILL\\_AMT4 & BILL\\_AMT5 & BILL\\_AMT6 & PAY\\_AMT1 & PAY\\_AMT2 & PAY\\_AMT3 & PAY\\_AMT4 & PAY\\_AMT5 & PAY\\_AMT6 & default payment next month\\\\\n",
       " <dbl> & <dbl> & <dbl> & <dbl> & <dbl> & <dbl> & <dbl> & <dbl> & <dbl> & <dbl> & ⋯ & <dbl> & <dbl> & <dbl> & <dbl> & <dbl> & <dbl> & <dbl> & <dbl> & <dbl> & <dbl>\\\\\n",
       "\\hline\n",
       "\t 1 &  20000 & 2 & 2 & 1 & 24 &  2 & 2 & -1 & -1 & ⋯ &     0 &     0 &     0 &    0 &   689 &     0 &    0 &    0 &    0 & 1\\\\\n",
       "\t 2 & 120000 & 2 & 2 & 2 & 26 & -1 & 2 &  0 &  0 & ⋯ &  3272 &  3455 &  3261 &    0 &  1000 &  1000 & 1000 &    0 & 2000 & 1\\\\\n",
       "\t 3 &  90000 & 2 & 2 & 2 & 34 &  0 & 0 &  0 &  0 & ⋯ & 14331 & 14948 & 15549 & 1518 &  1500 &  1000 & 1000 & 1000 & 5000 & 0\\\\\n",
       "\t 4 &  50000 & 2 & 2 & 1 & 37 &  0 & 0 &  0 &  0 & ⋯ & 28314 & 28959 & 29547 & 2000 &  2019 &  1200 & 1100 & 1069 & 1000 & 0\\\\\n",
       "\t 5 &  50000 & 1 & 2 & 1 & 57 & -1 & 0 & -1 &  0 & ⋯ & 20940 & 19146 & 19131 & 2000 & 36681 & 10000 & 9000 &  689 &  679 & 0\\\\\n",
       "\t 6 &  50000 & 1 & 1 & 2 & 37 &  0 & 0 &  0 &  0 & ⋯ & 19394 & 19619 & 20024 & 2500 &  1815 &   657 & 1000 & 1000 &  800 & 0\\\\\n",
       "\\end{tabular}\n"
      ],
      "text/markdown": [
       "\n",
       "A tibble: 6 × 25\n",
       "\n",
       "| ID &lt;dbl&gt; | LIMIT_BAL &lt;dbl&gt; | SEX &lt;dbl&gt; | EDUCATION &lt;dbl&gt; | MARRIAGE &lt;dbl&gt; | AGE &lt;dbl&gt; | PAY_0 &lt;dbl&gt; | PAY_2 &lt;dbl&gt; | PAY_3 &lt;dbl&gt; | PAY_4 &lt;dbl&gt; | ⋯ ⋯ | BILL_AMT4 &lt;dbl&gt; | BILL_AMT5 &lt;dbl&gt; | BILL_AMT6 &lt;dbl&gt; | PAY_AMT1 &lt;dbl&gt; | PAY_AMT2 &lt;dbl&gt; | PAY_AMT3 &lt;dbl&gt; | PAY_AMT4 &lt;dbl&gt; | PAY_AMT5 &lt;dbl&gt; | PAY_AMT6 &lt;dbl&gt; | default payment next month &lt;dbl&gt; |\n",
       "|---|---|---|---|---|---|---|---|---|---|---|---|---|---|---|---|---|---|---|---|---|\n",
       "| 1 |  20000 | 2 | 2 | 1 | 24 |  2 | 2 | -1 | -1 | ⋯ |     0 |     0 |     0 |    0 |   689 |     0 |    0 |    0 |    0 | 1 |\n",
       "| 2 | 120000 | 2 | 2 | 2 | 26 | -1 | 2 |  0 |  0 | ⋯ |  3272 |  3455 |  3261 |    0 |  1000 |  1000 | 1000 |    0 | 2000 | 1 |\n",
       "| 3 |  90000 | 2 | 2 | 2 | 34 |  0 | 0 |  0 |  0 | ⋯ | 14331 | 14948 | 15549 | 1518 |  1500 |  1000 | 1000 | 1000 | 5000 | 0 |\n",
       "| 4 |  50000 | 2 | 2 | 1 | 37 |  0 | 0 |  0 |  0 | ⋯ | 28314 | 28959 | 29547 | 2000 |  2019 |  1200 | 1100 | 1069 | 1000 | 0 |\n",
       "| 5 |  50000 | 1 | 2 | 1 | 57 | -1 | 0 | -1 |  0 | ⋯ | 20940 | 19146 | 19131 | 2000 | 36681 | 10000 | 9000 |  689 |  679 | 0 |\n",
       "| 6 |  50000 | 1 | 1 | 2 | 37 |  0 | 0 |  0 |  0 | ⋯ | 19394 | 19619 | 20024 | 2500 |  1815 |   657 | 1000 | 1000 |  800 | 0 |\n",
       "\n"
      ],
      "text/plain": [
       "  ID LIMIT_BAL SEX EDUCATION MARRIAGE AGE PAY_0 PAY_2 PAY_3 PAY_4 ⋯ BILL_AMT4\n",
       "1 1   20000    2   2         1        24   2    2     -1    -1    ⋯     0    \n",
       "2 2  120000    2   2         2        26  -1    2      0     0    ⋯  3272    \n",
       "3 3   90000    2   2         2        34   0    0      0     0    ⋯ 14331    \n",
       "4 4   50000    2   2         1        37   0    0      0     0    ⋯ 28314    \n",
       "5 5   50000    1   2         1        57  -1    0     -1     0    ⋯ 20940    \n",
       "6 6   50000    1   1         2        37   0    0      0     0    ⋯ 19394    \n",
       "  BILL_AMT5 BILL_AMT6 PAY_AMT1 PAY_AMT2 PAY_AMT3 PAY_AMT4 PAY_AMT5 PAY_AMT6\n",
       "1     0         0        0       689        0       0        0        0    \n",
       "2  3455      3261        0      1000     1000    1000        0     2000    \n",
       "3 14948     15549     1518      1500     1000    1000     1000     5000    \n",
       "4 28959     29547     2000      2019     1200    1100     1069     1000    \n",
       "5 19146     19131     2000     36681    10000    9000      689      679    \n",
       "6 19619     20024     2500      1815      657    1000     1000      800    \n",
       "  default payment next month\n",
       "1 1                         \n",
       "2 1                         \n",
       "3 0                         \n",
       "4 0                         \n",
       "5 0                         \n",
       "6 0                         "
      ]
     },
     "metadata": {},
     "output_type": "display_data"
    }
   ],
   "source": [
    "set.seed(19)\n",
    "url <- \"https://archive.ics.uci.edu/ml/machine-learning-databases/00350/default%20of%20credit%20card%20clients.xls\"\n",
    "download.file(url, \"data/credit_default.xls\")\n",
    "credit_default <- read_excel(\"data/credit_default.xls\", skip = 1)\n",
    "head(credit_default)"
   ]
  },
  {
   "cell_type": "code",
   "execution_count": 24,
   "metadata": {},
   "outputs": [
    {
     "data": {
      "text/html": [
       "<table>\n",
       "<caption>A tibble: 6 × 25</caption>\n",
       "<thead>\n",
       "\t<tr><th scope=col>ID</th><th scope=col>LIMIT_BAL</th><th scope=col>SEX</th><th scope=col>EDUCATION</th><th scope=col>MARRIAGE</th><th scope=col>AGE</th><th scope=col>PAY_0</th><th scope=col>PAY_2</th><th scope=col>PAY_3</th><th scope=col>PAY_4</th><th scope=col>⋯</th><th scope=col>BILL_AMT4</th><th scope=col>BILL_AMT5</th><th scope=col>BILL_AMT6</th><th scope=col>PAY_AMT1</th><th scope=col>PAY_AMT2</th><th scope=col>PAY_AMT3</th><th scope=col>PAY_AMT4</th><th scope=col>PAY_AMT5</th><th scope=col>PAY_AMT6</th><th scope=col>default.payment.next.month</th></tr>\n",
       "\t<tr><th scope=col>&lt;dbl&gt;</th><th scope=col>&lt;dbl&gt;</th><th scope=col>&lt;dbl&gt;</th><th scope=col>&lt;dbl&gt;</th><th scope=col>&lt;dbl&gt;</th><th scope=col>&lt;dbl&gt;</th><th scope=col>&lt;dbl&gt;</th><th scope=col>&lt;dbl&gt;</th><th scope=col>&lt;dbl&gt;</th><th scope=col>&lt;dbl&gt;</th><th scope=col>⋯</th><th scope=col>&lt;dbl&gt;</th><th scope=col>&lt;dbl&gt;</th><th scope=col>&lt;dbl&gt;</th><th scope=col>&lt;dbl&gt;</th><th scope=col>&lt;dbl&gt;</th><th scope=col>&lt;dbl&gt;</th><th scope=col>&lt;dbl&gt;</th><th scope=col>&lt;dbl&gt;</th><th scope=col>&lt;dbl&gt;</th><th scope=col>&lt;dbl&gt;</th></tr>\n",
       "</thead>\n",
       "<tbody>\n",
       "\t<tr><td>1</td><td> 20000</td><td>2</td><td>2</td><td>1</td><td>24</td><td> 2</td><td>2</td><td>-1</td><td>-1</td><td>⋯</td><td>    0</td><td>    0</td><td>    0</td><td>   0</td><td>  689</td><td>    0</td><td>   0</td><td>   0</td><td>   0</td><td>1</td></tr>\n",
       "\t<tr><td>2</td><td>120000</td><td>2</td><td>2</td><td>2</td><td>26</td><td>-1</td><td>2</td><td> 0</td><td> 0</td><td>⋯</td><td> 3272</td><td> 3455</td><td> 3261</td><td>   0</td><td> 1000</td><td> 1000</td><td>1000</td><td>   0</td><td>2000</td><td>1</td></tr>\n",
       "\t<tr><td>3</td><td> 90000</td><td>2</td><td>2</td><td>2</td><td>34</td><td> 0</td><td>0</td><td> 0</td><td> 0</td><td>⋯</td><td>14331</td><td>14948</td><td>15549</td><td>1518</td><td> 1500</td><td> 1000</td><td>1000</td><td>1000</td><td>5000</td><td>0</td></tr>\n",
       "\t<tr><td>4</td><td> 50000</td><td>2</td><td>2</td><td>1</td><td>37</td><td> 0</td><td>0</td><td> 0</td><td> 0</td><td>⋯</td><td>28314</td><td>28959</td><td>29547</td><td>2000</td><td> 2019</td><td> 1200</td><td>1100</td><td>1069</td><td>1000</td><td>0</td></tr>\n",
       "\t<tr><td>5</td><td> 50000</td><td>1</td><td>2</td><td>1</td><td>57</td><td>-1</td><td>0</td><td>-1</td><td> 0</td><td>⋯</td><td>20940</td><td>19146</td><td>19131</td><td>2000</td><td>36681</td><td>10000</td><td>9000</td><td> 689</td><td> 679</td><td>0</td></tr>\n",
       "\t<tr><td>6</td><td> 50000</td><td>1</td><td>1</td><td>2</td><td>37</td><td> 0</td><td>0</td><td> 0</td><td> 0</td><td>⋯</td><td>19394</td><td>19619</td><td>20024</td><td>2500</td><td> 1815</td><td>  657</td><td>1000</td><td>1000</td><td> 800</td><td>0</td></tr>\n",
       "</tbody>\n",
       "</table>\n"
      ],
      "text/latex": [
       "A tibble: 6 × 25\n",
       "\\begin{tabular}{lllllllllllllllllllll}\n",
       " ID & LIMIT\\_BAL & SEX & EDUCATION & MARRIAGE & AGE & PAY\\_0 & PAY\\_2 & PAY\\_3 & PAY\\_4 & ⋯ & BILL\\_AMT4 & BILL\\_AMT5 & BILL\\_AMT6 & PAY\\_AMT1 & PAY\\_AMT2 & PAY\\_AMT3 & PAY\\_AMT4 & PAY\\_AMT5 & PAY\\_AMT6 & default.payment.next.month\\\\\n",
       " <dbl> & <dbl> & <dbl> & <dbl> & <dbl> & <dbl> & <dbl> & <dbl> & <dbl> & <dbl> & ⋯ & <dbl> & <dbl> & <dbl> & <dbl> & <dbl> & <dbl> & <dbl> & <dbl> & <dbl> & <dbl>\\\\\n",
       "\\hline\n",
       "\t 1 &  20000 & 2 & 2 & 1 & 24 &  2 & 2 & -1 & -1 & ⋯ &     0 &     0 &     0 &    0 &   689 &     0 &    0 &    0 &    0 & 1\\\\\n",
       "\t 2 & 120000 & 2 & 2 & 2 & 26 & -1 & 2 &  0 &  0 & ⋯ &  3272 &  3455 &  3261 &    0 &  1000 &  1000 & 1000 &    0 & 2000 & 1\\\\\n",
       "\t 3 &  90000 & 2 & 2 & 2 & 34 &  0 & 0 &  0 &  0 & ⋯ & 14331 & 14948 & 15549 & 1518 &  1500 &  1000 & 1000 & 1000 & 5000 & 0\\\\\n",
       "\t 4 &  50000 & 2 & 2 & 1 & 37 &  0 & 0 &  0 &  0 & ⋯ & 28314 & 28959 & 29547 & 2000 &  2019 &  1200 & 1100 & 1069 & 1000 & 0\\\\\n",
       "\t 5 &  50000 & 1 & 2 & 1 & 57 & -1 & 0 & -1 &  0 & ⋯ & 20940 & 19146 & 19131 & 2000 & 36681 & 10000 & 9000 &  689 &  679 & 0\\\\\n",
       "\t 6 &  50000 & 1 & 1 & 2 & 37 &  0 & 0 &  0 &  0 & ⋯ & 19394 & 19619 & 20024 & 2500 &  1815 &   657 & 1000 & 1000 &  800 & 0\\\\\n",
       "\\end{tabular}\n"
      ],
      "text/markdown": [
       "\n",
       "A tibble: 6 × 25\n",
       "\n",
       "| ID &lt;dbl&gt; | LIMIT_BAL &lt;dbl&gt; | SEX &lt;dbl&gt; | EDUCATION &lt;dbl&gt; | MARRIAGE &lt;dbl&gt; | AGE &lt;dbl&gt; | PAY_0 &lt;dbl&gt; | PAY_2 &lt;dbl&gt; | PAY_3 &lt;dbl&gt; | PAY_4 &lt;dbl&gt; | ⋯ ⋯ | BILL_AMT4 &lt;dbl&gt; | BILL_AMT5 &lt;dbl&gt; | BILL_AMT6 &lt;dbl&gt; | PAY_AMT1 &lt;dbl&gt; | PAY_AMT2 &lt;dbl&gt; | PAY_AMT3 &lt;dbl&gt; | PAY_AMT4 &lt;dbl&gt; | PAY_AMT5 &lt;dbl&gt; | PAY_AMT6 &lt;dbl&gt; | default.payment.next.month &lt;dbl&gt; |\n",
       "|---|---|---|---|---|---|---|---|---|---|---|---|---|---|---|---|---|---|---|---|---|\n",
       "| 1 |  20000 | 2 | 2 | 1 | 24 |  2 | 2 | -1 | -1 | ⋯ |     0 |     0 |     0 |    0 |   689 |     0 |    0 |    0 |    0 | 1 |\n",
       "| 2 | 120000 | 2 | 2 | 2 | 26 | -1 | 2 |  0 |  0 | ⋯ |  3272 |  3455 |  3261 |    0 |  1000 |  1000 | 1000 |    0 | 2000 | 1 |\n",
       "| 3 |  90000 | 2 | 2 | 2 | 34 |  0 | 0 |  0 |  0 | ⋯ | 14331 | 14948 | 15549 | 1518 |  1500 |  1000 | 1000 | 1000 | 5000 | 0 |\n",
       "| 4 |  50000 | 2 | 2 | 1 | 37 |  0 | 0 |  0 |  0 | ⋯ | 28314 | 28959 | 29547 | 2000 |  2019 |  1200 | 1100 | 1069 | 1000 | 0 |\n",
       "| 5 |  50000 | 1 | 2 | 1 | 57 | -1 | 0 | -1 |  0 | ⋯ | 20940 | 19146 | 19131 | 2000 | 36681 | 10000 | 9000 |  689 |  679 | 0 |\n",
       "| 6 |  50000 | 1 | 1 | 2 | 37 |  0 | 0 |  0 |  0 | ⋯ | 19394 | 19619 | 20024 | 2500 |  1815 |   657 | 1000 | 1000 |  800 | 0 |\n",
       "\n"
      ],
      "text/plain": [
       "  ID LIMIT_BAL SEX EDUCATION MARRIAGE AGE PAY_0 PAY_2 PAY_3 PAY_4 ⋯ BILL_AMT4\n",
       "1 1   20000    2   2         1        24   2    2     -1    -1    ⋯     0    \n",
       "2 2  120000    2   2         2        26  -1    2      0     0    ⋯  3272    \n",
       "3 3   90000    2   2         2        34   0    0      0     0    ⋯ 14331    \n",
       "4 4   50000    2   2         1        37   0    0      0     0    ⋯ 28314    \n",
       "5 5   50000    1   2         1        57  -1    0     -1     0    ⋯ 20940    \n",
       "6 6   50000    1   1         2        37   0    0      0     0    ⋯ 19394    \n",
       "  BILL_AMT5 BILL_AMT6 PAY_AMT1 PAY_AMT2 PAY_AMT3 PAY_AMT4 PAY_AMT5 PAY_AMT6\n",
       "1     0         0        0       689        0       0        0        0    \n",
       "2  3455      3261        0      1000     1000    1000        0     2000    \n",
       "3 14948     15549     1518      1500     1000    1000     1000     5000    \n",
       "4 28959     29547     2000      2019     1200    1100     1069     1000    \n",
       "5 19146     19131     2000     36681    10000    9000      689      679    \n",
       "6 19619     20024     2500      1815      657    1000     1000      800    \n",
       "  default.payment.next.month\n",
       "1 1                         \n",
       "2 1                         \n",
       "3 0                         \n",
       "4 0                         \n",
       "5 0                         \n",
       "6 0                         "
      ]
     },
     "metadata": {},
     "output_type": "display_data"
    }
   ],
   "source": [
    "colnames(credit_default) <- make.names(colnames(credit_default))\n",
    "head(credit_default)\n",
    "t <- filter(credit_default,  default.payment.next.month== 1)"
   ]
  },
  {
   "cell_type": "code",
   "execution_count": 33,
   "metadata": {},
   "outputs": [
    {
     "data": {
      "text/html": [
       "<table>\n",
       "<caption>A tibble: 205 × 25</caption>\n",
       "<thead>\n",
       "\t<tr><th scope=col>ID</th><th scope=col>LIMIT_BAL</th><th scope=col>SEX</th><th scope=col>EDUCATION</th><th scope=col>MARRIAGE</th><th scope=col>AGE</th><th scope=col>PAY_0</th><th scope=col>PAY_2</th><th scope=col>PAY_3</th><th scope=col>PAY_4</th><th scope=col>⋯</th><th scope=col>BILL_AMT4</th><th scope=col>BILL_AMT5</th><th scope=col>BILL_AMT6</th><th scope=col>PAY_AMT1</th><th scope=col>PAY_AMT2</th><th scope=col>PAY_AMT3</th><th scope=col>PAY_AMT4</th><th scope=col>PAY_AMT5</th><th scope=col>PAY_AMT6</th><th scope=col>default.payment.next.month</th></tr>\n",
       "\t<tr><th scope=col>&lt;dbl&gt;</th><th scope=col>&lt;dbl&gt;</th><th scope=col>&lt;dbl&gt;</th><th scope=col>&lt;dbl&gt;</th><th scope=col>&lt;dbl&gt;</th><th scope=col>&lt;dbl&gt;</th><th scope=col>&lt;dbl&gt;</th><th scope=col>&lt;dbl&gt;</th><th scope=col>&lt;dbl&gt;</th><th scope=col>&lt;dbl&gt;</th><th scope=col>⋯</th><th scope=col>&lt;dbl&gt;</th><th scope=col>&lt;dbl&gt;</th><th scope=col>&lt;dbl&gt;</th><th scope=col>&lt;dbl&gt;</th><th scope=col>&lt;dbl&gt;</th><th scope=col>&lt;dbl&gt;</th><th scope=col>&lt;dbl&gt;</th><th scope=col>&lt;dbl&gt;</th><th scope=col>&lt;dbl&gt;</th><th scope=col>&lt;dbl&gt;</th></tr>\n",
       "</thead>\n",
       "<tbody>\n",
       "\t<tr><td>17534</td><td> 50000</td><td>2</td><td>2</td><td>1</td><td>43</td><td> 0</td><td> 0</td><td> 2</td><td> 2</td><td>⋯</td><td> 20550</td><td> 21209</td><td> 21713</td><td>3000</td><td> 2000</td><td>    0</td><td> 1000</td><td>  1000</td><td> 1000</td><td>1</td></tr>\n",
       "\t<tr><td> 4128</td><td> 50000</td><td>1</td><td>3</td><td>1</td><td>32</td><td> 0</td><td> 0</td><td> 0</td><td> 0</td><td>⋯</td><td> 49261</td><td>     0</td><td>     0</td><td>2000</td><td> 2005</td><td> 1745</td><td>    0</td><td>     0</td><td>    0</td><td>1</td></tr>\n",
       "\t<tr><td>28746</td><td>100000</td><td>2</td><td>2</td><td>1</td><td>27</td><td> 1</td><td>-2</td><td>-2</td><td>-2</td><td>⋯</td><td>     0</td><td>     0</td><td>  4747</td><td>   0</td><td>    0</td><td>    0</td><td>    0</td><td>  4747</td><td> 1198</td><td>1</td></tr>\n",
       "\t<tr><td> 2803</td><td> 50000</td><td>1</td><td>2</td><td>1</td><td>46</td><td> 0</td><td> 0</td><td> 0</td><td> 0</td><td>⋯</td><td>     0</td><td>     0</td><td>     0</td><td>2000</td><td> 3000</td><td>    0</td><td>    0</td><td>     0</td><td>    0</td><td>1</td></tr>\n",
       "\t<tr><td>20745</td><td>450000</td><td>1</td><td>1</td><td>1</td><td>45</td><td>-1</td><td>-1</td><td>-1</td><td> 0</td><td>⋯</td><td> 46367</td><td> 46191</td><td> 20019</td><td> 700</td><td>46727</td><td> 1400</td><td>  924</td><td>   400</td><td>16608</td><td>1</td></tr>\n",
       "\t<tr><td>27624</td><td> 80000</td><td>2</td><td>1</td><td>2</td><td>23</td><td> 2</td><td> 2</td><td> 2</td><td> 0</td><td>⋯</td><td> 77123</td><td> 49823</td><td> 50680</td><td>7100</td><td>    0</td><td> 3500</td><td> 2500</td><td>  2000</td><td> 2000</td><td>1</td></tr>\n",
       "\t<tr><td>20029</td><td>210000</td><td>2</td><td>1</td><td>1</td><td>43</td><td> 1</td><td>-2</td><td>-2</td><td>-2</td><td>⋯</td><td>     0</td><td>     0</td><td>     0</td><td>   0</td><td>    0</td><td>    0</td><td>    0</td><td>     0</td><td>    0</td><td>1</td></tr>\n",
       "\t<tr><td> 3972</td><td>290000</td><td>1</td><td>3</td><td>1</td><td>47</td><td> 2</td><td> 0</td><td> 0</td><td> 0</td><td>⋯</td><td> 31370</td><td> -4020</td><td>107239</td><td>5130</td><td> 4647</td><td>  949</td><td> 4391</td><td>146216</td><td>60686</td><td>1</td></tr>\n",
       "\t<tr><td>16933</td><td> 20000</td><td>1</td><td>3</td><td>1</td><td>53</td><td> 3</td><td> 2</td><td> 2</td><td> 7</td><td>⋯</td><td>  2255</td><td>  2255</td><td>  2255</td><td>   0</td><td>    0</td><td>    0</td><td>    0</td><td>     0</td><td>    0</td><td>1</td></tr>\n",
       "\t<tr><td> 7387</td><td>150000</td><td>2</td><td>2</td><td>1</td><td>33</td><td> 1</td><td> 2</td><td> 0</td><td> 0</td><td>⋯</td><td> 47978</td><td> 49100</td><td> 50181</td><td>   0</td><td> 5000</td><td> 3000</td><td> 2000</td><td>  2000</td><td> 2000</td><td>1</td></tr>\n",
       "\t<tr><td>12225</td><td> 80000</td><td>1</td><td>2</td><td>2</td><td>28</td><td> 3</td><td> 2</td><td> 0</td><td> 0</td><td>⋯</td><td> 76348</td><td> 77798</td><td> 79843</td><td> 107</td><td> 2563</td><td> 2356</td><td> 2296</td><td>  2800</td><td>  910</td><td>1</td></tr>\n",
       "\t<tr><td>28454</td><td>360000</td><td>2</td><td>1</td><td>1</td><td>40</td><td> 2</td><td> 2</td><td> 2</td><td> 2</td><td>⋯</td><td>112157</td><td>114690</td><td>117845</td><td>   0</td><td>12000</td><td>    0</td><td> 5900</td><td>  5000</td><td> 4500</td><td>1</td></tr>\n",
       "\t<tr><td> 3271</td><td>320000</td><td>2</td><td>2</td><td>2</td><td>29</td><td> 1</td><td> 2</td><td> 0</td><td> 0</td><td>⋯</td><td>106221</td><td>104313</td><td>103251</td><td>   0</td><td> 3500</td><td>15100</td><td>   11</td><td>  3129</td><td>   11</td><td>1</td></tr>\n",
       "\t<tr><td> 2896</td><td>200000</td><td>1</td><td>1</td><td>1</td><td>43</td><td> 1</td><td> 2</td><td> 0</td><td> 0</td><td>⋯</td><td>121023</td><td>128387</td><td>130960</td><td>   0</td><td> 5812</td><td> 4500</td><td> 9352</td><td>  4700</td><td> 5000</td><td>1</td></tr>\n",
       "\t<tr><td>21399</td><td>360000</td><td>1</td><td>1</td><td>1</td><td>54</td><td> 1</td><td>-1</td><td>-1</td><td>-1</td><td>⋯</td><td>   434</td><td>  2139</td><td>   993</td><td>3011</td><td> 7545</td><td>  502</td><td> 2205</td><td>     5</td><td> 1799</td><td>1</td></tr>\n",
       "\t<tr><td> 7056</td><td> 30000</td><td>1</td><td>3</td><td>2</td><td>31</td><td> 3</td><td> 2</td><td> 0</td><td> 0</td><td>⋯</td><td> 21281</td><td> 22938</td><td> 22422</td><td>   0</td><td> 1646</td><td>  762</td><td> 2000</td><td>     0</td><td>  647</td><td>1</td></tr>\n",
       "\t<tr><td> 2484</td><td> 80000</td><td>2</td><td>2</td><td>1</td><td>23</td><td>-2</td><td>-2</td><td>-2</td><td>-2</td><td>⋯</td><td>   390</td><td>   390</td><td>   540</td><td>   0</td><td>  390</td><td>  390</td><td>  390</td><td>   540</td><td>  390</td><td>1</td></tr>\n",
       "\t<tr><td> 2422</td><td> 20000</td><td>2</td><td>2</td><td>1</td><td>24</td><td> 4</td><td> 3</td><td> 2</td><td> 2</td><td>⋯</td><td> 15492</td><td> 16739</td><td> 16320</td><td>   0</td><td>  600</td><td>    0</td><td> 1500</td><td>     0</td><td> 2000</td><td>1</td></tr>\n",
       "\t<tr><td>  758</td><td>230000</td><td>2</td><td>2</td><td>1</td><td>30</td><td> 2</td><td> 0</td><td>-1</td><td>-1</td><td>⋯</td><td>  -828</td><td>  6153</td><td> 12663</td><td>1222</td><td> 1837</td><td>    0</td><td> 7863</td><td> 12675</td><td> 2959</td><td>1</td></tr>\n",
       "\t<tr><td>26059</td><td>130000</td><td>2</td><td>2</td><td>2</td><td>27</td><td> 1</td><td>-2</td><td>-2</td><td>-2</td><td>⋯</td><td>     0</td><td>     0</td><td>     0</td><td>   0</td><td>    0</td><td>    0</td><td>    0</td><td>     0</td><td>    0</td><td>1</td></tr>\n",
       "\t<tr><td>20475</td><td>170000</td><td>1</td><td>2</td><td>2</td><td>27</td><td> 0</td><td> 0</td><td> 0</td><td> 0</td><td>⋯</td><td>119365</td><td>112801</td><td>108241</td><td>7100</td><td> 5500</td><td> 5000</td><td> 5000</td><td>  5000</td><td> 5000</td><td>1</td></tr>\n",
       "\t<tr><td>18819</td><td> 30000</td><td>2</td><td>2</td><td>2</td><td>25</td><td> 0</td><td> 0</td><td> 0</td><td> 0</td><td>⋯</td><td> 26960</td><td> 27215</td><td> 27977</td><td>1750</td><td> 1804</td><td> 1800</td><td> 1000</td><td>  1200</td><td> 1500</td><td>1</td></tr>\n",
       "\t<tr><td>17545</td><td> 20000</td><td>2</td><td>2</td><td>1</td><td>35</td><td> 2</td><td> 0</td><td> 0</td><td> 2</td><td>⋯</td><td>  9154</td><td> 10001</td><td> 10046</td><td>1500</td><td> 2454</td><td>    0</td><td> 1000</td><td>   350</td><td>    0</td><td>1</td></tr>\n",
       "\t<tr><td>  327</td><td>220000</td><td>2</td><td>2</td><td>1</td><td>41</td><td>-1</td><td> 2</td><td> 2</td><td>-1</td><td>⋯</td><td>   950</td><td>   475</td><td>   325</td><td> 325</td><td>    0</td><td>  950</td><td>    0</td><td>   325</td><td>  325</td><td>1</td></tr>\n",
       "\t<tr><td>28288</td><td> 70000</td><td>2</td><td>2</td><td>2</td><td>32</td><td> 2</td><td> 0</td><td> 0</td><td> 0</td><td>⋯</td><td> 36908</td><td> 29439</td><td> 19494</td><td>3007</td><td> 1794</td><td> 2000</td><td>  967</td><td>  1000</td><td>  870</td><td>1</td></tr>\n",
       "\t<tr><td>  975</td><td>140000</td><td>1</td><td>2</td><td>1</td><td>30</td><td> 0</td><td> 0</td><td> 0</td><td> 0</td><td>⋯</td><td> 69218</td><td> 70702</td><td> 72267</td><td>5000</td><td> 3500</td><td> 2700</td><td> 2600</td><td>  2742</td><td> 2700</td><td>1</td></tr>\n",
       "\t<tr><td> 4502</td><td>180000</td><td>1</td><td>2</td><td>1</td><td>36</td><td> 0</td><td> 0</td><td> 0</td><td> 0</td><td>⋯</td><td>  8292</td><td> 21866</td><td>     0</td><td>2000</td><td> 1200</td><td> 2000</td><td>21866</td><td>     0</td><td>    0</td><td>1</td></tr>\n",
       "\t<tr><td>21601</td><td> 50000</td><td>2</td><td>2</td><td>2</td><td>23</td><td> 0</td><td> 0</td><td>-2</td><td>-2</td><td>⋯</td><td>     0</td><td>     0</td><td>     0</td><td>   0</td><td>    0</td><td>    0</td><td>    0</td><td>     0</td><td>    0</td><td>1</td></tr>\n",
       "\t<tr><td>17237</td><td> 90000</td><td>2</td><td>2</td><td>1</td><td>40</td><td> 2</td><td> 2</td><td> 0</td><td> 0</td><td>⋯</td><td> 90537</td><td> 90263</td><td> 90268</td><td>   0</td><td> 3273</td><td> 3267</td><td> 3212</td><td>  3440</td><td> 6898</td><td>1</td></tr>\n",
       "\t<tr><td>23986</td><td> 50000</td><td>1</td><td>2</td><td>2</td><td>37</td><td> 0</td><td> 0</td><td> 0</td><td> 0</td><td>⋯</td><td> 19076</td><td> 19453</td><td> 19862</td><td>1281</td><td> 1306</td><td> 1318</td><td>  695</td><td>   721</td><td> 1018</td><td>1</td></tr>\n",
       "\t<tr><td>⋮</td><td>⋮</td><td>⋮</td><td>⋮</td><td>⋮</td><td>⋮</td><td>⋮</td><td>⋮</td><td>⋮</td><td>⋮</td><td>⋱</td><td>⋮</td><td>⋮</td><td>⋮</td><td>⋮</td><td>⋮</td><td>⋮</td><td>⋮</td><td>⋮</td><td>⋮</td><td>⋮</td></tr>\n",
       "\t<tr><td>22174</td><td> 80000</td><td>2</td><td>2</td><td>1</td><td>27</td><td> 0</td><td>-1</td><td>-1</td><td>-2</td><td>⋯</td><td>  3850</td><td>     0</td><td>     0</td><td> 5958</td><td> 4321</td><td>3869</td><td>   0</td><td>    0</td><td>   0</td><td>1</td></tr>\n",
       "\t<tr><td>25787</td><td>360000</td><td>2</td><td>2</td><td>1</td><td>44</td><td> 1</td><td>-2</td><td>-2</td><td>-2</td><td>⋯</td><td>     0</td><td>     0</td><td>     0</td><td>    0</td><td>    0</td><td>   0</td><td>   0</td><td>    0</td><td>   0</td><td>1</td></tr>\n",
       "\t<tr><td>17430</td><td>140000</td><td>2</td><td>2</td><td>1</td><td>44</td><td> 0</td><td> 0</td><td> 0</td><td> 0</td><td>⋯</td><td> 81454</td><td> 60176</td><td> 79728</td><td> 6050</td><td> 3700</td><td>2000</td><td>3000</td><td>20000</td><td>1500</td><td>1</td></tr>\n",
       "\t<tr><td>16134</td><td> 60000</td><td>2</td><td>2</td><td>1</td><td>41</td><td> 0</td><td> 0</td><td> 0</td><td> 0</td><td>⋯</td><td> 37701</td><td> 38452</td><td> 39255</td><td> 1600</td><td> 1915</td><td>1625</td><td>1376</td><td> 1422</td><td>1435</td><td>1</td></tr>\n",
       "\t<tr><td>24467</td><td>510000</td><td>1</td><td>3</td><td>2</td><td>31</td><td> 1</td><td>-1</td><td> 0</td><td> 0</td><td>⋯</td><td>  9706</td><td>  7271</td><td>  9551</td><td>14370</td><td> 3500</td><td>2500</td><td>1380</td><td> 2380</td><td>3000</td><td>1</td></tr>\n",
       "\t<tr><td> 5695</td><td>210000</td><td>1</td><td>1</td><td>1</td><td>39</td><td>-2</td><td>-2</td><td>-2</td><td>-1</td><td>⋯</td><td>  3446</td><td>     0</td><td>     0</td><td>    0</td><td>  650</td><td>3446</td><td>   0</td><td>    0</td><td>   0</td><td>1</td></tr>\n",
       "\t<tr><td>26966</td><td>360000</td><td>1</td><td>3</td><td>1</td><td>41</td><td>-2</td><td>-2</td><td>-2</td><td>-2</td><td>⋯</td><td>     0</td><td>     0</td><td>     0</td><td>    0</td><td>    0</td><td>   0</td><td>   0</td><td>    0</td><td>   0</td><td>1</td></tr>\n",
       "\t<tr><td>18772</td><td> 20000</td><td>2</td><td>2</td><td>2</td><td>26</td><td>-1</td><td>-1</td><td>-1</td><td>-1</td><td>⋯</td><td>  1119</td><td>  -222</td><td>  -222</td><td>  376</td><td>  987</td><td>1200</td><td>   0</td><td>    0</td><td>   0</td><td>1</td></tr>\n",
       "\t<tr><td> 8542</td><td>490000</td><td>1</td><td>1</td><td>1</td><td>50</td><td>-1</td><td>-1</td><td>-1</td><td>-1</td><td>⋯</td><td>  3398</td><td>  1476</td><td>  1602</td><td> 6836</td><td> 4657</td><td>3398</td><td>1476</td><td> 1602</td><td>7531</td><td>1</td></tr>\n",
       "\t<tr><td> 4197</td><td>100000</td><td>2</td><td>2</td><td>2</td><td>26</td><td> 1</td><td> 2</td><td> 0</td><td> 0</td><td>⋯</td><td> 48298</td><td> 49137</td><td> 49576</td><td>    0</td><td> 2200</td><td>3000</td><td>2000</td><td> 1800</td><td>2000</td><td>1</td></tr>\n",
       "\t<tr><td>22641</td><td>320000</td><td>2</td><td>2</td><td>1</td><td>33</td><td>-1</td><td>-1</td><td>-1</td><td>-1</td><td>⋯</td><td>  4070</td><td>  2695</td><td>  7544</td><td> 1661</td><td> 1060</td><td>4070</td><td>2700</td><td> 7544</td><td>3563</td><td>1</td></tr>\n",
       "\t<tr><td>14408</td><td> 30000</td><td>2</td><td>1</td><td>2</td><td>23</td><td> 2</td><td> 0</td><td> 0</td><td> 0</td><td>⋯</td><td> 16911</td><td> 17416</td><td> 17608</td><td> 1265</td><td> 1577</td><td> 606</td><td> 778</td><td>  630</td><td> 653</td><td>1</td></tr>\n",
       "\t<tr><td> 4020</td><td> 30000</td><td>2</td><td>2</td><td>1</td><td>27</td><td> 2</td><td> 2</td><td> 2</td><td> 2</td><td>⋯</td><td> 27633</td><td> 29184</td><td> 28776</td><td>    0</td><td> 2659</td><td>   0</td><td>2309</td><td> 1087</td><td>   0</td><td>1</td></tr>\n",
       "\t<tr><td> 4854</td><td>200000</td><td>1</td><td>3</td><td>1</td><td>33</td><td> 0</td><td> 0</td><td> 0</td><td> 0</td><td>⋯</td><td>197426</td><td>196341</td><td>197787</td><td>10021</td><td>10036</td><td>7126</td><td>6508</td><td> 6011</td><td>5537</td><td>1</td></tr>\n",
       "\t<tr><td>16076</td><td>160000</td><td>2</td><td>3</td><td>1</td><td>38</td><td> 2</td><td> 2</td><td> 2</td><td> 2</td><td>⋯</td><td>115127</td><td>111864</td><td>102418</td><td> 6000</td><td> 5500</td><td>   0</td><td>3700</td><td> 3200</td><td>3400</td><td>1</td></tr>\n",
       "\t<tr><td>29279</td><td>160000</td><td>1</td><td>2</td><td>1</td><td>27</td><td> 0</td><td> 0</td><td> 0</td><td> 0</td><td>⋯</td><td> 30166</td><td>     0</td><td>     0</td><td> 4342</td><td> 4017</td><td>2190</td><td>3990</td><td>    0</td><td>   0</td><td>1</td></tr>\n",
       "\t<tr><td>17359</td><td>120000</td><td>2</td><td>2</td><td>1</td><td>42</td><td> 2</td><td> 2</td><td> 3</td><td> 2</td><td>⋯</td><td> 29347</td><td> 30868</td><td> 30099</td><td> 4300</td><td>    0</td><td>1500</td><td>2300</td><td>    0</td><td>   0</td><td>1</td></tr>\n",
       "\t<tr><td>18143</td><td>300000</td><td>1</td><td>1</td><td>2</td><td>32</td><td> 0</td><td> 0</td><td> 2</td><td> 2</td><td>⋯</td><td> 12000</td><td>  3458</td><td> 56338</td><td> 2800</td><td> 1200</td><td>1200</td><td>9427</td><td>55000</td><td>2000</td><td>1</td></tr>\n",
       "\t<tr><td> 5032</td><td>170000</td><td>1</td><td>2</td><td>1</td><td>49</td><td> 2</td><td> 2</td><td> 2</td><td> 2</td><td>⋯</td><td> 19050</td><td> 18783</td><td>  8042</td><td> 4019</td><td>    0</td><td>1060</td><td>   0</td><td>  807</td><td>   0</td><td>1</td></tr>\n",
       "\t<tr><td>13714</td><td> 80000</td><td>2</td><td>2</td><td>2</td><td>32</td><td> 0</td><td> 0</td><td> 2</td><td> 0</td><td>⋯</td><td> 14643</td><td> 14856</td><td> 15160</td><td> 2670</td><td>  700</td><td> 672</td><td> 600</td><td>  550</td><td> 570</td><td>1</td></tr>\n",
       "\t<tr><td>10403</td><td> 10000</td><td>2</td><td>2</td><td>1</td><td>26</td><td> 1</td><td> 2</td><td> 2</td><td> 2</td><td>⋯</td><td>  5951</td><td>  6255</td><td>  6401</td><td>    0</td><td> 1500</td><td>   0</td><td> 400</td><td>  400</td><td> 700</td><td>1</td></tr>\n",
       "\t<tr><td> 6414</td><td> 70000</td><td>1</td><td>1</td><td>2</td><td>33</td><td> 0</td><td> 0</td><td> 0</td><td> 0</td><td>⋯</td><td> 27374</td><td> 27133</td><td> 10721</td><td> 2423</td><td> 4136</td><td>1024</td><td>1215</td><td>  435</td><td> 186</td><td>1</td></tr>\n",
       "\t<tr><td> 7886</td><td> 50000</td><td>2</td><td>1</td><td>2</td><td>24</td><td> 0</td><td> 0</td><td> 0</td><td>-2</td><td>⋯</td><td>     0</td><td>     0</td><td>     0</td><td> 7522</td><td>    0</td><td>   0</td><td>   0</td><td>    0</td><td>   0</td><td>1</td></tr>\n",
       "\t<tr><td>  587</td><td>220000</td><td>1</td><td>1</td><td>1</td><td>43</td><td> 1</td><td>-2</td><td>-2</td><td>-2</td><td>⋯</td><td>     0</td><td>     0</td><td>     0</td><td>    0</td><td>    0</td><td>   0</td><td>   0</td><td>    0</td><td>   0</td><td>1</td></tr>\n",
       "\t<tr><td>21312</td><td>230000</td><td>1</td><td>3</td><td>1</td><td>61</td><td> 2</td><td> 2</td><td>-2</td><td>-2</td><td>⋯</td><td>     0</td><td>     0</td><td>     0</td><td>    0</td><td>    0</td><td>   0</td><td>   0</td><td>    0</td><td>   0</td><td>1</td></tr>\n",
       "\t<tr><td>20629</td><td>200000</td><td>1</td><td>2</td><td>2</td><td>33</td><td>-1</td><td>-1</td><td>-1</td><td>-1</td><td>⋯</td><td>   390</td><td>   390</td><td>   390</td><td>  390</td><td>20718</td><td> 390</td><td> 390</td><td>  390</td><td> 540</td><td>1</td></tr>\n",
       "\t<tr><td>14072</td><td>100000</td><td>2</td><td>2</td><td>2</td><td>24</td><td> 2</td><td> 0</td><td> 0</td><td> 2</td><td>⋯</td><td>  9209</td><td>  6495</td><td> 78080</td><td> 2842</td><td> 3000</td><td>   0</td><td>6000</td><td>80900</td><td>   0</td><td>1</td></tr>\n",
       "\t<tr><td>10587</td><td>120000</td><td>2</td><td>3</td><td>2</td><td>53</td><td> 2</td><td> 0</td><td> 0</td><td> 2</td><td>⋯</td><td> 71557</td><td> 73052</td><td> 74502</td><td> 3500</td><td> 3800</td><td>2500</td><td>2804</td><td> 2820</td><td>3000</td><td>1</td></tr>\n",
       "\t<tr><td> 5747</td><td>120000</td><td>1</td><td>3</td><td>1</td><td>38</td><td> 2</td><td> 2</td><td> 2</td><td> 2</td><td>⋯</td><td> 80853</td><td> 82715</td><td> 84805</td><td> 3000</td><td> 3000</td><td>3000</td><td>3300</td><td> 3600</td><td>2700</td><td>1</td></tr>\n",
       "\t<tr><td>10711</td><td>200000</td><td>2</td><td>1</td><td>1</td><td>38</td><td> 2</td><td>-1</td><td> 2</td><td> 2</td><td>⋯</td><td>     0</td><td>     0</td><td>   600</td><td> 1694</td><td>    0</td><td>   0</td><td>   0</td><td>  600</td><td>   0</td><td>1</td></tr>\n",
       "</tbody>\n",
       "</table>\n"
      ],
      "text/latex": [
       "A tibble: 205 × 25\n",
       "\\begin{tabular}{lllllllllllllllllllll}\n",
       " ID & LIMIT\\_BAL & SEX & EDUCATION & MARRIAGE & AGE & PAY\\_0 & PAY\\_2 & PAY\\_3 & PAY\\_4 & ⋯ & BILL\\_AMT4 & BILL\\_AMT5 & BILL\\_AMT6 & PAY\\_AMT1 & PAY\\_AMT2 & PAY\\_AMT3 & PAY\\_AMT4 & PAY\\_AMT5 & PAY\\_AMT6 & default.payment.next.month\\\\\n",
       " <dbl> & <dbl> & <dbl> & <dbl> & <dbl> & <dbl> & <dbl> & <dbl> & <dbl> & <dbl> & ⋯ & <dbl> & <dbl> & <dbl> & <dbl> & <dbl> & <dbl> & <dbl> & <dbl> & <dbl> & <dbl>\\\\\n",
       "\\hline\n",
       "\t 17534 &  50000 & 2 & 2 & 1 & 43 &  0 &  0 &  2 &  2 & ⋯ &  20550 &  21209 &  21713 & 3000 &  2000 &     0 &  1000 &   1000 &  1000 & 1\\\\\n",
       "\t  4128 &  50000 & 1 & 3 & 1 & 32 &  0 &  0 &  0 &  0 & ⋯ &  49261 &      0 &      0 & 2000 &  2005 &  1745 &     0 &      0 &     0 & 1\\\\\n",
       "\t 28746 & 100000 & 2 & 2 & 1 & 27 &  1 & -2 & -2 & -2 & ⋯ &      0 &      0 &   4747 &    0 &     0 &     0 &     0 &   4747 &  1198 & 1\\\\\n",
       "\t  2803 &  50000 & 1 & 2 & 1 & 46 &  0 &  0 &  0 &  0 & ⋯ &      0 &      0 &      0 & 2000 &  3000 &     0 &     0 &      0 &     0 & 1\\\\\n",
       "\t 20745 & 450000 & 1 & 1 & 1 & 45 & -1 & -1 & -1 &  0 & ⋯ &  46367 &  46191 &  20019 &  700 & 46727 &  1400 &   924 &    400 & 16608 & 1\\\\\n",
       "\t 27624 &  80000 & 2 & 1 & 2 & 23 &  2 &  2 &  2 &  0 & ⋯ &  77123 &  49823 &  50680 & 7100 &     0 &  3500 &  2500 &   2000 &  2000 & 1\\\\\n",
       "\t 20029 & 210000 & 2 & 1 & 1 & 43 &  1 & -2 & -2 & -2 & ⋯ &      0 &      0 &      0 &    0 &     0 &     0 &     0 &      0 &     0 & 1\\\\\n",
       "\t  3972 & 290000 & 1 & 3 & 1 & 47 &  2 &  0 &  0 &  0 & ⋯ &  31370 &  -4020 & 107239 & 5130 &  4647 &   949 &  4391 & 146216 & 60686 & 1\\\\\n",
       "\t 16933 &  20000 & 1 & 3 & 1 & 53 &  3 &  2 &  2 &  7 & ⋯ &   2255 &   2255 &   2255 &    0 &     0 &     0 &     0 &      0 &     0 & 1\\\\\n",
       "\t  7387 & 150000 & 2 & 2 & 1 & 33 &  1 &  2 &  0 &  0 & ⋯ &  47978 &  49100 &  50181 &    0 &  5000 &  3000 &  2000 &   2000 &  2000 & 1\\\\\n",
       "\t 12225 &  80000 & 1 & 2 & 2 & 28 &  3 &  2 &  0 &  0 & ⋯ &  76348 &  77798 &  79843 &  107 &  2563 &  2356 &  2296 &   2800 &   910 & 1\\\\\n",
       "\t 28454 & 360000 & 2 & 1 & 1 & 40 &  2 &  2 &  2 &  2 & ⋯ & 112157 & 114690 & 117845 &    0 & 12000 &     0 &  5900 &   5000 &  4500 & 1\\\\\n",
       "\t  3271 & 320000 & 2 & 2 & 2 & 29 &  1 &  2 &  0 &  0 & ⋯ & 106221 & 104313 & 103251 &    0 &  3500 & 15100 &    11 &   3129 &    11 & 1\\\\\n",
       "\t  2896 & 200000 & 1 & 1 & 1 & 43 &  1 &  2 &  0 &  0 & ⋯ & 121023 & 128387 & 130960 &    0 &  5812 &  4500 &  9352 &   4700 &  5000 & 1\\\\\n",
       "\t 21399 & 360000 & 1 & 1 & 1 & 54 &  1 & -1 & -1 & -1 & ⋯ &    434 &   2139 &    993 & 3011 &  7545 &   502 &  2205 &      5 &  1799 & 1\\\\\n",
       "\t  7056 &  30000 & 1 & 3 & 2 & 31 &  3 &  2 &  0 &  0 & ⋯ &  21281 &  22938 &  22422 &    0 &  1646 &   762 &  2000 &      0 &   647 & 1\\\\\n",
       "\t  2484 &  80000 & 2 & 2 & 1 & 23 & -2 & -2 & -2 & -2 & ⋯ &    390 &    390 &    540 &    0 &   390 &   390 &   390 &    540 &   390 & 1\\\\\n",
       "\t  2422 &  20000 & 2 & 2 & 1 & 24 &  4 &  3 &  2 &  2 & ⋯ &  15492 &  16739 &  16320 &    0 &   600 &     0 &  1500 &      0 &  2000 & 1\\\\\n",
       "\t   758 & 230000 & 2 & 2 & 1 & 30 &  2 &  0 & -1 & -1 & ⋯ &   -828 &   6153 &  12663 & 1222 &  1837 &     0 &  7863 &  12675 &  2959 & 1\\\\\n",
       "\t 26059 & 130000 & 2 & 2 & 2 & 27 &  1 & -2 & -2 & -2 & ⋯ &      0 &      0 &      0 &    0 &     0 &     0 &     0 &      0 &     0 & 1\\\\\n",
       "\t 20475 & 170000 & 1 & 2 & 2 & 27 &  0 &  0 &  0 &  0 & ⋯ & 119365 & 112801 & 108241 & 7100 &  5500 &  5000 &  5000 &   5000 &  5000 & 1\\\\\n",
       "\t 18819 &  30000 & 2 & 2 & 2 & 25 &  0 &  0 &  0 &  0 & ⋯ &  26960 &  27215 &  27977 & 1750 &  1804 &  1800 &  1000 &   1200 &  1500 & 1\\\\\n",
       "\t 17545 &  20000 & 2 & 2 & 1 & 35 &  2 &  0 &  0 &  2 & ⋯ &   9154 &  10001 &  10046 & 1500 &  2454 &     0 &  1000 &    350 &     0 & 1\\\\\n",
       "\t   327 & 220000 & 2 & 2 & 1 & 41 & -1 &  2 &  2 & -1 & ⋯ &    950 &    475 &    325 &  325 &     0 &   950 &     0 &    325 &   325 & 1\\\\\n",
       "\t 28288 &  70000 & 2 & 2 & 2 & 32 &  2 &  0 &  0 &  0 & ⋯ &  36908 &  29439 &  19494 & 3007 &  1794 &  2000 &   967 &   1000 &   870 & 1\\\\\n",
       "\t   975 & 140000 & 1 & 2 & 1 & 30 &  0 &  0 &  0 &  0 & ⋯ &  69218 &  70702 &  72267 & 5000 &  3500 &  2700 &  2600 &   2742 &  2700 & 1\\\\\n",
       "\t  4502 & 180000 & 1 & 2 & 1 & 36 &  0 &  0 &  0 &  0 & ⋯ &   8292 &  21866 &      0 & 2000 &  1200 &  2000 & 21866 &      0 &     0 & 1\\\\\n",
       "\t 21601 &  50000 & 2 & 2 & 2 & 23 &  0 &  0 & -2 & -2 & ⋯ &      0 &      0 &      0 &    0 &     0 &     0 &     0 &      0 &     0 & 1\\\\\n",
       "\t 17237 &  90000 & 2 & 2 & 1 & 40 &  2 &  2 &  0 &  0 & ⋯ &  90537 &  90263 &  90268 &    0 &  3273 &  3267 &  3212 &   3440 &  6898 & 1\\\\\n",
       "\t 23986 &  50000 & 1 & 2 & 2 & 37 &  0 &  0 &  0 &  0 & ⋯ &  19076 &  19453 &  19862 & 1281 &  1306 &  1318 &   695 &    721 &  1018 & 1\\\\\n",
       "\t ⋮ & ⋮ & ⋮ & ⋮ & ⋮ & ⋮ & ⋮ & ⋮ & ⋮ & ⋮ & ⋱ & ⋮ & ⋮ & ⋮ & ⋮ & ⋮ & ⋮ & ⋮ & ⋮ & ⋮ & ⋮\\\\\n",
       "\t 22174 &  80000 & 2 & 2 & 1 & 27 &  0 & -1 & -1 & -2 & ⋯ &   3850 &      0 &      0 &  5958 &  4321 & 3869 &    0 &     0 &    0 & 1\\\\\n",
       "\t 25787 & 360000 & 2 & 2 & 1 & 44 &  1 & -2 & -2 & -2 & ⋯ &      0 &      0 &      0 &     0 &     0 &    0 &    0 &     0 &    0 & 1\\\\\n",
       "\t 17430 & 140000 & 2 & 2 & 1 & 44 &  0 &  0 &  0 &  0 & ⋯ &  81454 &  60176 &  79728 &  6050 &  3700 & 2000 & 3000 & 20000 & 1500 & 1\\\\\n",
       "\t 16134 &  60000 & 2 & 2 & 1 & 41 &  0 &  0 &  0 &  0 & ⋯ &  37701 &  38452 &  39255 &  1600 &  1915 & 1625 & 1376 &  1422 & 1435 & 1\\\\\n",
       "\t 24467 & 510000 & 1 & 3 & 2 & 31 &  1 & -1 &  0 &  0 & ⋯ &   9706 &   7271 &   9551 & 14370 &  3500 & 2500 & 1380 &  2380 & 3000 & 1\\\\\n",
       "\t  5695 & 210000 & 1 & 1 & 1 & 39 & -2 & -2 & -2 & -1 & ⋯ &   3446 &      0 &      0 &     0 &   650 & 3446 &    0 &     0 &    0 & 1\\\\\n",
       "\t 26966 & 360000 & 1 & 3 & 1 & 41 & -2 & -2 & -2 & -2 & ⋯ &      0 &      0 &      0 &     0 &     0 &    0 &    0 &     0 &    0 & 1\\\\\n",
       "\t 18772 &  20000 & 2 & 2 & 2 & 26 & -1 & -1 & -1 & -1 & ⋯ &   1119 &   -222 &   -222 &   376 &   987 & 1200 &    0 &     0 &    0 & 1\\\\\n",
       "\t  8542 & 490000 & 1 & 1 & 1 & 50 & -1 & -1 & -1 & -1 & ⋯ &   3398 &   1476 &   1602 &  6836 &  4657 & 3398 & 1476 &  1602 & 7531 & 1\\\\\n",
       "\t  4197 & 100000 & 2 & 2 & 2 & 26 &  1 &  2 &  0 &  0 & ⋯ &  48298 &  49137 &  49576 &     0 &  2200 & 3000 & 2000 &  1800 & 2000 & 1\\\\\n",
       "\t 22641 & 320000 & 2 & 2 & 1 & 33 & -1 & -1 & -1 & -1 & ⋯ &   4070 &   2695 &   7544 &  1661 &  1060 & 4070 & 2700 &  7544 & 3563 & 1\\\\\n",
       "\t 14408 &  30000 & 2 & 1 & 2 & 23 &  2 &  0 &  0 &  0 & ⋯ &  16911 &  17416 &  17608 &  1265 &  1577 &  606 &  778 &   630 &  653 & 1\\\\\n",
       "\t  4020 &  30000 & 2 & 2 & 1 & 27 &  2 &  2 &  2 &  2 & ⋯ &  27633 &  29184 &  28776 &     0 &  2659 &    0 & 2309 &  1087 &    0 & 1\\\\\n",
       "\t  4854 & 200000 & 1 & 3 & 1 & 33 &  0 &  0 &  0 &  0 & ⋯ & 197426 & 196341 & 197787 & 10021 & 10036 & 7126 & 6508 &  6011 & 5537 & 1\\\\\n",
       "\t 16076 & 160000 & 2 & 3 & 1 & 38 &  2 &  2 &  2 &  2 & ⋯ & 115127 & 111864 & 102418 &  6000 &  5500 &    0 & 3700 &  3200 & 3400 & 1\\\\\n",
       "\t 29279 & 160000 & 1 & 2 & 1 & 27 &  0 &  0 &  0 &  0 & ⋯ &  30166 &      0 &      0 &  4342 &  4017 & 2190 & 3990 &     0 &    0 & 1\\\\\n",
       "\t 17359 & 120000 & 2 & 2 & 1 & 42 &  2 &  2 &  3 &  2 & ⋯ &  29347 &  30868 &  30099 &  4300 &     0 & 1500 & 2300 &     0 &    0 & 1\\\\\n",
       "\t 18143 & 300000 & 1 & 1 & 2 & 32 &  0 &  0 &  2 &  2 & ⋯ &  12000 &   3458 &  56338 &  2800 &  1200 & 1200 & 9427 & 55000 & 2000 & 1\\\\\n",
       "\t  5032 & 170000 & 1 & 2 & 1 & 49 &  2 &  2 &  2 &  2 & ⋯ &  19050 &  18783 &   8042 &  4019 &     0 & 1060 &    0 &   807 &    0 & 1\\\\\n",
       "\t 13714 &  80000 & 2 & 2 & 2 & 32 &  0 &  0 &  2 &  0 & ⋯ &  14643 &  14856 &  15160 &  2670 &   700 &  672 &  600 &   550 &  570 & 1\\\\\n",
       "\t 10403 &  10000 & 2 & 2 & 1 & 26 &  1 &  2 &  2 &  2 & ⋯ &   5951 &   6255 &   6401 &     0 &  1500 &    0 &  400 &   400 &  700 & 1\\\\\n",
       "\t  6414 &  70000 & 1 & 1 & 2 & 33 &  0 &  0 &  0 &  0 & ⋯ &  27374 &  27133 &  10721 &  2423 &  4136 & 1024 & 1215 &   435 &  186 & 1\\\\\n",
       "\t  7886 &  50000 & 2 & 1 & 2 & 24 &  0 &  0 &  0 & -2 & ⋯ &      0 &      0 &      0 &  7522 &     0 &    0 &    0 &     0 &    0 & 1\\\\\n",
       "\t   587 & 220000 & 1 & 1 & 1 & 43 &  1 & -2 & -2 & -2 & ⋯ &      0 &      0 &      0 &     0 &     0 &    0 &    0 &     0 &    0 & 1\\\\\n",
       "\t 21312 & 230000 & 1 & 3 & 1 & 61 &  2 &  2 & -2 & -2 & ⋯ &      0 &      0 &      0 &     0 &     0 &    0 &    0 &     0 &    0 & 1\\\\\n",
       "\t 20629 & 200000 & 1 & 2 & 2 & 33 & -1 & -1 & -1 & -1 & ⋯ &    390 &    390 &    390 &   390 & 20718 &  390 &  390 &   390 &  540 & 1\\\\\n",
       "\t 14072 & 100000 & 2 & 2 & 2 & 24 &  2 &  0 &  0 &  2 & ⋯ &   9209 &   6495 &  78080 &  2842 &  3000 &    0 & 6000 & 80900 &    0 & 1\\\\\n",
       "\t 10587 & 120000 & 2 & 3 & 2 & 53 &  2 &  0 &  0 &  2 & ⋯ &  71557 &  73052 &  74502 &  3500 &  3800 & 2500 & 2804 &  2820 & 3000 & 1\\\\\n",
       "\t  5747 & 120000 & 1 & 3 & 1 & 38 &  2 &  2 &  2 &  2 & ⋯ &  80853 &  82715 &  84805 &  3000 &  3000 & 3000 & 3300 &  3600 & 2700 & 1\\\\\n",
       "\t 10711 & 200000 & 2 & 1 & 1 & 38 &  2 & -1 &  2 &  2 & ⋯ &      0 &      0 &    600 &  1694 &     0 &    0 &    0 &   600 &    0 & 1\\\\\n",
       "\\end{tabular}\n"
      ],
      "text/markdown": [
       "\n",
       "A tibble: 205 × 25\n",
       "\n",
       "| ID &lt;dbl&gt; | LIMIT_BAL &lt;dbl&gt; | SEX &lt;dbl&gt; | EDUCATION &lt;dbl&gt; | MARRIAGE &lt;dbl&gt; | AGE &lt;dbl&gt; | PAY_0 &lt;dbl&gt; | PAY_2 &lt;dbl&gt; | PAY_3 &lt;dbl&gt; | PAY_4 &lt;dbl&gt; | ⋯ ⋯ | BILL_AMT4 &lt;dbl&gt; | BILL_AMT5 &lt;dbl&gt; | BILL_AMT6 &lt;dbl&gt; | PAY_AMT1 &lt;dbl&gt; | PAY_AMT2 &lt;dbl&gt; | PAY_AMT3 &lt;dbl&gt; | PAY_AMT4 &lt;dbl&gt; | PAY_AMT5 &lt;dbl&gt; | PAY_AMT6 &lt;dbl&gt; | default.payment.next.month &lt;dbl&gt; |\n",
       "|---|---|---|---|---|---|---|---|---|---|---|---|---|---|---|---|---|---|---|---|---|\n",
       "| 17534 |  50000 | 2 | 2 | 1 | 43 |  0 |  0 |  2 |  2 | ⋯ |  20550 |  21209 |  21713 | 3000 |  2000 |     0 |  1000 |   1000 |  1000 | 1 |\n",
       "|  4128 |  50000 | 1 | 3 | 1 | 32 |  0 |  0 |  0 |  0 | ⋯ |  49261 |      0 |      0 | 2000 |  2005 |  1745 |     0 |      0 |     0 | 1 |\n",
       "| 28746 | 100000 | 2 | 2 | 1 | 27 |  1 | -2 | -2 | -2 | ⋯ |      0 |      0 |   4747 |    0 |     0 |     0 |     0 |   4747 |  1198 | 1 |\n",
       "|  2803 |  50000 | 1 | 2 | 1 | 46 |  0 |  0 |  0 |  0 | ⋯ |      0 |      0 |      0 | 2000 |  3000 |     0 |     0 |      0 |     0 | 1 |\n",
       "| 20745 | 450000 | 1 | 1 | 1 | 45 | -1 | -1 | -1 |  0 | ⋯ |  46367 |  46191 |  20019 |  700 | 46727 |  1400 |   924 |    400 | 16608 | 1 |\n",
       "| 27624 |  80000 | 2 | 1 | 2 | 23 |  2 |  2 |  2 |  0 | ⋯ |  77123 |  49823 |  50680 | 7100 |     0 |  3500 |  2500 |   2000 |  2000 | 1 |\n",
       "| 20029 | 210000 | 2 | 1 | 1 | 43 |  1 | -2 | -2 | -2 | ⋯ |      0 |      0 |      0 |    0 |     0 |     0 |     0 |      0 |     0 | 1 |\n",
       "|  3972 | 290000 | 1 | 3 | 1 | 47 |  2 |  0 |  0 |  0 | ⋯ |  31370 |  -4020 | 107239 | 5130 |  4647 |   949 |  4391 | 146216 | 60686 | 1 |\n",
       "| 16933 |  20000 | 1 | 3 | 1 | 53 |  3 |  2 |  2 |  7 | ⋯ |   2255 |   2255 |   2255 |    0 |     0 |     0 |     0 |      0 |     0 | 1 |\n",
       "|  7387 | 150000 | 2 | 2 | 1 | 33 |  1 |  2 |  0 |  0 | ⋯ |  47978 |  49100 |  50181 |    0 |  5000 |  3000 |  2000 |   2000 |  2000 | 1 |\n",
       "| 12225 |  80000 | 1 | 2 | 2 | 28 |  3 |  2 |  0 |  0 | ⋯ |  76348 |  77798 |  79843 |  107 |  2563 |  2356 |  2296 |   2800 |   910 | 1 |\n",
       "| 28454 | 360000 | 2 | 1 | 1 | 40 |  2 |  2 |  2 |  2 | ⋯ | 112157 | 114690 | 117845 |    0 | 12000 |     0 |  5900 |   5000 |  4500 | 1 |\n",
       "|  3271 | 320000 | 2 | 2 | 2 | 29 |  1 |  2 |  0 |  0 | ⋯ | 106221 | 104313 | 103251 |    0 |  3500 | 15100 |    11 |   3129 |    11 | 1 |\n",
       "|  2896 | 200000 | 1 | 1 | 1 | 43 |  1 |  2 |  0 |  0 | ⋯ | 121023 | 128387 | 130960 |    0 |  5812 |  4500 |  9352 |   4700 |  5000 | 1 |\n",
       "| 21399 | 360000 | 1 | 1 | 1 | 54 |  1 | -1 | -1 | -1 | ⋯ |    434 |   2139 |    993 | 3011 |  7545 |   502 |  2205 |      5 |  1799 | 1 |\n",
       "|  7056 |  30000 | 1 | 3 | 2 | 31 |  3 |  2 |  0 |  0 | ⋯ |  21281 |  22938 |  22422 |    0 |  1646 |   762 |  2000 |      0 |   647 | 1 |\n",
       "|  2484 |  80000 | 2 | 2 | 1 | 23 | -2 | -2 | -2 | -2 | ⋯ |    390 |    390 |    540 |    0 |   390 |   390 |   390 |    540 |   390 | 1 |\n",
       "|  2422 |  20000 | 2 | 2 | 1 | 24 |  4 |  3 |  2 |  2 | ⋯ |  15492 |  16739 |  16320 |    0 |   600 |     0 |  1500 |      0 |  2000 | 1 |\n",
       "|   758 | 230000 | 2 | 2 | 1 | 30 |  2 |  0 | -1 | -1 | ⋯ |   -828 |   6153 |  12663 | 1222 |  1837 |     0 |  7863 |  12675 |  2959 | 1 |\n",
       "| 26059 | 130000 | 2 | 2 | 2 | 27 |  1 | -2 | -2 | -2 | ⋯ |      0 |      0 |      0 |    0 |     0 |     0 |     0 |      0 |     0 | 1 |\n",
       "| 20475 | 170000 | 1 | 2 | 2 | 27 |  0 |  0 |  0 |  0 | ⋯ | 119365 | 112801 | 108241 | 7100 |  5500 |  5000 |  5000 |   5000 |  5000 | 1 |\n",
       "| 18819 |  30000 | 2 | 2 | 2 | 25 |  0 |  0 |  0 |  0 | ⋯ |  26960 |  27215 |  27977 | 1750 |  1804 |  1800 |  1000 |   1200 |  1500 | 1 |\n",
       "| 17545 |  20000 | 2 | 2 | 1 | 35 |  2 |  0 |  0 |  2 | ⋯ |   9154 |  10001 |  10046 | 1500 |  2454 |     0 |  1000 |    350 |     0 | 1 |\n",
       "|   327 | 220000 | 2 | 2 | 1 | 41 | -1 |  2 |  2 | -1 | ⋯ |    950 |    475 |    325 |  325 |     0 |   950 |     0 |    325 |   325 | 1 |\n",
       "| 28288 |  70000 | 2 | 2 | 2 | 32 |  2 |  0 |  0 |  0 | ⋯ |  36908 |  29439 |  19494 | 3007 |  1794 |  2000 |   967 |   1000 |   870 | 1 |\n",
       "|   975 | 140000 | 1 | 2 | 1 | 30 |  0 |  0 |  0 |  0 | ⋯ |  69218 |  70702 |  72267 | 5000 |  3500 |  2700 |  2600 |   2742 |  2700 | 1 |\n",
       "|  4502 | 180000 | 1 | 2 | 1 | 36 |  0 |  0 |  0 |  0 | ⋯ |   8292 |  21866 |      0 | 2000 |  1200 |  2000 | 21866 |      0 |     0 | 1 |\n",
       "| 21601 |  50000 | 2 | 2 | 2 | 23 |  0 |  0 | -2 | -2 | ⋯ |      0 |      0 |      0 |    0 |     0 |     0 |     0 |      0 |     0 | 1 |\n",
       "| 17237 |  90000 | 2 | 2 | 1 | 40 |  2 |  2 |  0 |  0 | ⋯ |  90537 |  90263 |  90268 |    0 |  3273 |  3267 |  3212 |   3440 |  6898 | 1 |\n",
       "| 23986 |  50000 | 1 | 2 | 2 | 37 |  0 |  0 |  0 |  0 | ⋯ |  19076 |  19453 |  19862 | 1281 |  1306 |  1318 |   695 |    721 |  1018 | 1 |\n",
       "| ⋮ | ⋮ | ⋮ | ⋮ | ⋮ | ⋮ | ⋮ | ⋮ | ⋮ | ⋮ | ⋱ | ⋮ | ⋮ | ⋮ | ⋮ | ⋮ | ⋮ | ⋮ | ⋮ | ⋮ | ⋮ |\n",
       "| 22174 |  80000 | 2 | 2 | 1 | 27 |  0 | -1 | -1 | -2 | ⋯ |   3850 |      0 |      0 |  5958 |  4321 | 3869 |    0 |     0 |    0 | 1 |\n",
       "| 25787 | 360000 | 2 | 2 | 1 | 44 |  1 | -2 | -2 | -2 | ⋯ |      0 |      0 |      0 |     0 |     0 |    0 |    0 |     0 |    0 | 1 |\n",
       "| 17430 | 140000 | 2 | 2 | 1 | 44 |  0 |  0 |  0 |  0 | ⋯ |  81454 |  60176 |  79728 |  6050 |  3700 | 2000 | 3000 | 20000 | 1500 | 1 |\n",
       "| 16134 |  60000 | 2 | 2 | 1 | 41 |  0 |  0 |  0 |  0 | ⋯ |  37701 |  38452 |  39255 |  1600 |  1915 | 1625 | 1376 |  1422 | 1435 | 1 |\n",
       "| 24467 | 510000 | 1 | 3 | 2 | 31 |  1 | -1 |  0 |  0 | ⋯ |   9706 |   7271 |   9551 | 14370 |  3500 | 2500 | 1380 |  2380 | 3000 | 1 |\n",
       "|  5695 | 210000 | 1 | 1 | 1 | 39 | -2 | -2 | -2 | -1 | ⋯ |   3446 |      0 |      0 |     0 |   650 | 3446 |    0 |     0 |    0 | 1 |\n",
       "| 26966 | 360000 | 1 | 3 | 1 | 41 | -2 | -2 | -2 | -2 | ⋯ |      0 |      0 |      0 |     0 |     0 |    0 |    0 |     0 |    0 | 1 |\n",
       "| 18772 |  20000 | 2 | 2 | 2 | 26 | -1 | -1 | -1 | -1 | ⋯ |   1119 |   -222 |   -222 |   376 |   987 | 1200 |    0 |     0 |    0 | 1 |\n",
       "|  8542 | 490000 | 1 | 1 | 1 | 50 | -1 | -1 | -1 | -1 | ⋯ |   3398 |   1476 |   1602 |  6836 |  4657 | 3398 | 1476 |  1602 | 7531 | 1 |\n",
       "|  4197 | 100000 | 2 | 2 | 2 | 26 |  1 |  2 |  0 |  0 | ⋯ |  48298 |  49137 |  49576 |     0 |  2200 | 3000 | 2000 |  1800 | 2000 | 1 |\n",
       "| 22641 | 320000 | 2 | 2 | 1 | 33 | -1 | -1 | -1 | -1 | ⋯ |   4070 |   2695 |   7544 |  1661 |  1060 | 4070 | 2700 |  7544 | 3563 | 1 |\n",
       "| 14408 |  30000 | 2 | 1 | 2 | 23 |  2 |  0 |  0 |  0 | ⋯ |  16911 |  17416 |  17608 |  1265 |  1577 |  606 |  778 |   630 |  653 | 1 |\n",
       "|  4020 |  30000 | 2 | 2 | 1 | 27 |  2 |  2 |  2 |  2 | ⋯ |  27633 |  29184 |  28776 |     0 |  2659 |    0 | 2309 |  1087 |    0 | 1 |\n",
       "|  4854 | 200000 | 1 | 3 | 1 | 33 |  0 |  0 |  0 |  0 | ⋯ | 197426 | 196341 | 197787 | 10021 | 10036 | 7126 | 6508 |  6011 | 5537 | 1 |\n",
       "| 16076 | 160000 | 2 | 3 | 1 | 38 |  2 |  2 |  2 |  2 | ⋯ | 115127 | 111864 | 102418 |  6000 |  5500 |    0 | 3700 |  3200 | 3400 | 1 |\n",
       "| 29279 | 160000 | 1 | 2 | 1 | 27 |  0 |  0 |  0 |  0 | ⋯ |  30166 |      0 |      0 |  4342 |  4017 | 2190 | 3990 |     0 |    0 | 1 |\n",
       "| 17359 | 120000 | 2 | 2 | 1 | 42 |  2 |  2 |  3 |  2 | ⋯ |  29347 |  30868 |  30099 |  4300 |     0 | 1500 | 2300 |     0 |    0 | 1 |\n",
       "| 18143 | 300000 | 1 | 1 | 2 | 32 |  0 |  0 |  2 |  2 | ⋯ |  12000 |   3458 |  56338 |  2800 |  1200 | 1200 | 9427 | 55000 | 2000 | 1 |\n",
       "|  5032 | 170000 | 1 | 2 | 1 | 49 |  2 |  2 |  2 |  2 | ⋯ |  19050 |  18783 |   8042 |  4019 |     0 | 1060 |    0 |   807 |    0 | 1 |\n",
       "| 13714 |  80000 | 2 | 2 | 2 | 32 |  0 |  0 |  2 |  0 | ⋯ |  14643 |  14856 |  15160 |  2670 |   700 |  672 |  600 |   550 |  570 | 1 |\n",
       "| 10403 |  10000 | 2 | 2 | 1 | 26 |  1 |  2 |  2 |  2 | ⋯ |   5951 |   6255 |   6401 |     0 |  1500 |    0 |  400 |   400 |  700 | 1 |\n",
       "|  6414 |  70000 | 1 | 1 | 2 | 33 |  0 |  0 |  0 |  0 | ⋯ |  27374 |  27133 |  10721 |  2423 |  4136 | 1024 | 1215 |   435 |  186 | 1 |\n",
       "|  7886 |  50000 | 2 | 1 | 2 | 24 |  0 |  0 |  0 | -2 | ⋯ |      0 |      0 |      0 |  7522 |     0 |    0 |    0 |     0 |    0 | 1 |\n",
       "|   587 | 220000 | 1 | 1 | 1 | 43 |  1 | -2 | -2 | -2 | ⋯ |      0 |      0 |      0 |     0 |     0 |    0 |    0 |     0 |    0 | 1 |\n",
       "| 21312 | 230000 | 1 | 3 | 1 | 61 |  2 |  2 | -2 | -2 | ⋯ |      0 |      0 |      0 |     0 |     0 |    0 |    0 |     0 |    0 | 1 |\n",
       "| 20629 | 200000 | 1 | 2 | 2 | 33 | -1 | -1 | -1 | -1 | ⋯ |    390 |    390 |    390 |   390 | 20718 |  390 |  390 |   390 |  540 | 1 |\n",
       "| 14072 | 100000 | 2 | 2 | 2 | 24 |  2 |  0 |  0 |  2 | ⋯ |   9209 |   6495 |  78080 |  2842 |  3000 |    0 | 6000 | 80900 |    0 | 1 |\n",
       "| 10587 | 120000 | 2 | 3 | 2 | 53 |  2 |  0 |  0 |  2 | ⋯ |  71557 |  73052 |  74502 |  3500 |  3800 | 2500 | 2804 |  2820 | 3000 | 1 |\n",
       "|  5747 | 120000 | 1 | 3 | 1 | 38 |  2 |  2 |  2 |  2 | ⋯ |  80853 |  82715 |  84805 |  3000 |  3000 | 3000 | 3300 |  3600 | 2700 | 1 |\n",
       "| 10711 | 200000 | 2 | 1 | 1 | 38 |  2 | -1 |  2 |  2 | ⋯ |      0 |      0 |    600 |  1694 |     0 |    0 |    0 |   600 |    0 | 1 |\n",
       "\n"
      ],
      "text/plain": [
       "    ID    LIMIT_BAL SEX EDUCATION MARRIAGE AGE PAY_0 PAY_2 PAY_3 PAY_4 ⋯\n",
       "1   17534  50000    2   2         1        43   0     0     2     2    ⋯\n",
       "2    4128  50000    1   3         1        32   0     0     0     0    ⋯\n",
       "3   28746 100000    2   2         1        27   1    -2    -2    -2    ⋯\n",
       "4    2803  50000    1   2         1        46   0     0     0     0    ⋯\n",
       "5   20745 450000    1   1         1        45  -1    -1    -1     0    ⋯\n",
       "6   27624  80000    2   1         2        23   2     2     2     0    ⋯\n",
       "7   20029 210000    2   1         1        43   1    -2    -2    -2    ⋯\n",
       "8    3972 290000    1   3         1        47   2     0     0     0    ⋯\n",
       "9   16933  20000    1   3         1        53   3     2     2     7    ⋯\n",
       "10   7387 150000    2   2         1        33   1     2     0     0    ⋯\n",
       "11  12225  80000    1   2         2        28   3     2     0     0    ⋯\n",
       "12  28454 360000    2   1         1        40   2     2     2     2    ⋯\n",
       "13   3271 320000    2   2         2        29   1     2     0     0    ⋯\n",
       "14   2896 200000    1   1         1        43   1     2     0     0    ⋯\n",
       "15  21399 360000    1   1         1        54   1    -1    -1    -1    ⋯\n",
       "16   7056  30000    1   3         2        31   3     2     0     0    ⋯\n",
       "17   2484  80000    2   2         1        23  -2    -2    -2    -2    ⋯\n",
       "18   2422  20000    2   2         1        24   4     3     2     2    ⋯\n",
       "19    758 230000    2   2         1        30   2     0    -1    -1    ⋯\n",
       "20  26059 130000    2   2         2        27   1    -2    -2    -2    ⋯\n",
       "21  20475 170000    1   2         2        27   0     0     0     0    ⋯\n",
       "22  18819  30000    2   2         2        25   0     0     0     0    ⋯\n",
       "23  17545  20000    2   2         1        35   2     0     0     2    ⋯\n",
       "24    327 220000    2   2         1        41  -1     2     2    -1    ⋯\n",
       "25  28288  70000    2   2         2        32   2     0     0     0    ⋯\n",
       "26    975 140000    1   2         1        30   0     0     0     0    ⋯\n",
       "27   4502 180000    1   2         1        36   0     0     0     0    ⋯\n",
       "28  21601  50000    2   2         2        23   0     0    -2    -2    ⋯\n",
       "29  17237  90000    2   2         1        40   2     2     0     0    ⋯\n",
       "30  23986  50000    1   2         2        37   0     0     0     0    ⋯\n",
       "⋮   ⋮     ⋮         ⋮   ⋮         ⋮        ⋮   ⋮     ⋮     ⋮     ⋮     ⋱\n",
       "176 22174  80000    2   2         1        27   0    -1    -1    -2    ⋯\n",
       "177 25787 360000    2   2         1        44   1    -2    -2    -2    ⋯\n",
       "178 17430 140000    2   2         1        44   0     0     0     0    ⋯\n",
       "179 16134  60000    2   2         1        41   0     0     0     0    ⋯\n",
       "180 24467 510000    1   3         2        31   1    -1     0     0    ⋯\n",
       "181  5695 210000    1   1         1        39  -2    -2    -2    -1    ⋯\n",
       "182 26966 360000    1   3         1        41  -2    -2    -2    -2    ⋯\n",
       "183 18772  20000    2   2         2        26  -1    -1    -1    -1    ⋯\n",
       "184  8542 490000    1   1         1        50  -1    -1    -1    -1    ⋯\n",
       "185  4197 100000    2   2         2        26   1     2     0     0    ⋯\n",
       "186 22641 320000    2   2         1        33  -1    -1    -1    -1    ⋯\n",
       "187 14408  30000    2   1         2        23   2     0     0     0    ⋯\n",
       "188  4020  30000    2   2         1        27   2     2     2     2    ⋯\n",
       "189  4854 200000    1   3         1        33   0     0     0     0    ⋯\n",
       "190 16076 160000    2   3         1        38   2     2     2     2    ⋯\n",
       "191 29279 160000    1   2         1        27   0     0     0     0    ⋯\n",
       "192 17359 120000    2   2         1        42   2     2     3     2    ⋯\n",
       "193 18143 300000    1   1         2        32   0     0     2     2    ⋯\n",
       "194  5032 170000    1   2         1        49   2     2     2     2    ⋯\n",
       "195 13714  80000    2   2         2        32   0     0     2     0    ⋯\n",
       "196 10403  10000    2   2         1        26   1     2     2     2    ⋯\n",
       "197  6414  70000    1   1         2        33   0     0     0     0    ⋯\n",
       "198  7886  50000    2   1         2        24   0     0     0    -2    ⋯\n",
       "199   587 220000    1   1         1        43   1    -2    -2    -2    ⋯\n",
       "200 21312 230000    1   3         1        61   2     2    -2    -2    ⋯\n",
       "201 20629 200000    1   2         2        33  -1    -1    -1    -1    ⋯\n",
       "202 14072 100000    2   2         2        24   2     0     0     2    ⋯\n",
       "203 10587 120000    2   3         2        53   2     0     0     2    ⋯\n",
       "204  5747 120000    1   3         1        38   2     2     2     2    ⋯\n",
       "205 10711 200000    2   1         1        38   2    -1     2     2    ⋯\n",
       "    BILL_AMT4 BILL_AMT5 BILL_AMT6 PAY_AMT1 PAY_AMT2 PAY_AMT3 PAY_AMT4 PAY_AMT5\n",
       "1    20550     21209     21713    3000      2000        0     1000      1000  \n",
       "2    49261         0         0    2000      2005     1745        0         0  \n",
       "3        0         0      4747       0         0        0        0      4747  \n",
       "4        0         0         0    2000      3000        0        0         0  \n",
       "5    46367     46191     20019     700     46727     1400      924       400  \n",
       "6    77123     49823     50680    7100         0     3500     2500      2000  \n",
       "7        0         0         0       0         0        0        0         0  \n",
       "8    31370     -4020    107239    5130      4647      949     4391    146216  \n",
       "9     2255      2255      2255       0         0        0        0         0  \n",
       "10   47978     49100     50181       0      5000     3000     2000      2000  \n",
       "11   76348     77798     79843     107      2563     2356     2296      2800  \n",
       "12  112157    114690    117845       0     12000        0     5900      5000  \n",
       "13  106221    104313    103251       0      3500    15100       11      3129  \n",
       "14  121023    128387    130960       0      5812     4500     9352      4700  \n",
       "15     434      2139       993    3011      7545      502     2205         5  \n",
       "16   21281     22938     22422       0      1646      762     2000         0  \n",
       "17     390       390       540       0       390      390      390       540  \n",
       "18   15492     16739     16320       0       600        0     1500         0  \n",
       "19    -828      6153     12663    1222      1837        0     7863     12675  \n",
       "20       0         0         0       0         0        0        0         0  \n",
       "21  119365    112801    108241    7100      5500     5000     5000      5000  \n",
       "22   26960     27215     27977    1750      1804     1800     1000      1200  \n",
       "23    9154     10001     10046    1500      2454        0     1000       350  \n",
       "24     950       475       325     325         0      950        0       325  \n",
       "25   36908     29439     19494    3007      1794     2000      967      1000  \n",
       "26   69218     70702     72267    5000      3500     2700     2600      2742  \n",
       "27    8292     21866         0    2000      1200     2000    21866         0  \n",
       "28       0         0         0       0         0        0        0         0  \n",
       "29   90537     90263     90268       0      3273     3267     3212      3440  \n",
       "30   19076     19453     19862    1281      1306     1318      695       721  \n",
       "⋮   ⋮         ⋮         ⋮         ⋮        ⋮        ⋮        ⋮        ⋮       \n",
       "176   3850         0         0     5958     4321    3869        0         0   \n",
       "177      0         0         0        0        0       0        0         0   \n",
       "178  81454     60176     79728     6050     3700    2000     3000     20000   \n",
       "179  37701     38452     39255     1600     1915    1625     1376      1422   \n",
       "180   9706      7271      9551    14370     3500    2500     1380      2380   \n",
       "181   3446         0         0        0      650    3446        0         0   \n",
       "182      0         0         0        0        0       0        0         0   \n",
       "183   1119      -222      -222      376      987    1200        0         0   \n",
       "184   3398      1476      1602     6836     4657    3398     1476      1602   \n",
       "185  48298     49137     49576        0     2200    3000     2000      1800   \n",
       "186   4070      2695      7544     1661     1060    4070     2700      7544   \n",
       "187  16911     17416     17608     1265     1577     606      778       630   \n",
       "188  27633     29184     28776        0     2659       0     2309      1087   \n",
       "189 197426    196341    197787    10021    10036    7126     6508      6011   \n",
       "190 115127    111864    102418     6000     5500       0     3700      3200   \n",
       "191  30166         0         0     4342     4017    2190     3990         0   \n",
       "192  29347     30868     30099     4300        0    1500     2300         0   \n",
       "193  12000      3458     56338     2800     1200    1200     9427     55000   \n",
       "194  19050     18783      8042     4019        0    1060        0       807   \n",
       "195  14643     14856     15160     2670      700     672      600       550   \n",
       "196   5951      6255      6401        0     1500       0      400       400   \n",
       "197  27374     27133     10721     2423     4136    1024     1215       435   \n",
       "198      0         0         0     7522        0       0        0         0   \n",
       "199      0         0         0        0        0       0        0         0   \n",
       "200      0         0         0        0        0       0        0         0   \n",
       "201    390       390       390      390    20718     390      390       390   \n",
       "202   9209      6495     78080     2842     3000       0     6000     80900   \n",
       "203  71557     73052     74502     3500     3800    2500     2804      2820   \n",
       "204  80853     82715     84805     3000     3000    3000     3300      3600   \n",
       "205      0         0       600     1694        0       0        0       600   \n",
       "    PAY_AMT6 default.payment.next.month\n",
       "1    1000    1                         \n",
       "2       0    1                         \n",
       "3    1198    1                         \n",
       "4       0    1                         \n",
       "5   16608    1                         \n",
       "6    2000    1                         \n",
       "7       0    1                         \n",
       "8   60686    1                         \n",
       "9       0    1                         \n",
       "10   2000    1                         \n",
       "11    910    1                         \n",
       "12   4500    1                         \n",
       "13     11    1                         \n",
       "14   5000    1                         \n",
       "15   1799    1                         \n",
       "16    647    1                         \n",
       "17    390    1                         \n",
       "18   2000    1                         \n",
       "19   2959    1                         \n",
       "20      0    1                         \n",
       "21   5000    1                         \n",
       "22   1500    1                         \n",
       "23      0    1                         \n",
       "24    325    1                         \n",
       "25    870    1                         \n",
       "26   2700    1                         \n",
       "27      0    1                         \n",
       "28      0    1                         \n",
       "29   6898    1                         \n",
       "30   1018    1                         \n",
       "⋮   ⋮        ⋮                         \n",
       "176    0     1                         \n",
       "177    0     1                         \n",
       "178 1500     1                         \n",
       "179 1435     1                         \n",
       "180 3000     1                         \n",
       "181    0     1                         \n",
       "182    0     1                         \n",
       "183    0     1                         \n",
       "184 7531     1                         \n",
       "185 2000     1                         \n",
       "186 3563     1                         \n",
       "187  653     1                         \n",
       "188    0     1                         \n",
       "189 5537     1                         \n",
       "190 3400     1                         \n",
       "191    0     1                         \n",
       "192    0     1                         \n",
       "193 2000     1                         \n",
       "194    0     1                         \n",
       "195  570     1                         \n",
       "196  700     1                         \n",
       "197  186     1                         \n",
       "198    0     1                         \n",
       "199    0     1                         \n",
       "200    0     1                         \n",
       "201  540     1                         \n",
       "202    0     1                         \n",
       "203 3000     1                         \n",
       "204 2700     1                         \n",
       "205    0     1                         "
      ]
     },
     "metadata": {},
     "output_type": "display_data"
    }
   ],
   "source": [
    "rows <- sample(nrow(credit_default))\n",
    "df <- credit_default[rows, ]\n",
    "cd_1000 <- slice(df, 1:1000)\n",
    "#cd_1000\n",
    "t <- filter(cd_1000,  default.payment.next.month== 1)\n",
    "t"
   ]
  },
  {
   "cell_type": "code",
   "execution_count": 40,
   "metadata": {},
   "outputs": [
    {
     "name": "stderr",
     "output_type": "stream",
     "text": [
      "`stat_bin()` using `bins = 30`. Pick better value with `binwidth`.\n",
      "\n",
      "`stat_bin()` using `bins = 30`. Pick better value with `binwidth`.\n",
      "\n"
     ]
    },
    {
     "data": {
      "image/png": "[encoded data removed]",
      "text/plain": [
       "plot without title"
      ]
     },
     "metadata": {
      "image/png": {
       "height": 420,
       "width": 420
      }
     },
     "output_type": "display_data"
    },
    {
     "data": {
      "image/png": "[encoded data removed]",
      "text/plain": [
       "plot without title"
      ]
     },
     "metadata": {
      "image/png": {
       "height": 420,
       "width": 420
      }
     },
     "output_type": "display_data"
    }
   ],
   "source": [
    "# age_ds <- select(cd_1000, AGE, default.payment.next.month)\n",
    "# #age_ds\n",
    "# plot_age <- ggplot(age_ds, aes(x = AGE))+\n",
    "#             geom_histogram()\n",
    "# plot_age\n",
    "age_ds2 <- select(t, AGE, default.payment.next.month)\n",
    "#age_ds\n",
    "plot_age2 <- ggplot(age_ds2, aes(x = AGE))+\n",
    "            geom_histogram()\n",
    "plot_age2"
   ]
  },
  {
   "cell_type": "code",
   "execution_count": 41,
   "metadata": {},
   "outputs": [
    {
     "name": "stderr",
     "output_type": "stream",
     "text": [
      "`stat_bin()` using `bins = 30`. Pick better value with `binwidth`.\n",
      "\n"
     ]
    },
    {
     "data": {
      "image/png": "[encoded data removed]",
      "text/plain": [
       "plot without title"
      ]
     },
     "metadata": {
      "image/png": {
       "height": 420,
       "width": 420
      }
     },
     "output_type": "display_data"
    }
   ],
   "source": [
    "x <- filter(cd_1000,  default.payment.next.month== 0) # NO DEFAULT\n",
    "age_ds3 <- select(x, AGE, default.payment.next.month)\n",
    "#age_ds\n",
    "plot_age3 <- ggplot(age_ds3, aes(x = AGE))+\n",
    "            geom_histogram()\n",
    "plot_age3"
   ]
  },
  {
   "cell_type": "code",
   "execution_count": 42,
   "metadata": {},
   "outputs": [
    {
     "name": "stderr",
     "output_type": "stream",
     "text": [
      "`stat_bin()` using `bins = 30`. Pick better value with `binwidth`.\n",
      "\n"
     ]
    },
    {
     "data": {
      "image/png": "[encoded data removed]",
      "text/plain": [
       "plot without title"
      ]
     },
     "metadata": {
      "image/png": {
       "height": 420,
       "width": 420
      }
     },
     "output_type": "display_data"
    }
   ],
   "source": [
    "marr_ds1 <- select(t, MARRIAGE, default.payment.next.month)\n",
    "plot_marr1 <- ggplot(marr_ds1, aes(x = MARRIAGE))+\n",
    "            geom_histogram()\n",
    "plot_marr1"
   ]
  },
  {
   "cell_type": "code",
   "execution_count": 43,
   "metadata": {},
   "outputs": [
    {
     "name": "stderr",
     "output_type": "stream",
     "text": [
      "`stat_bin()` using `bins = 30`. Pick better value with `binwidth`.\n",
      "\n"
     ]
    },
    {
     "data": {
      "image/png": "[encoded data removed]",
      "text/plain": [
       "plot without title"
      ]
     },
     "metadata": {
      "image/png": {
       "height": 420,
       "width": 420
      }
     },
     "output_type": "display_data"
    }
   ],
   "source": [
    "marr_ds0 <- select(x, MARRIAGE, default.payment.next.month)\n",
    "#age_ds\n",
    "plot_marr0 <- ggplot(marr_ds0, aes(x = MARRIAGE))+\n",
    "            geom_histogram()\n",
    "plot_marr0"
   ]
  },
  {
   "cell_type": "code",
   "execution_count": null,
   "metadata": {},
   "outputs": [],
   "source": []
  }
 ],
 "metadata": {
  "kernelspec": {
   "display_name": "R",
   "language": "R",
   "name": "ir"
  },
  "language_info": {
   "codemirror_mode": "r",
   "file_extension": ".r",
   "mimetype": "text/x-r-source",
   "name": "R",
   "pygments_lexer": "r",
   "version": "4.0.0"
  }
 },
 "nbformat": 4,
 "nbformat_minor": 4
}
