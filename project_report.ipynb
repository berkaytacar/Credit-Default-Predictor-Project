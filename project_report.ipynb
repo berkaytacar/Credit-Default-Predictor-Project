{
 "cells": [
  {
   "cell_type": "markdown",
   "metadata": {},
   "source": [
    "# DSCI 100 - Course Project Report"
   ]
  },
  {
   "cell_type": "markdown",
   "metadata": {},
   "source": [
    "Title: Predicting Credit Card Default"
   ]
  },
  {
   "cell_type": "markdown",
   "metadata": {},
   "source": [
    "Group 10: Berkay Talha Acar, Stephen Pon"
   ]
  },
  {
   "cell_type": "markdown",
   "metadata": {},
   "source": [
    "# Introduction "
   ]
  },
  {
   "cell_type": "markdown",
   "metadata": {},
   "source": [
    "The dataset we will use is called “default of credit card clients”. It is credit card data collected from Taiwan by Chung Hua University, Taiwan. A credit default is when a client fails to repay their debt, interest or principal, on a credit card loan. A default can occur when a borrower is unable to make timely payments, misses payments, or avoids/stops making payments. Default risks are often calculated well in advance by creditors such as banks who set a limit on the clients’ debt. "
   ]
  },
  {
   "cell_type": "markdown",
   "metadata": {},
   "source": [
    "In this project, we will build a K-nearest neighbors classification model that can predict whether a subset of clients with a university education will default based on various credit risk metrics."
   ]
  },
  {
   "cell_type": "markdown",
   "metadata": {},
   "source": [
    "# Methods and Results "
   ]
  },
  {
   "cell_type": "markdown",
   "metadata": {},
   "source": [
    "After the appropriate libraries are downloaded, the dataset can be read from the web into R as follows:"
   ]
  },
  {
   "cell_type": "code",
   "execution_count": 1,
   "metadata": {},
   "outputs": [
    {
     "name": "stderr",
     "output_type": "stream",
     "text": [
      "── \u001b[1mAttaching packages\u001b[22m ─────────────────────────────────────── tidyverse 1.3.0 ──\n",
      "\n",
      "\u001b[32m✔\u001b[39m \u001b[34mggplot2\u001b[39m 3.3.2     \u001b[32m✔\u001b[39m \u001b[34mpurrr  \u001b[39m 0.3.4\n",
      "\u001b[32m✔\u001b[39m \u001b[34mtibble \u001b[39m 3.0.3     \u001b[32m✔\u001b[39m \u001b[34mdplyr  \u001b[39m 1.0.2\n",
      "\u001b[32m✔\u001b[39m \u001b[34mtidyr  \u001b[39m 1.1.2     \u001b[32m✔\u001b[39m \u001b[34mstringr\u001b[39m 1.4.0\n",
      "\u001b[32m✔\u001b[39m \u001b[34mreadr  \u001b[39m 1.3.1     \u001b[32m✔\u001b[39m \u001b[34mforcats\u001b[39m 0.5.0\n",
      "\n",
      "Warning message:\n",
      "“package ‘ggplot2’ was built under R version 4.0.1”\n",
      "Warning message:\n",
      "“package ‘tibble’ was built under R version 4.0.2”\n",
      "Warning message:\n",
      "“package ‘tidyr’ was built under R version 4.0.2”\n",
      "Warning message:\n",
      "“package ‘dplyr’ was built under R version 4.0.2”\n",
      "── \u001b[1mConflicts\u001b[22m ────────────────────────────────────────── tidyverse_conflicts() ──\n",
      "\u001b[31m✖\u001b[39m \u001b[34mdplyr\u001b[39m::\u001b[32mfilter()\u001b[39m masks \u001b[34mstats\u001b[39m::filter()\n",
      "\u001b[31m✖\u001b[39m \u001b[34mdplyr\u001b[39m::\u001b[32mlag()\u001b[39m    masks \u001b[34mstats\u001b[39m::lag()\n",
      "\n",
      "\n",
      "Attaching package: ‘testthat’\n",
      "\n",
      "\n",
      "The following object is masked from ‘package:dplyr’:\n",
      "\n",
      "    matches\n",
      "\n",
      "\n",
      "The following object is masked from ‘package:purrr’:\n",
      "\n",
      "    is_null\n",
      "\n",
      "\n",
      "The following object is masked from ‘package:tidyr’:\n",
      "\n",
      "    matches\n",
      "\n",
      "\n",
      "Warning message:\n",
      "“package ‘tidymodels’ was built under R version 4.0.2”\n",
      "── \u001b[1mAttaching packages\u001b[22m ────────────────────────────────────── tidymodels 0.1.1 ──\n",
      "\n",
      "\u001b[32m✔\u001b[39m \u001b[34mbroom    \u001b[39m 0.7.0      \u001b[32m✔\u001b[39m \u001b[34mrecipes  \u001b[39m 0.1.13\n",
      "\u001b[32m✔\u001b[39m \u001b[34mdials    \u001b[39m 0.0.9      \u001b[32m✔\u001b[39m \u001b[34mrsample  \u001b[39m 0.0.7 \n",
      "\u001b[32m✔\u001b[39m \u001b[34minfer    \u001b[39m 0.5.4      \u001b[32m✔\u001b[39m \u001b[34mtune     \u001b[39m 0.1.1 \n",
      "\u001b[32m✔\u001b[39m \u001b[34mmodeldata\u001b[39m 0.0.2      \u001b[32m✔\u001b[39m \u001b[34mworkflows\u001b[39m 0.2.0 \n",
      "\u001b[32m✔\u001b[39m \u001b[34mparsnip  \u001b[39m 0.1.3      \u001b[32m✔\u001b[39m \u001b[34myardstick\u001b[39m 0.0.7 \n",
      "\n",
      "Warning message:\n",
      "“package ‘broom’ was built under R version 4.0.2”\n",
      "Warning message:\n",
      "“package ‘dials’ was built under R version 4.0.2”\n",
      "Warning message:\n",
      "“package ‘infer’ was built under R version 4.0.3”\n",
      "Warning message:\n",
      "“package ‘modeldata’ was built under R version 4.0.1”\n",
      "Warning message:\n",
      "“package ‘parsnip’ was built under R version 4.0.2”\n",
      "Warning message:\n",
      "“package ‘recipes’ was built under R version 4.0.1”\n",
      "Warning message:\n",
      "“package ‘tune’ was built under R version 4.0.2”\n",
      "Warning message:\n",
      "“package ‘workflows’ was built under R version 4.0.2”\n",
      "Warning message:\n",
      "“package ‘yardstick’ was built under R version 4.0.2”\n",
      "── \u001b[1mConflicts\u001b[22m ───────────────────────────────────────── tidymodels_conflicts() ──\n",
      "\u001b[31m✖\u001b[39m \u001b[34mscales\u001b[39m::\u001b[32mdiscard()\u001b[39m   masks \u001b[34mpurrr\u001b[39m::discard()\n",
      "\u001b[31m✖\u001b[39m \u001b[34mdplyr\u001b[39m::\u001b[32mfilter()\u001b[39m     masks \u001b[34mstats\u001b[39m::filter()\n",
      "\u001b[31m✖\u001b[39m \u001b[34mrecipes\u001b[39m::\u001b[32mfixed()\u001b[39m    masks \u001b[34mstringr\u001b[39m::fixed()\n",
      "\u001b[31m✖\u001b[39m \u001b[34mtestthat\u001b[39m::\u001b[32mis_null()\u001b[39m masks \u001b[34mpurrr\u001b[39m::is_null()\n",
      "\u001b[31m✖\u001b[39m \u001b[34mdplyr\u001b[39m::\u001b[32mlag()\u001b[39m        masks \u001b[34mstats\u001b[39m::lag()\n",
      "\u001b[31m✖\u001b[39m \u001b[34mtestthat\u001b[39m::\u001b[32mmatches()\u001b[39m masks \u001b[34mdplyr\u001b[39m::matches(), \u001b[34mtidyr\u001b[39m::matches()\n",
      "\u001b[31m✖\u001b[39m \u001b[34myardstick\u001b[39m::\u001b[32mspec()\u001b[39m   masks \u001b[34mreadr\u001b[39m::spec()\n",
      "\u001b[31m✖\u001b[39m \u001b[34mrecipes\u001b[39m::\u001b[32mstep()\u001b[39m     masks \u001b[34mstats\u001b[39m::step()\n",
      "\n",
      "Warning message:\n",
      "“package ‘cowplot’ was built under R version 4.0.3”\n"
     ]
    }
   ],
   "source": [
    "library(tidyverse)\n",
    "library(readxl)\n",
    "library(testthat)\n",
    "library(digest)\n",
    "library(repr)\n",
    "library(tidymodels)\n",
    "library(cowplot)\n",
    "#library(GGally)\n",
    "library(ISLR)"
   ]
  },
  {
   "cell_type": "code",
   "execution_count": 3,
   "metadata": {},
   "outputs": [
    {
     "data": {
      "text/html": [
       "<table>\n",
       "<caption>A tibble: 6 × 25</caption>\n",
       "<thead>\n",
       "\t<tr><th scope=col>ID</th><th scope=col>LIMIT_BAL</th><th scope=col>SEX</th><th scope=col>EDUCATION</th><th scope=col>MARRIAGE</th><th scope=col>AGE</th><th scope=col>PAY_0</th><th scope=col>PAY_2</th><th scope=col>PAY_3</th><th scope=col>PAY_4</th><th scope=col>⋯</th><th scope=col>BILL_AMT4</th><th scope=col>BILL_AMT5</th><th scope=col>BILL_AMT6</th><th scope=col>PAY_AMT1</th><th scope=col>PAY_AMT2</th><th scope=col>PAY_AMT3</th><th scope=col>PAY_AMT4</th><th scope=col>PAY_AMT5</th><th scope=col>PAY_AMT6</th><th scope=col>default payment next month</th></tr>\n",
       "\t<tr><th scope=col>&lt;dbl&gt;</th><th scope=col>&lt;dbl&gt;</th><th scope=col>&lt;dbl&gt;</th><th scope=col>&lt;dbl&gt;</th><th scope=col>&lt;dbl&gt;</th><th scope=col>&lt;dbl&gt;</th><th scope=col>&lt;dbl&gt;</th><th scope=col>&lt;dbl&gt;</th><th scope=col>&lt;dbl&gt;</th><th scope=col>&lt;dbl&gt;</th><th scope=col>⋯</th><th scope=col>&lt;dbl&gt;</th><th scope=col>&lt;dbl&gt;</th><th scope=col>&lt;dbl&gt;</th><th scope=col>&lt;dbl&gt;</th><th scope=col>&lt;dbl&gt;</th><th scope=col>&lt;dbl&gt;</th><th scope=col>&lt;dbl&gt;</th><th scope=col>&lt;dbl&gt;</th><th scope=col>&lt;dbl&gt;</th><th scope=col>&lt;dbl&gt;</th></tr>\n",
       "</thead>\n",
       "<tbody>\n",
       "\t<tr><td>1</td><td> 20000</td><td>2</td><td>2</td><td>1</td><td>24</td><td> 2</td><td>2</td><td>-1</td><td>-1</td><td>⋯</td><td>    0</td><td>    0</td><td>    0</td><td>   0</td><td>  689</td><td>    0</td><td>   0</td><td>   0</td><td>   0</td><td>1</td></tr>\n",
       "\t<tr><td>2</td><td>120000</td><td>2</td><td>2</td><td>2</td><td>26</td><td>-1</td><td>2</td><td> 0</td><td> 0</td><td>⋯</td><td> 3272</td><td> 3455</td><td> 3261</td><td>   0</td><td> 1000</td><td> 1000</td><td>1000</td><td>   0</td><td>2000</td><td>1</td></tr>\n",
       "\t<tr><td>3</td><td> 90000</td><td>2</td><td>2</td><td>2</td><td>34</td><td> 0</td><td>0</td><td> 0</td><td> 0</td><td>⋯</td><td>14331</td><td>14948</td><td>15549</td><td>1518</td><td> 1500</td><td> 1000</td><td>1000</td><td>1000</td><td>5000</td><td>0</td></tr>\n",
       "\t<tr><td>4</td><td> 50000</td><td>2</td><td>2</td><td>1</td><td>37</td><td> 0</td><td>0</td><td> 0</td><td> 0</td><td>⋯</td><td>28314</td><td>28959</td><td>29547</td><td>2000</td><td> 2019</td><td> 1200</td><td>1100</td><td>1069</td><td>1000</td><td>0</td></tr>\n",
       "\t<tr><td>5</td><td> 50000</td><td>1</td><td>2</td><td>1</td><td>57</td><td>-1</td><td>0</td><td>-1</td><td> 0</td><td>⋯</td><td>20940</td><td>19146</td><td>19131</td><td>2000</td><td>36681</td><td>10000</td><td>9000</td><td> 689</td><td> 679</td><td>0</td></tr>\n",
       "\t<tr><td>6</td><td> 50000</td><td>1</td><td>1</td><td>2</td><td>37</td><td> 0</td><td>0</td><td> 0</td><td> 0</td><td>⋯</td><td>19394</td><td>19619</td><td>20024</td><td>2500</td><td> 1815</td><td>  657</td><td>1000</td><td>1000</td><td> 800</td><td>0</td></tr>\n",
       "</tbody>\n",
       "</table>\n"
      ],
      "text/latex": [
       "A tibble: 6 × 25\n",
       "\\begin{tabular}{lllllllllllllllllllll}\n",
       " ID & LIMIT\\_BAL & SEX & EDUCATION & MARRIAGE & AGE & PAY\\_0 & PAY\\_2 & PAY\\_3 & PAY\\_4 & ⋯ & BILL\\_AMT4 & BILL\\_AMT5 & BILL\\_AMT6 & PAY\\_AMT1 & PAY\\_AMT2 & PAY\\_AMT3 & PAY\\_AMT4 & PAY\\_AMT5 & PAY\\_AMT6 & default payment next month\\\\\n",
       " <dbl> & <dbl> & <dbl> & <dbl> & <dbl> & <dbl> & <dbl> & <dbl> & <dbl> & <dbl> & ⋯ & <dbl> & <dbl> & <dbl> & <dbl> & <dbl> & <dbl> & <dbl> & <dbl> & <dbl> & <dbl>\\\\\n",
       "\\hline\n",
       "\t 1 &  20000 & 2 & 2 & 1 & 24 &  2 & 2 & -1 & -1 & ⋯ &     0 &     0 &     0 &    0 &   689 &     0 &    0 &    0 &    0 & 1\\\\\n",
       "\t 2 & 120000 & 2 & 2 & 2 & 26 & -1 & 2 &  0 &  0 & ⋯ &  3272 &  3455 &  3261 &    0 &  1000 &  1000 & 1000 &    0 & 2000 & 1\\\\\n",
       "\t 3 &  90000 & 2 & 2 & 2 & 34 &  0 & 0 &  0 &  0 & ⋯ & 14331 & 14948 & 15549 & 1518 &  1500 &  1000 & 1000 & 1000 & 5000 & 0\\\\\n",
       "\t 4 &  50000 & 2 & 2 & 1 & 37 &  0 & 0 &  0 &  0 & ⋯ & 28314 & 28959 & 29547 & 2000 &  2019 &  1200 & 1100 & 1069 & 1000 & 0\\\\\n",
       "\t 5 &  50000 & 1 & 2 & 1 & 57 & -1 & 0 & -1 &  0 & ⋯ & 20940 & 19146 & 19131 & 2000 & 36681 & 10000 & 9000 &  689 &  679 & 0\\\\\n",
       "\t 6 &  50000 & 1 & 1 & 2 & 37 &  0 & 0 &  0 &  0 & ⋯ & 19394 & 19619 & 20024 & 2500 &  1815 &   657 & 1000 & 1000 &  800 & 0\\\\\n",
       "\\end{tabular}\n"
      ],
      "text/markdown": [
       "\n",
       "A tibble: 6 × 25\n",
       "\n",
       "| ID &lt;dbl&gt; | LIMIT_BAL &lt;dbl&gt; | SEX &lt;dbl&gt; | EDUCATION &lt;dbl&gt; | MARRIAGE &lt;dbl&gt; | AGE &lt;dbl&gt; | PAY_0 &lt;dbl&gt; | PAY_2 &lt;dbl&gt; | PAY_3 &lt;dbl&gt; | PAY_4 &lt;dbl&gt; | ⋯ ⋯ | BILL_AMT4 &lt;dbl&gt; | BILL_AMT5 &lt;dbl&gt; | BILL_AMT6 &lt;dbl&gt; | PAY_AMT1 &lt;dbl&gt; | PAY_AMT2 &lt;dbl&gt; | PAY_AMT3 &lt;dbl&gt; | PAY_AMT4 &lt;dbl&gt; | PAY_AMT5 &lt;dbl&gt; | PAY_AMT6 &lt;dbl&gt; | default payment next month &lt;dbl&gt; |\n",
       "|---|---|---|---|---|---|---|---|---|---|---|---|---|---|---|---|---|---|---|---|---|\n",
       "| 1 |  20000 | 2 | 2 | 1 | 24 |  2 | 2 | -1 | -1 | ⋯ |     0 |     0 |     0 |    0 |   689 |     0 |    0 |    0 |    0 | 1 |\n",
       "| 2 | 120000 | 2 | 2 | 2 | 26 | -1 | 2 |  0 |  0 | ⋯ |  3272 |  3455 |  3261 |    0 |  1000 |  1000 | 1000 |    0 | 2000 | 1 |\n",
       "| 3 |  90000 | 2 | 2 | 2 | 34 |  0 | 0 |  0 |  0 | ⋯ | 14331 | 14948 | 15549 | 1518 |  1500 |  1000 | 1000 | 1000 | 5000 | 0 |\n",
       "| 4 |  50000 | 2 | 2 | 1 | 37 |  0 | 0 |  0 |  0 | ⋯ | 28314 | 28959 | 29547 | 2000 |  2019 |  1200 | 1100 | 1069 | 1000 | 0 |\n",
       "| 5 |  50000 | 1 | 2 | 1 | 57 | -1 | 0 | -1 |  0 | ⋯ | 20940 | 19146 | 19131 | 2000 | 36681 | 10000 | 9000 |  689 |  679 | 0 |\n",
       "| 6 |  50000 | 1 | 1 | 2 | 37 |  0 | 0 |  0 |  0 | ⋯ | 19394 | 19619 | 20024 | 2500 |  1815 |   657 | 1000 | 1000 |  800 | 0 |\n",
       "\n"
      ],
      "text/plain": [
       "  ID LIMIT_BAL SEX EDUCATION MARRIAGE AGE PAY_0 PAY_2 PAY_3 PAY_4 ⋯ BILL_AMT4\n",
       "1 1   20000    2   2         1        24   2    2     -1    -1    ⋯     0    \n",
       "2 2  120000    2   2         2        26  -1    2      0     0    ⋯  3272    \n",
       "3 3   90000    2   2         2        34   0    0      0     0    ⋯ 14331    \n",
       "4 4   50000    2   2         1        37   0    0      0     0    ⋯ 28314    \n",
       "5 5   50000    1   2         1        57  -1    0     -1     0    ⋯ 20940    \n",
       "6 6   50000    1   1         2        37   0    0      0     0    ⋯ 19394    \n",
       "  BILL_AMT5 BILL_AMT6 PAY_AMT1 PAY_AMT2 PAY_AMT3 PAY_AMT4 PAY_AMT5 PAY_AMT6\n",
       "1     0         0        0       689        0       0        0        0    \n",
       "2  3455      3261        0      1000     1000    1000        0     2000    \n",
       "3 14948     15549     1518      1500     1000    1000     1000     5000    \n",
       "4 28959     29547     2000      2019     1200    1100     1069     1000    \n",
       "5 19146     19131     2000     36681    10000    9000      689      679    \n",
       "6 19619     20024     2500      1815      657    1000     1000      800    \n",
       "  default payment next month\n",
       "1 1                         \n",
       "2 1                         \n",
       "3 0                         \n",
       "4 0                         \n",
       "5 0                         \n",
       "6 0                         "
      ]
     },
     "metadata": {},
     "output_type": "display_data"
    },
    {
     "data": {
      "text/html": [
       "<style>\n",
       ".list-inline {list-style: none; margin:0; padding: 0}\n",
       ".list-inline>li {display: inline-block}\n",
       ".list-inline>li:not(:last-child)::after {content: \"\\00b7\"; padding: 0 .5ex}\n",
       "</style>\n",
       "<ol class=list-inline><li>30000</li><li>25</li></ol>\n"
      ],
      "text/latex": [
       "\\begin{enumerate*}\n",
       "\\item 30000\n",
       "\\item 25\n",
       "\\end{enumerate*}\n"
      ],
      "text/markdown": [
       "1. 30000\n",
       "2. 25\n",
       "\n",
       "\n"
      ],
      "text/plain": [
       "[1] 30000    25"
      ]
     },
     "metadata": {},
     "output_type": "display_data"
    }
   ],
   "source": [
    "set.seed(19) # set the seed for reproducibility\n",
    "url <- \"https://archive.ics.uci.edu/ml/machine-learning-databases/00350/default%20of%20credit%20card%20clients.xls\"\n",
    "download.file(url, \"credit_default.xls\")\n",
    "cd <- read_excel(\"credit_default.xls\", skip = 1)\n",
    "head(cd)\n",
    "dim(cd)"
   ]
  },
  {
   "cell_type": "markdown",
   "metadata": {},
   "source": [
    "We see that our dataset is 30,000 by 25, and to clean our dataset, we will first remove the spaces from column names and filter for people with university degree."
   ]
  },
  {
   "cell_type": "code",
   "execution_count": 4,
   "metadata": {},
   "outputs": [
    {
     "data": {
      "text/html": [
       "<table>\n",
       "<caption>A tibble: 6 × 25</caption>\n",
       "<thead>\n",
       "\t<tr><th scope=col>ID</th><th scope=col>LIMIT_BAL</th><th scope=col>SEX</th><th scope=col>EDUCATION</th><th scope=col>MARRIAGE</th><th scope=col>AGE</th><th scope=col>PAY_0</th><th scope=col>PAY_2</th><th scope=col>PAY_3</th><th scope=col>PAY_4</th><th scope=col>⋯</th><th scope=col>BILL_AMT4</th><th scope=col>BILL_AMT5</th><th scope=col>BILL_AMT6</th><th scope=col>PAY_AMT1</th><th scope=col>PAY_AMT2</th><th scope=col>PAY_AMT3</th><th scope=col>PAY_AMT4</th><th scope=col>PAY_AMT5</th><th scope=col>PAY_AMT6</th><th scope=col>default.payment.next.month</th></tr>\n",
       "\t<tr><th scope=col>&lt;dbl&gt;</th><th scope=col>&lt;dbl&gt;</th><th scope=col>&lt;dbl&gt;</th><th scope=col>&lt;dbl&gt;</th><th scope=col>&lt;dbl&gt;</th><th scope=col>&lt;dbl&gt;</th><th scope=col>&lt;dbl&gt;</th><th scope=col>&lt;dbl&gt;</th><th scope=col>&lt;dbl&gt;</th><th scope=col>&lt;dbl&gt;</th><th scope=col>⋯</th><th scope=col>&lt;dbl&gt;</th><th scope=col>&lt;dbl&gt;</th><th scope=col>&lt;dbl&gt;</th><th scope=col>&lt;dbl&gt;</th><th scope=col>&lt;dbl&gt;</th><th scope=col>&lt;dbl&gt;</th><th scope=col>&lt;dbl&gt;</th><th scope=col>&lt;dbl&gt;</th><th scope=col>&lt;dbl&gt;</th><th scope=col>&lt;dbl&gt;</th></tr>\n",
       "</thead>\n",
       "<tbody>\n",
       "\t<tr><td>1</td><td> 20000</td><td>2</td><td>2</td><td>1</td><td>24</td><td> 2</td><td> 2</td><td>-1</td><td>-1</td><td>⋯</td><td>    0</td><td>    0</td><td>    0</td><td>   0</td><td>  689</td><td>    0</td><td>   0</td><td>   0</td><td>   0</td><td>1</td></tr>\n",
       "\t<tr><td>2</td><td>120000</td><td>2</td><td>2</td><td>2</td><td>26</td><td>-1</td><td> 2</td><td> 0</td><td> 0</td><td>⋯</td><td> 3272</td><td> 3455</td><td> 3261</td><td>   0</td><td> 1000</td><td> 1000</td><td>1000</td><td>   0</td><td>2000</td><td>1</td></tr>\n",
       "\t<tr><td>3</td><td> 90000</td><td>2</td><td>2</td><td>2</td><td>34</td><td> 0</td><td> 0</td><td> 0</td><td> 0</td><td>⋯</td><td>14331</td><td>14948</td><td>15549</td><td>1518</td><td> 1500</td><td> 1000</td><td>1000</td><td>1000</td><td>5000</td><td>0</td></tr>\n",
       "\t<tr><td>4</td><td> 50000</td><td>2</td><td>2</td><td>1</td><td>37</td><td> 0</td><td> 0</td><td> 0</td><td> 0</td><td>⋯</td><td>28314</td><td>28959</td><td>29547</td><td>2000</td><td> 2019</td><td> 1200</td><td>1100</td><td>1069</td><td>1000</td><td>0</td></tr>\n",
       "\t<tr><td>5</td><td> 50000</td><td>1</td><td>2</td><td>1</td><td>57</td><td>-1</td><td> 0</td><td>-1</td><td> 0</td><td>⋯</td><td>20940</td><td>19146</td><td>19131</td><td>2000</td><td>36681</td><td>10000</td><td>9000</td><td> 689</td><td> 679</td><td>0</td></tr>\n",
       "\t<tr><td>8</td><td>100000</td><td>2</td><td>2</td><td>2</td><td>23</td><td> 0</td><td>-1</td><td>-1</td><td> 0</td><td>⋯</td><td>  221</td><td> -159</td><td>  567</td><td> 380</td><td>  601</td><td>    0</td><td> 581</td><td>1687</td><td>1542</td><td>0</td></tr>\n",
       "</tbody>\n",
       "</table>\n"
      ],
      "text/latex": [
       "A tibble: 6 × 25\n",
       "\\begin{tabular}{lllllllllllllllllllll}\n",
       " ID & LIMIT\\_BAL & SEX & EDUCATION & MARRIAGE & AGE & PAY\\_0 & PAY\\_2 & PAY\\_3 & PAY\\_4 & ⋯ & BILL\\_AMT4 & BILL\\_AMT5 & BILL\\_AMT6 & PAY\\_AMT1 & PAY\\_AMT2 & PAY\\_AMT3 & PAY\\_AMT4 & PAY\\_AMT5 & PAY\\_AMT6 & default.payment.next.month\\\\\n",
       " <dbl> & <dbl> & <dbl> & <dbl> & <dbl> & <dbl> & <dbl> & <dbl> & <dbl> & <dbl> & ⋯ & <dbl> & <dbl> & <dbl> & <dbl> & <dbl> & <dbl> & <dbl> & <dbl> & <dbl> & <dbl>\\\\\n",
       "\\hline\n",
       "\t 1 &  20000 & 2 & 2 & 1 & 24 &  2 &  2 & -1 & -1 & ⋯ &     0 &     0 &     0 &    0 &   689 &     0 &    0 &    0 &    0 & 1\\\\\n",
       "\t 2 & 120000 & 2 & 2 & 2 & 26 & -1 &  2 &  0 &  0 & ⋯ &  3272 &  3455 &  3261 &    0 &  1000 &  1000 & 1000 &    0 & 2000 & 1\\\\\n",
       "\t 3 &  90000 & 2 & 2 & 2 & 34 &  0 &  0 &  0 &  0 & ⋯ & 14331 & 14948 & 15549 & 1518 &  1500 &  1000 & 1000 & 1000 & 5000 & 0\\\\\n",
       "\t 4 &  50000 & 2 & 2 & 1 & 37 &  0 &  0 &  0 &  0 & ⋯ & 28314 & 28959 & 29547 & 2000 &  2019 &  1200 & 1100 & 1069 & 1000 & 0\\\\\n",
       "\t 5 &  50000 & 1 & 2 & 1 & 57 & -1 &  0 & -1 &  0 & ⋯ & 20940 & 19146 & 19131 & 2000 & 36681 & 10000 & 9000 &  689 &  679 & 0\\\\\n",
       "\t 8 & 100000 & 2 & 2 & 2 & 23 &  0 & -1 & -1 &  0 & ⋯ &   221 &  -159 &   567 &  380 &   601 &     0 &  581 & 1687 & 1542 & 0\\\\\n",
       "\\end{tabular}\n"
      ],
      "text/markdown": [
       "\n",
       "A tibble: 6 × 25\n",
       "\n",
       "| ID &lt;dbl&gt; | LIMIT_BAL &lt;dbl&gt; | SEX &lt;dbl&gt; | EDUCATION &lt;dbl&gt; | MARRIAGE &lt;dbl&gt; | AGE &lt;dbl&gt; | PAY_0 &lt;dbl&gt; | PAY_2 &lt;dbl&gt; | PAY_3 &lt;dbl&gt; | PAY_4 &lt;dbl&gt; | ⋯ ⋯ | BILL_AMT4 &lt;dbl&gt; | BILL_AMT5 &lt;dbl&gt; | BILL_AMT6 &lt;dbl&gt; | PAY_AMT1 &lt;dbl&gt; | PAY_AMT2 &lt;dbl&gt; | PAY_AMT3 &lt;dbl&gt; | PAY_AMT4 &lt;dbl&gt; | PAY_AMT5 &lt;dbl&gt; | PAY_AMT6 &lt;dbl&gt; | default.payment.next.month &lt;dbl&gt; |\n",
       "|---|---|---|---|---|---|---|---|---|---|---|---|---|---|---|---|---|---|---|---|---|\n",
       "| 1 |  20000 | 2 | 2 | 1 | 24 |  2 |  2 | -1 | -1 | ⋯ |     0 |     0 |     0 |    0 |   689 |     0 |    0 |    0 |    0 | 1 |\n",
       "| 2 | 120000 | 2 | 2 | 2 | 26 | -1 |  2 |  0 |  0 | ⋯ |  3272 |  3455 |  3261 |    0 |  1000 |  1000 | 1000 |    0 | 2000 | 1 |\n",
       "| 3 |  90000 | 2 | 2 | 2 | 34 |  0 |  0 |  0 |  0 | ⋯ | 14331 | 14948 | 15549 | 1518 |  1500 |  1000 | 1000 | 1000 | 5000 | 0 |\n",
       "| 4 |  50000 | 2 | 2 | 1 | 37 |  0 |  0 |  0 |  0 | ⋯ | 28314 | 28959 | 29547 | 2000 |  2019 |  1200 | 1100 | 1069 | 1000 | 0 |\n",
       "| 5 |  50000 | 1 | 2 | 1 | 57 | -1 |  0 | -1 |  0 | ⋯ | 20940 | 19146 | 19131 | 2000 | 36681 | 10000 | 9000 |  689 |  679 | 0 |\n",
       "| 8 | 100000 | 2 | 2 | 2 | 23 |  0 | -1 | -1 |  0 | ⋯ |   221 |  -159 |   567 |  380 |   601 |     0 |  581 | 1687 | 1542 | 0 |\n",
       "\n"
      ],
      "text/plain": [
       "  ID LIMIT_BAL SEX EDUCATION MARRIAGE AGE PAY_0 PAY_2 PAY_3 PAY_4 ⋯ BILL_AMT4\n",
       "1 1   20000    2   2         1        24   2     2    -1    -1    ⋯     0    \n",
       "2 2  120000    2   2         2        26  -1     2     0     0    ⋯  3272    \n",
       "3 3   90000    2   2         2        34   0     0     0     0    ⋯ 14331    \n",
       "4 4   50000    2   2         1        37   0     0     0     0    ⋯ 28314    \n",
       "5 5   50000    1   2         1        57  -1     0    -1     0    ⋯ 20940    \n",
       "6 8  100000    2   2         2        23   0    -1    -1     0    ⋯   221    \n",
       "  BILL_AMT5 BILL_AMT6 PAY_AMT1 PAY_AMT2 PAY_AMT3 PAY_AMT4 PAY_AMT5 PAY_AMT6\n",
       "1     0         0        0       689        0       0        0        0    \n",
       "2  3455      3261        0      1000     1000    1000        0     2000    \n",
       "3 14948     15549     1518      1500     1000    1000     1000     5000    \n",
       "4 28959     29547     2000      2019     1200    1100     1069     1000    \n",
       "5 19146     19131     2000     36681    10000    9000      689      679    \n",
       "6  -159       567      380       601        0     581     1687     1542    \n",
       "  default.payment.next.month\n",
       "1 1                         \n",
       "2 1                         \n",
       "3 0                         \n",
       "4 0                         \n",
       "5 0                         \n",
       "6 0                         "
      ]
     },
     "metadata": {},
     "output_type": "display_data"
    },
    {
     "data": {
      "text/html": [
       "<style>\n",
       ".list-inline {list-style: none; margin:0; padding: 0}\n",
       ".list-inline>li {display: inline-block}\n",
       ".list-inline>li:not(:last-child)::after {content: \"\\00b7\"; padding: 0 .5ex}\n",
       "</style>\n",
       "<ol class=list-inline><li>14030</li><li>25</li></ol>\n"
      ],
      "text/latex": [
       "\\begin{enumerate*}\n",
       "\\item 14030\n",
       "\\item 25\n",
       "\\end{enumerate*}\n"
      ],
      "text/markdown": [
       "1. 14030\n",
       "2. 25\n",
       "\n",
       "\n"
      ],
      "text/plain": [
       "[1] 14030    25"
      ]
     },
     "metadata": {},
     "output_type": "display_data"
    }
   ],
   "source": [
    "colnames(cd) <- make.names(colnames(cd)) # remove the spaces from column names \n",
    "cd_university <- cd %>%\n",
    "                filter(EDUCATION == 2) # university education\n",
    "head(cd_university)\n",
    "dim(cd_university) # let's see the dimensions after filtered for cd_university, which is 14030x25"
   ]
  },
  {
   "cell_type": "markdown",
   "metadata": {},
   "source": [
    "Next, we randomly sample 10,000 rows from our dataset to avoid spending a lot of time training our model, or crashing the server with too many observations, and to eliminate bias that might exist in our initial dataset. We also think that it is valuable to have enough data in training, so that our model can learn and generalize from examples."
   ]
  },
  {
   "cell_type": "code",
   "execution_count": 7,
   "metadata": {},
   "outputs": [
    {
     "data": {
      "text/html": [
       "<table>\n",
       "<caption>A tibble: 6 × 27</caption>\n",
       "<thead>\n",
       "\t<tr><th scope=col>ID</th><th scope=col>limit</th><th scope=col>SEX</th><th scope=col>EDUCATION</th><th scope=col>MARRIAGE</th><th scope=col>AGE</th><th scope=col>PAY_0</th><th scope=col>PAY_2</th><th scope=col>PAY_3</th><th scope=col>PAY_4</th><th scope=col>⋯</th><th scope=col>BILL_AMT6</th><th scope=col>PAY_AMT1</th><th scope=col>PAY_AMT2</th><th scope=col>PAY_AMT3</th><th scope=col>PAY_AMT4</th><th scope=col>PAY_AMT5</th><th scope=col>PAY_AMT6</th><th scope=col>default_nm</th><th scope=col>bill_avg</th><th scope=col>pay_avg</th></tr>\n",
       "\t<tr><th scope=col>&lt;dbl&gt;</th><th scope=col>&lt;dbl&gt;</th><th scope=col>&lt;dbl&gt;</th><th scope=col>&lt;dbl&gt;</th><th scope=col>&lt;dbl&gt;</th><th scope=col>&lt;dbl&gt;</th><th scope=col>&lt;dbl&gt;</th><th scope=col>&lt;dbl&gt;</th><th scope=col>&lt;dbl&gt;</th><th scope=col>&lt;dbl&gt;</th><th scope=col>⋯</th><th scope=col>&lt;dbl&gt;</th><th scope=col>&lt;dbl&gt;</th><th scope=col>&lt;dbl&gt;</th><th scope=col>&lt;dbl&gt;</th><th scope=col>&lt;dbl&gt;</th><th scope=col>&lt;dbl&gt;</th><th scope=col>&lt;dbl&gt;</th><th scope=col>&lt;fct&gt;</th><th scope=col>&lt;dbl&gt;</th><th scope=col>&lt;dbl&gt;</th></tr>\n",
       "</thead>\n",
       "<tbody>\n",
       "\t<tr><td>13722</td><td> 60000</td><td>1</td><td>2</td><td>2</td><td>38</td><td> 0</td><td> 0</td><td> 0</td><td> 0</td><td>⋯</td><td> 39737</td><td> 2014</td><td>1616</td><td>1566</td><td>1700</td><td>1600</td><td>1400</td><td>0</td><td> 41089.1667</td><td> 1649.3333</td></tr>\n",
       "\t<tr><td>15000</td><td> 50000</td><td>1</td><td>2</td><td>2</td><td>28</td><td> 0</td><td> 0</td><td> 0</td><td> 0</td><td>⋯</td><td> 43863</td><td> 1667</td><td>1987</td><td>1655</td><td>1710</td><td>1719</td><td>1616</td><td>0</td><td> 41618.5000</td><td> 1725.6667</td></tr>\n",
       "\t<tr><td>19834</td><td>210000</td><td>2</td><td>2</td><td>1</td><td>40</td><td> 0</td><td> 0</td><td> 0</td><td> 0</td><td>⋯</td><td>104167</td><td> 4100</td><td>5000</td><td>4009</td><td>3500</td><td>4000</td><td>5000</td><td>0</td><td>110816.0000</td><td> 4268.1667</td></tr>\n",
       "\t<tr><td>10120</td><td> 90000</td><td>2</td><td>2</td><td>2</td><td>26</td><td> 0</td><td> 0</td><td> 0</td><td> 0</td><td>⋯</td><td> 73940</td><td> 3300</td><td>3168</td><td>3143</td><td>2700</td><td>3600</td><td>1700</td><td>0</td><td> 72520.8333</td><td> 2935.1667</td></tr>\n",
       "\t<tr><td>11694</td><td>230000</td><td>2</td><td>2</td><td>1</td><td>32</td><td>-2</td><td>-2</td><td>-2</td><td>-2</td><td>⋯</td><td>  2803</td><td>    0</td><td>   0</td><td> 790</td><td>   0</td><td>2803</td><td>   0</td><td>0</td><td>   723.8333</td><td>  598.8333</td></tr>\n",
       "\t<tr><td>15576</td><td>110000</td><td>1</td><td>2</td><td>2</td><td>55</td><td> 0</td><td> 0</td><td> 0</td><td> 0</td><td>⋯</td><td>111719</td><td>65668</td><td>4267</td><td>9455</td><td>   0</td><td>3991</td><td>8071</td><td>1</td><td>102567.8333</td><td>15242.0000</td></tr>\n",
       "</tbody>\n",
       "</table>\n"
      ],
      "text/latex": [
       "A tibble: 6 × 27\n",
       "\\begin{tabular}{lllllllllllllllllllll}\n",
       " ID & limit & SEX & EDUCATION & MARRIAGE & AGE & PAY\\_0 & PAY\\_2 & PAY\\_3 & PAY\\_4 & ⋯ & BILL\\_AMT6 & PAY\\_AMT1 & PAY\\_AMT2 & PAY\\_AMT3 & PAY\\_AMT4 & PAY\\_AMT5 & PAY\\_AMT6 & default\\_nm & bill\\_avg & pay\\_avg\\\\\n",
       " <dbl> & <dbl> & <dbl> & <dbl> & <dbl> & <dbl> & <dbl> & <dbl> & <dbl> & <dbl> & ⋯ & <dbl> & <dbl> & <dbl> & <dbl> & <dbl> & <dbl> & <dbl> & <fct> & <dbl> & <dbl>\\\\\n",
       "\\hline\n",
       "\t 13722 &  60000 & 1 & 2 & 2 & 38 &  0 &  0 &  0 &  0 & ⋯ &  39737 &  2014 & 1616 & 1566 & 1700 & 1600 & 1400 & 0 &  41089.1667 &  1649.3333\\\\\n",
       "\t 15000 &  50000 & 1 & 2 & 2 & 28 &  0 &  0 &  0 &  0 & ⋯ &  43863 &  1667 & 1987 & 1655 & 1710 & 1719 & 1616 & 0 &  41618.5000 &  1725.6667\\\\\n",
       "\t 19834 & 210000 & 2 & 2 & 1 & 40 &  0 &  0 &  0 &  0 & ⋯ & 104167 &  4100 & 5000 & 4009 & 3500 & 4000 & 5000 & 0 & 110816.0000 &  4268.1667\\\\\n",
       "\t 10120 &  90000 & 2 & 2 & 2 & 26 &  0 &  0 &  0 &  0 & ⋯ &  73940 &  3300 & 3168 & 3143 & 2700 & 3600 & 1700 & 0 &  72520.8333 &  2935.1667\\\\\n",
       "\t 11694 & 230000 & 2 & 2 & 1 & 32 & -2 & -2 & -2 & -2 & ⋯ &   2803 &     0 &    0 &  790 &    0 & 2803 &    0 & 0 &    723.8333 &   598.8333\\\\\n",
       "\t 15576 & 110000 & 1 & 2 & 2 & 55 &  0 &  0 &  0 &  0 & ⋯ & 111719 & 65668 & 4267 & 9455 &    0 & 3991 & 8071 & 1 & 102567.8333 & 15242.0000\\\\\n",
       "\\end{tabular}\n"
      ],
      "text/markdown": [
       "\n",
       "A tibble: 6 × 27\n",
       "\n",
       "| ID &lt;dbl&gt; | limit &lt;dbl&gt; | SEX &lt;dbl&gt; | EDUCATION &lt;dbl&gt; | MARRIAGE &lt;dbl&gt; | AGE &lt;dbl&gt; | PAY_0 &lt;dbl&gt; | PAY_2 &lt;dbl&gt; | PAY_3 &lt;dbl&gt; | PAY_4 &lt;dbl&gt; | ⋯ ⋯ | BILL_AMT6 &lt;dbl&gt; | PAY_AMT1 &lt;dbl&gt; | PAY_AMT2 &lt;dbl&gt; | PAY_AMT3 &lt;dbl&gt; | PAY_AMT4 &lt;dbl&gt; | PAY_AMT5 &lt;dbl&gt; | PAY_AMT6 &lt;dbl&gt; | default_nm &lt;fct&gt; | bill_avg &lt;dbl&gt; | pay_avg &lt;dbl&gt; |\n",
       "|---|---|---|---|---|---|---|---|---|---|---|---|---|---|---|---|---|---|---|---|---|\n",
       "| 13722 |  60000 | 1 | 2 | 2 | 38 |  0 |  0 |  0 |  0 | ⋯ |  39737 |  2014 | 1616 | 1566 | 1700 | 1600 | 1400 | 0 |  41089.1667 |  1649.3333 |\n",
       "| 15000 |  50000 | 1 | 2 | 2 | 28 |  0 |  0 |  0 |  0 | ⋯ |  43863 |  1667 | 1987 | 1655 | 1710 | 1719 | 1616 | 0 |  41618.5000 |  1725.6667 |\n",
       "| 19834 | 210000 | 2 | 2 | 1 | 40 |  0 |  0 |  0 |  0 | ⋯ | 104167 |  4100 | 5000 | 4009 | 3500 | 4000 | 5000 | 0 | 110816.0000 |  4268.1667 |\n",
       "| 10120 |  90000 | 2 | 2 | 2 | 26 |  0 |  0 |  0 |  0 | ⋯ |  73940 |  3300 | 3168 | 3143 | 2700 | 3600 | 1700 | 0 |  72520.8333 |  2935.1667 |\n",
       "| 11694 | 230000 | 2 | 2 | 1 | 32 | -2 | -2 | -2 | -2 | ⋯ |   2803 |     0 |    0 |  790 |    0 | 2803 |    0 | 0 |    723.8333 |   598.8333 |\n",
       "| 15576 | 110000 | 1 | 2 | 2 | 55 |  0 |  0 |  0 |  0 | ⋯ | 111719 | 65668 | 4267 | 9455 |    0 | 3991 | 8071 | 1 | 102567.8333 | 15242.0000 |\n",
       "\n"
      ],
      "text/plain": [
       "  ID    limit  SEX EDUCATION MARRIAGE AGE PAY_0 PAY_2 PAY_3 PAY_4 ⋯ BILL_AMT6\n",
       "1 13722  60000 1   2         2        38   0     0     0     0    ⋯  39737   \n",
       "2 15000  50000 1   2         2        28   0     0     0     0    ⋯  43863   \n",
       "3 19834 210000 2   2         1        40   0     0     0     0    ⋯ 104167   \n",
       "4 10120  90000 2   2         2        26   0     0     0     0    ⋯  73940   \n",
       "5 11694 230000 2   2         1        32  -2    -2    -2    -2    ⋯   2803   \n",
       "6 15576 110000 1   2         2        55   0     0     0     0    ⋯ 111719   \n",
       "  PAY_AMT1 PAY_AMT2 PAY_AMT3 PAY_AMT4 PAY_AMT5 PAY_AMT6 default_nm bill_avg   \n",
       "1  2014    1616     1566     1700     1600     1400     0           41089.1667\n",
       "2  1667    1987     1655     1710     1719     1616     0           41618.5000\n",
       "3  4100    5000     4009     3500     4000     5000     0          110816.0000\n",
       "4  3300    3168     3143     2700     3600     1700     0           72520.8333\n",
       "5     0       0      790        0     2803        0     0             723.8333\n",
       "6 65668    4267     9455        0     3991     8071     1          102567.8333\n",
       "  pay_avg   \n",
       "1  1649.3333\n",
       "2  1725.6667\n",
       "3  4268.1667\n",
       "4  2935.1667\n",
       "5   598.8333\n",
       "6 15242.0000"
      ]
     },
     "metadata": {},
     "output_type": "display_data"
    },
    {
     "data": {
      "text/html": [
       "<table>\n",
       "<caption>A tibble: 6 × 27</caption>\n",
       "<thead>\n",
       "\t<tr><th scope=col>ID</th><th scope=col>limit</th><th scope=col>SEX</th><th scope=col>EDUCATION</th><th scope=col>MARRIAGE</th><th scope=col>AGE</th><th scope=col>PAY_0</th><th scope=col>PAY_2</th><th scope=col>PAY_3</th><th scope=col>PAY_4</th><th scope=col>⋯</th><th scope=col>BILL_AMT6</th><th scope=col>PAY_AMT1</th><th scope=col>PAY_AMT2</th><th scope=col>PAY_AMT3</th><th scope=col>PAY_AMT4</th><th scope=col>PAY_AMT5</th><th scope=col>PAY_AMT6</th><th scope=col>default_nm</th><th scope=col>bill_avg</th><th scope=col>pay_avg</th></tr>\n",
       "\t<tr><th scope=col>&lt;dbl&gt;</th><th scope=col>&lt;dbl&gt;</th><th scope=col>&lt;dbl&gt;</th><th scope=col>&lt;dbl&gt;</th><th scope=col>&lt;dbl&gt;</th><th scope=col>&lt;dbl&gt;</th><th scope=col>&lt;dbl&gt;</th><th scope=col>&lt;dbl&gt;</th><th scope=col>&lt;dbl&gt;</th><th scope=col>&lt;dbl&gt;</th><th scope=col>⋯</th><th scope=col>&lt;dbl&gt;</th><th scope=col>&lt;dbl&gt;</th><th scope=col>&lt;dbl&gt;</th><th scope=col>&lt;dbl&gt;</th><th scope=col>&lt;dbl&gt;</th><th scope=col>&lt;dbl&gt;</th><th scope=col>&lt;dbl&gt;</th><th scope=col>&lt;fct&gt;</th><th scope=col>&lt;dbl&gt;</th><th scope=col>&lt;dbl&gt;</th></tr>\n",
       "</thead>\n",
       "<tbody>\n",
       "\t<tr><td>15614</td><td>120000</td><td>2</td><td>2</td><td>1</td><td>30</td><td> 0</td><td> 0</td><td> 0</td><td> 0</td><td>⋯</td><td>122094</td><td> 4700</td><td> 4400</td><td> 5000</td><td> 4600</td><td>5000</td><td> 4500</td><td>0</td><td>121211.667</td><td> 4700.0000</td></tr>\n",
       "\t<tr><td>10630</td><td>210000</td><td>1</td><td>2</td><td>2</td><td>33</td><td>-1</td><td>-1</td><td>-1</td><td>-1</td><td>⋯</td><td> 43104</td><td>  264</td><td>  264</td><td>  264</td><td>42515</td><td>1559</td><td> 1472</td><td>0</td><td> 14572.500</td><td> 7723.0000</td></tr>\n",
       "\t<tr><td>10627</td><td>390000</td><td>1</td><td>2</td><td>1</td><td>35</td><td> 0</td><td>-1</td><td>-1</td><td> 0</td><td>⋯</td><td> 57954</td><td>15347</td><td>17375</td><td>70077</td><td>15103</td><td>3290</td><td>16153</td><td>0</td><td> 46600.000</td><td>22890.8333</td></tr>\n",
       "\t<tr><td> 5960</td><td> 50000</td><td>2</td><td>2</td><td>2</td><td>24</td><td> 1</td><td> 2</td><td> 0</td><td> 0</td><td>⋯</td><td> 19929</td><td>    0</td><td> 1636</td><td>  700</td><td> 1500</td><td>1000</td><td>  500</td><td>0</td><td> 22903.167</td><td>  889.3333</td></tr>\n",
       "\t<tr><td>21533</td><td> 10000</td><td>2</td><td>2</td><td>2</td><td>23</td><td> 1</td><td> 2</td><td> 3</td><td> 3</td><td>⋯</td><td>  7990</td><td> 2000</td><td> 1000</td><td>    0</td><td>    0</td><td> 500</td><td>  900</td><td>1</td><td>  7465.000</td><td>  733.3333</td></tr>\n",
       "\t<tr><td>26409</td><td>240000</td><td>2</td><td>2</td><td>2</td><td>36</td><td>-1</td><td>-1</td><td>-1</td><td>-1</td><td>⋯</td><td>     0</td><td> 2947</td><td>  297</td><td>    0</td><td>    0</td><td>   0</td><td>    0</td><td>1</td><td>  1194.333</td><td>  540.6667</td></tr>\n",
       "</tbody>\n",
       "</table>\n"
      ],
      "text/latex": [
       "A tibble: 6 × 27\n",
       "\\begin{tabular}{lllllllllllllllllllll}\n",
       " ID & limit & SEX & EDUCATION & MARRIAGE & AGE & PAY\\_0 & PAY\\_2 & PAY\\_3 & PAY\\_4 & ⋯ & BILL\\_AMT6 & PAY\\_AMT1 & PAY\\_AMT2 & PAY\\_AMT3 & PAY\\_AMT4 & PAY\\_AMT5 & PAY\\_AMT6 & default\\_nm & bill\\_avg & pay\\_avg\\\\\n",
       " <dbl> & <dbl> & <dbl> & <dbl> & <dbl> & <dbl> & <dbl> & <dbl> & <dbl> & <dbl> & ⋯ & <dbl> & <dbl> & <dbl> & <dbl> & <dbl> & <dbl> & <dbl> & <fct> & <dbl> & <dbl>\\\\\n",
       "\\hline\n",
       "\t 15614 & 120000 & 2 & 2 & 1 & 30 &  0 &  0 &  0 &  0 & ⋯ & 122094 &  4700 &  4400 &  5000 &  4600 & 5000 &  4500 & 0 & 121211.667 &  4700.0000\\\\\n",
       "\t 10630 & 210000 & 1 & 2 & 2 & 33 & -1 & -1 & -1 & -1 & ⋯ &  43104 &   264 &   264 &   264 & 42515 & 1559 &  1472 & 0 &  14572.500 &  7723.0000\\\\\n",
       "\t 10627 & 390000 & 1 & 2 & 1 & 35 &  0 & -1 & -1 &  0 & ⋯ &  57954 & 15347 & 17375 & 70077 & 15103 & 3290 & 16153 & 0 &  46600.000 & 22890.8333\\\\\n",
       "\t  5960 &  50000 & 2 & 2 & 2 & 24 &  1 &  2 &  0 &  0 & ⋯ &  19929 &     0 &  1636 &   700 &  1500 & 1000 &   500 & 0 &  22903.167 &   889.3333\\\\\n",
       "\t 21533 &  10000 & 2 & 2 & 2 & 23 &  1 &  2 &  3 &  3 & ⋯ &   7990 &  2000 &  1000 &     0 &     0 &  500 &   900 & 1 &   7465.000 &   733.3333\\\\\n",
       "\t 26409 & 240000 & 2 & 2 & 2 & 36 & -1 & -1 & -1 & -1 & ⋯ &      0 &  2947 &   297 &     0 &     0 &    0 &     0 & 1 &   1194.333 &   540.6667\\\\\n",
       "\\end{tabular}\n"
      ],
      "text/markdown": [
       "\n",
       "A tibble: 6 × 27\n",
       "\n",
       "| ID &lt;dbl&gt; | limit &lt;dbl&gt; | SEX &lt;dbl&gt; | EDUCATION &lt;dbl&gt; | MARRIAGE &lt;dbl&gt; | AGE &lt;dbl&gt; | PAY_0 &lt;dbl&gt; | PAY_2 &lt;dbl&gt; | PAY_3 &lt;dbl&gt; | PAY_4 &lt;dbl&gt; | ⋯ ⋯ | BILL_AMT6 &lt;dbl&gt; | PAY_AMT1 &lt;dbl&gt; | PAY_AMT2 &lt;dbl&gt; | PAY_AMT3 &lt;dbl&gt; | PAY_AMT4 &lt;dbl&gt; | PAY_AMT5 &lt;dbl&gt; | PAY_AMT6 &lt;dbl&gt; | default_nm &lt;fct&gt; | bill_avg &lt;dbl&gt; | pay_avg &lt;dbl&gt; |\n",
       "|---|---|---|---|---|---|---|---|---|---|---|---|---|---|---|---|---|---|---|---|---|\n",
       "| 15614 | 120000 | 2 | 2 | 1 | 30 |  0 |  0 |  0 |  0 | ⋯ | 122094 |  4700 |  4400 |  5000 |  4600 | 5000 |  4500 | 0 | 121211.667 |  4700.0000 |\n",
       "| 10630 | 210000 | 1 | 2 | 2 | 33 | -1 | -1 | -1 | -1 | ⋯ |  43104 |   264 |   264 |   264 | 42515 | 1559 |  1472 | 0 |  14572.500 |  7723.0000 |\n",
       "| 10627 | 390000 | 1 | 2 | 1 | 35 |  0 | -1 | -1 |  0 | ⋯ |  57954 | 15347 | 17375 | 70077 | 15103 | 3290 | 16153 | 0 |  46600.000 | 22890.8333 |\n",
       "|  5960 |  50000 | 2 | 2 | 2 | 24 |  1 |  2 |  0 |  0 | ⋯ |  19929 |     0 |  1636 |   700 |  1500 | 1000 |   500 | 0 |  22903.167 |   889.3333 |\n",
       "| 21533 |  10000 | 2 | 2 | 2 | 23 |  1 |  2 |  3 |  3 | ⋯ |   7990 |  2000 |  1000 |     0 |     0 |  500 |   900 | 1 |   7465.000 |   733.3333 |\n",
       "| 26409 | 240000 | 2 | 2 | 2 | 36 | -1 | -1 | -1 | -1 | ⋯ |      0 |  2947 |   297 |     0 |     0 |    0 |     0 | 1 |   1194.333 |   540.6667 |\n",
       "\n"
      ],
      "text/plain": [
       "  ID    limit  SEX EDUCATION MARRIAGE AGE PAY_0 PAY_2 PAY_3 PAY_4 ⋯ BILL_AMT6\n",
       "1 15614 120000 2   2         1        30   0     0     0     0    ⋯ 122094   \n",
       "2 10630 210000 1   2         2        33  -1    -1    -1    -1    ⋯  43104   \n",
       "3 10627 390000 1   2         1        35   0    -1    -1     0    ⋯  57954   \n",
       "4  5960  50000 2   2         2        24   1     2     0     0    ⋯  19929   \n",
       "5 21533  10000 2   2         2        23   1     2     3     3    ⋯   7990   \n",
       "6 26409 240000 2   2         2        36  -1    -1    -1    -1    ⋯      0   \n",
       "  PAY_AMT1 PAY_AMT2 PAY_AMT3 PAY_AMT4 PAY_AMT5 PAY_AMT6 default_nm bill_avg  \n",
       "1  4700     4400     5000     4600    5000      4500    0          121211.667\n",
       "2   264      264      264    42515    1559      1472    0           14572.500\n",
       "3 15347    17375    70077    15103    3290     16153    0           46600.000\n",
       "4     0     1636      700     1500    1000       500    0           22903.167\n",
       "5  2000     1000        0        0     500       900    1            7465.000\n",
       "6  2947      297        0        0       0         0    1            1194.333\n",
       "  pay_avg   \n",
       "1  4700.0000\n",
       "2  7723.0000\n",
       "3 22890.8333\n",
       "4   889.3333\n",
       "5   733.3333\n",
       "6   540.6667"
      ]
     },
     "metadata": {},
     "output_type": "display_data"
    },
    {
     "data": {
      "text/html": [
       "<style>\n",
       ".list-inline {list-style: none; margin:0; padding: 0}\n",
       ".list-inline>li {display: inline-block}\n",
       ".list-inline>li:not(:last-child)::after {content: \"\\00b7\"; padding: 0 .5ex}\n",
       "</style>\n",
       "<ol class=list-inline><li>10000</li><li>27</li></ol>\n"
      ],
      "text/latex": [
       "\\begin{enumerate*}\n",
       "\\item 10000\n",
       "\\item 27\n",
       "\\end{enumerate*}\n"
      ],
      "text/markdown": [
       "1. 10000\n",
       "2. 27\n",
       "\n",
       "\n"
      ],
      "text/plain": [
       "[1] 10000    27"
      ]
     },
     "metadata": {},
     "output_type": "display_data"
    }
   ],
   "source": [
    "#sample 10,000 random rows since load times get very long with too much data\n",
    "cd_sample <- sample_n(cd_university, 10000) %>% # sample 10,000 rows\n",
    "        rename(default_nm = default.payment.next.month, # rename the classification variable \n",
    "                limit = LIMIT_BAL) %>%\n",
    "        mutate(default_nm = as_factor(default_nm), # factor our classsification variable \n",
    "              bill_avg = ((BILL_AMT1 + BILL_AMT2 + BILL_AMT3 + BILL_AMT4 + BILL_AMT5 + BILL_AMT6)/6), # average of bills\n",
    "              pay_avg = ((PAY_AMT1 + PAY_AMT2 + PAY_AMT3 + PAY_AMT4 + PAY_AMT5 + PAY_AMT6)/6)) # average of payments\n",
    "head(cd_sample)\n",
    "tail(cd_sample)\n",
    "dim(cd_sample) # our initial data frame with 10,000 rows and  27 columns"
   ]
  },
  {
   "cell_type": "markdown",
   "metadata": {},
   "source": [
    "We split our data into training (75%) and testing (25%) datasets. 75% of the dataset is chosen for training, because we need much more data for training, and 25% is more than enough for testing our model. We will only use the training set for our exploratory analysis."
   ]
  },
  {
   "cell_type": "code",
   "execution_count": 8,
   "metadata": {},
   "outputs": [],
   "source": [
    "cd_split <- initial_split(cd_sample, prop=0.75, strata=default_nm)\n",
    "cd_training <- training(cd_split)\n",
    "cd_testing <- testing(cd_split)"
   ]
  },
  {
   "cell_type": "markdown",
   "metadata": {},
   "source": [
    "Here, we create our variables of interest. `usage_cdt` and `pmt` represent, on average, the client's bills and payments as a proportion of their available credit card limit."
   ]
  },
  {
   "cell_type": "code",
   "execution_count": 9,
   "metadata": {},
   "outputs": [
    {
     "data": {
      "text/html": [
       "<table>\n",
       "<caption>A tibble: 6 × 32</caption>\n",
       "<thead>\n",
       "\t<tr><th scope=col>ID</th><th scope=col>limit</th><th scope=col>SEX</th><th scope=col>EDUCATION</th><th scope=col>MARRIAGE</th><th scope=col>AGE</th><th scope=col>PAY_0</th><th scope=col>PAY_2</th><th scope=col>PAY_3</th><th scope=col>PAY_4</th><th scope=col>⋯</th><th scope=col>PAY_AMT5</th><th scope=col>PAY_AMT6</th><th scope=col>default_nm</th><th scope=col>bill_avg</th><th scope=col>pay_avg</th><th scope=col>payment_to_bill_ratio</th><th scope=col>usage_cdt</th><th scope=col>pmt</th><th scope=col>diff_usage_pmt</th><th scope=col>pay_overall</th></tr>\n",
       "\t<tr><th scope=col>&lt;dbl&gt;</th><th scope=col>&lt;dbl&gt;</th><th scope=col>&lt;dbl&gt;</th><th scope=col>&lt;dbl&gt;</th><th scope=col>&lt;dbl&gt;</th><th scope=col>&lt;dbl&gt;</th><th scope=col>&lt;dbl&gt;</th><th scope=col>&lt;dbl&gt;</th><th scope=col>&lt;dbl&gt;</th><th scope=col>&lt;dbl&gt;</th><th scope=col>⋯</th><th scope=col>&lt;dbl&gt;</th><th scope=col>&lt;dbl&gt;</th><th scope=col>&lt;fct&gt;</th><th scope=col>&lt;dbl&gt;</th><th scope=col>&lt;dbl&gt;</th><th scope=col>&lt;dbl&gt;</th><th scope=col>&lt;dbl&gt;</th><th scope=col>&lt;dbl&gt;</th><th scope=col>&lt;dbl&gt;</th><th scope=col>&lt;dbl&gt;</th></tr>\n",
       "</thead>\n",
       "<tbody>\n",
       "\t<tr><td>13722</td><td> 60000</td><td>1</td><td>2</td><td>2</td><td>38</td><td>0</td><td>0</td><td> 0</td><td> 0</td><td>⋯</td><td> 1600</td><td>1400</td><td>0</td><td> 41089.167</td><td> 1649.3333</td><td>0.04014035</td><td>0.6848194</td><td>0.02748889</td><td>0.6573306</td><td> 0</td></tr>\n",
       "\t<tr><td>19834</td><td>210000</td><td>2</td><td>2</td><td>1</td><td>40</td><td>0</td><td>0</td><td> 0</td><td> 0</td><td>⋯</td><td> 4000</td><td>5000</td><td>0</td><td>110816.000</td><td> 4268.1667</td><td>0.03851580</td><td>0.5276952</td><td>0.02032460</td><td>0.5073706</td><td> 0</td></tr>\n",
       "\t<tr><td>10120</td><td> 90000</td><td>2</td><td>2</td><td>2</td><td>26</td><td>0</td><td>0</td><td> 0</td><td> 0</td><td>⋯</td><td> 3600</td><td>1700</td><td>0</td><td> 72520.833</td><td> 2935.1667</td><td>0.04047343</td><td>0.8057870</td><td>0.03261296</td><td>0.7731741</td><td> 4</td></tr>\n",
       "\t<tr><td>15576</td><td>110000</td><td>1</td><td>2</td><td>2</td><td>55</td><td>0</td><td>0</td><td> 0</td><td> 0</td><td>⋯</td><td> 3991</td><td>8071</td><td>1</td><td>102567.833</td><td>15242.0000</td><td>0.14860409</td><td>0.9324348</td><td>0.13856364</td><td>0.7938712</td><td> 2</td></tr>\n",
       "\t<tr><td> 7755</td><td> 20000</td><td>1</td><td>2</td><td>2</td><td>22</td><td>0</td><td>0</td><td>-2</td><td>-2</td><td>⋯</td><td>  601</td><td>   0</td><td>0</td><td>  2977.833</td><td>  773.8333</td><td>0.25986455</td><td>0.1488917</td><td>0.03869167</td><td>0.1102000</td><td>-6</td></tr>\n",
       "\t<tr><td> 1635</td><td>170000</td><td>2</td><td>2</td><td>1</td><td>50</td><td>0</td><td>0</td><td> 0</td><td> 0</td><td>⋯</td><td>39321</td><td>1390</td><td>0</td><td>115828.833</td><td> 9804.8333</td><td>0.08464933</td><td>0.6813461</td><td>0.05767549</td><td>0.6236706</td><td> 0</td></tr>\n",
       "</tbody>\n",
       "</table>\n"
      ],
      "text/latex": [
       "A tibble: 6 × 32\n",
       "\\begin{tabular}{lllllllllllllllllllll}\n",
       " ID & limit & SEX & EDUCATION & MARRIAGE & AGE & PAY\\_0 & PAY\\_2 & PAY\\_3 & PAY\\_4 & ⋯ & PAY\\_AMT5 & PAY\\_AMT6 & default\\_nm & bill\\_avg & pay\\_avg & payment\\_to\\_bill\\_ratio & usage\\_cdt & pmt & diff\\_usage\\_pmt & pay\\_overall\\\\\n",
       " <dbl> & <dbl> & <dbl> & <dbl> & <dbl> & <dbl> & <dbl> & <dbl> & <dbl> & <dbl> & ⋯ & <dbl> & <dbl> & <fct> & <dbl> & <dbl> & <dbl> & <dbl> & <dbl> & <dbl> & <dbl>\\\\\n",
       "\\hline\n",
       "\t 13722 &  60000 & 1 & 2 & 2 & 38 & 0 & 0 &  0 &  0 & ⋯ &  1600 & 1400 & 0 &  41089.167 &  1649.3333 & 0.04014035 & 0.6848194 & 0.02748889 & 0.6573306 &  0\\\\\n",
       "\t 19834 & 210000 & 2 & 2 & 1 & 40 & 0 & 0 &  0 &  0 & ⋯ &  4000 & 5000 & 0 & 110816.000 &  4268.1667 & 0.03851580 & 0.5276952 & 0.02032460 & 0.5073706 &  0\\\\\n",
       "\t 10120 &  90000 & 2 & 2 & 2 & 26 & 0 & 0 &  0 &  0 & ⋯ &  3600 & 1700 & 0 &  72520.833 &  2935.1667 & 0.04047343 & 0.8057870 & 0.03261296 & 0.7731741 &  4\\\\\n",
       "\t 15576 & 110000 & 1 & 2 & 2 & 55 & 0 & 0 &  0 &  0 & ⋯ &  3991 & 8071 & 1 & 102567.833 & 15242.0000 & 0.14860409 & 0.9324348 & 0.13856364 & 0.7938712 &  2\\\\\n",
       "\t  7755 &  20000 & 1 & 2 & 2 & 22 & 0 & 0 & -2 & -2 & ⋯ &   601 &    0 & 0 &   2977.833 &   773.8333 & 0.25986455 & 0.1488917 & 0.03869167 & 0.1102000 & -6\\\\\n",
       "\t  1635 & 170000 & 2 & 2 & 1 & 50 & 0 & 0 &  0 &  0 & ⋯ & 39321 & 1390 & 0 & 115828.833 &  9804.8333 & 0.08464933 & 0.6813461 & 0.05767549 & 0.6236706 &  0\\\\\n",
       "\\end{tabular}\n"
      ],
      "text/markdown": [
       "\n",
       "A tibble: 6 × 32\n",
       "\n",
       "| ID &lt;dbl&gt; | limit &lt;dbl&gt; | SEX &lt;dbl&gt; | EDUCATION &lt;dbl&gt; | MARRIAGE &lt;dbl&gt; | AGE &lt;dbl&gt; | PAY_0 &lt;dbl&gt; | PAY_2 &lt;dbl&gt; | PAY_3 &lt;dbl&gt; | PAY_4 &lt;dbl&gt; | ⋯ ⋯ | PAY_AMT5 &lt;dbl&gt; | PAY_AMT6 &lt;dbl&gt; | default_nm &lt;fct&gt; | bill_avg &lt;dbl&gt; | pay_avg &lt;dbl&gt; | payment_to_bill_ratio &lt;dbl&gt; | usage_cdt &lt;dbl&gt; | pmt &lt;dbl&gt; | diff_usage_pmt &lt;dbl&gt; | pay_overall &lt;dbl&gt; |\n",
       "|---|---|---|---|---|---|---|---|---|---|---|---|---|---|---|---|---|---|---|---|---|\n",
       "| 13722 |  60000 | 1 | 2 | 2 | 38 | 0 | 0 |  0 |  0 | ⋯ |  1600 | 1400 | 0 |  41089.167 |  1649.3333 | 0.04014035 | 0.6848194 | 0.02748889 | 0.6573306 |  0 |\n",
       "| 19834 | 210000 | 2 | 2 | 1 | 40 | 0 | 0 |  0 |  0 | ⋯ |  4000 | 5000 | 0 | 110816.000 |  4268.1667 | 0.03851580 | 0.5276952 | 0.02032460 | 0.5073706 |  0 |\n",
       "| 10120 |  90000 | 2 | 2 | 2 | 26 | 0 | 0 |  0 |  0 | ⋯ |  3600 | 1700 | 0 |  72520.833 |  2935.1667 | 0.04047343 | 0.8057870 | 0.03261296 | 0.7731741 |  4 |\n",
       "| 15576 | 110000 | 1 | 2 | 2 | 55 | 0 | 0 |  0 |  0 | ⋯ |  3991 | 8071 | 1 | 102567.833 | 15242.0000 | 0.14860409 | 0.9324348 | 0.13856364 | 0.7938712 |  2 |\n",
       "|  7755 |  20000 | 1 | 2 | 2 | 22 | 0 | 0 | -2 | -2 | ⋯ |   601 |    0 | 0 |   2977.833 |   773.8333 | 0.25986455 | 0.1488917 | 0.03869167 | 0.1102000 | -6 |\n",
       "|  1635 | 170000 | 2 | 2 | 1 | 50 | 0 | 0 |  0 |  0 | ⋯ | 39321 | 1390 | 0 | 115828.833 |  9804.8333 | 0.08464933 | 0.6813461 | 0.05767549 | 0.6236706 |  0 |\n",
       "\n"
      ],
      "text/plain": [
       "  ID    limit  SEX EDUCATION MARRIAGE AGE PAY_0 PAY_2 PAY_3 PAY_4 ⋯ PAY_AMT5\n",
       "1 13722  60000 1   2         2        38  0     0      0     0    ⋯  1600   \n",
       "2 19834 210000 2   2         1        40  0     0      0     0    ⋯  4000   \n",
       "3 10120  90000 2   2         2        26  0     0      0     0    ⋯  3600   \n",
       "4 15576 110000 1   2         2        55  0     0      0     0    ⋯  3991   \n",
       "5  7755  20000 1   2         2        22  0     0     -2    -2    ⋯   601   \n",
       "6  1635 170000 2   2         1        50  0     0      0     0    ⋯ 39321   \n",
       "  PAY_AMT6 default_nm bill_avg   pay_avg    payment_to_bill_ratio usage_cdt\n",
       "1 1400     0           41089.167  1649.3333 0.04014035            0.6848194\n",
       "2 5000     0          110816.000  4268.1667 0.03851580            0.5276952\n",
       "3 1700     0           72520.833  2935.1667 0.04047343            0.8057870\n",
       "4 8071     1          102567.833 15242.0000 0.14860409            0.9324348\n",
       "5    0     0            2977.833   773.8333 0.25986455            0.1488917\n",
       "6 1390     0          115828.833  9804.8333 0.08464933            0.6813461\n",
       "  pmt        diff_usage_pmt pay_overall\n",
       "1 0.02748889 0.6573306       0         \n",
       "2 0.02032460 0.5073706       0         \n",
       "3 0.03261296 0.7731741       4         \n",
       "4 0.13856364 0.7938712       2         \n",
       "5 0.03869167 0.1102000      -6         \n",
       "6 0.05767549 0.6236706       0         "
      ]
     },
     "metadata": {},
     "output_type": "display_data"
    }
   ],
   "source": [
    "cd_training <- cd_training %>%\n",
    "        mutate(payment_to_bill_ratio = pay_avg/bill_avg) %>%  # the ratio of their average payment to average bill    \n",
    "        mutate(usage_cdt = bill_avg/limit) %>% # to see how much of their balance they use \n",
    "        mutate(pmt = pay_avg/limit) %>% # to see how much of their balance they pay\n",
    "        mutate(diff_usage_pmt = usage_cdt - pmt) %>%\n",
    "        mutate(pay_overall = PAY_0 + PAY_2 + PAY_3 + PAY_4 + PAY_5 + PAY_6) # to see how many months they are behind in 6 months period, if x positive means you are behind payment, if x negative means pay dully   \n",
    "head(cd_training)"
   ]
  },
  {
   "cell_type": "markdown",
   "metadata": {},
   "source": [
    "The table below is created depending on default status where 1 represents default and 0 indicates non-default status. `mean_pay0` represents the average number of payments that are owed or have been paid for the two groups in the last period of available data. Negative values indicate the average client is ahead on payments and positive indicates they are behind. \n",
    "\n",
    "`mean_diff_usage_pmt` measures the average difference between the ratio of bills to limit and payments to limit. In theory, the greater the difference, the more an individual is spending and the less they are paying. Notice that credit limit for the non-default group is significantly larger but the average bill only slightly larger compared to those who default. This means those in the default group use, on average, a larger proportion of their available credit."
   ]
  },
  {
   "cell_type": "code",
   "execution_count": 13,
   "metadata": {},
   "outputs": [
    {
     "name": "stderr",
     "output_type": "stream",
     "text": [
      "`summarise()` ungrouping output (override with `.groups` argument)\n",
      "\n"
     ]
    },
    {
     "data": {
      "text/html": [
       "<table>\n",
       "<caption>A tibble: 2 × 10</caption>\n",
       "<thead>\n",
       "\t<tr><th scope=col>default_nm</th><th scope=col>n</th><th scope=col>mean_pay0</th><th scope=col>mean_limit</th><th scope=col>mean_bill</th><th scope=col>mean_pay</th><th scope=col>mean_usage_cdt</th><th scope=col>mean_pmt</th><th scope=col>mean_diff_usage_pmt</th><th scope=col>mean_pay_overall</th></tr>\n",
       "\t<tr><th scope=col>&lt;fct&gt;</th><th scope=col>&lt;int&gt;</th><th scope=col>&lt;dbl&gt;</th><th scope=col>&lt;dbl&gt;</th><th scope=col>&lt;dbl&gt;</th><th scope=col>&lt;dbl&gt;</th><th scope=col>&lt;dbl&gt;</th><th scope=col>&lt;dbl&gt;</th><th scope=col>&lt;dbl&gt;</th><th scope=col>&lt;dbl&gt;</th></tr>\n",
       "</thead>\n",
       "<tbody>\n",
       "\t<tr><td>0</td><td>5704</td><td>-0.1127279</td><td>156730.4</td><td>47404.96</td><td>5194.716</td><td>0.4089096</td><td>0.04207490</td><td>0.3668347</td><td>-1.247370</td></tr>\n",
       "\t<tr><td>1</td><td>1797</td><td> 0.7929883</td><td>110690.0</td><td>44686.14</td><td>3065.971</td><td>0.5065064</td><td>0.03713626</td><td>0.4693702</td><td> 2.935448</td></tr>\n",
       "</tbody>\n",
       "</table>\n"
      ],
      "text/latex": [
       "A tibble: 2 × 10\n",
       "\\begin{tabular}{llllllllll}\n",
       " default\\_nm & n & mean\\_pay0 & mean\\_limit & mean\\_bill & mean\\_pay & mean\\_usage\\_cdt & mean\\_pmt & mean\\_diff\\_usage\\_pmt & mean\\_pay\\_overall\\\\\n",
       " <fct> & <int> & <dbl> & <dbl> & <dbl> & <dbl> & <dbl> & <dbl> & <dbl> & <dbl>\\\\\n",
       "\\hline\n",
       "\t 0 & 5704 & -0.1127279 & 156730.4 & 47404.96 & 5194.716 & 0.4089096 & 0.04207490 & 0.3668347 & -1.247370\\\\\n",
       "\t 1 & 1797 &  0.7929883 & 110690.0 & 44686.14 & 3065.971 & 0.5065064 & 0.03713626 & 0.4693702 &  2.935448\\\\\n",
       "\\end{tabular}\n"
      ],
      "text/markdown": [
       "\n",
       "A tibble: 2 × 10\n",
       "\n",
       "| default_nm &lt;fct&gt; | n &lt;int&gt; | mean_pay0 &lt;dbl&gt; | mean_limit &lt;dbl&gt; | mean_bill &lt;dbl&gt; | mean_pay &lt;dbl&gt; | mean_usage_cdt &lt;dbl&gt; | mean_pmt &lt;dbl&gt; | mean_diff_usage_pmt &lt;dbl&gt; | mean_pay_overall &lt;dbl&gt; |\n",
       "|---|---|---|---|---|---|---|---|---|---|\n",
       "| 0 | 5704 | -0.1127279 | 156730.4 | 47404.96 | 5194.716 | 0.4089096 | 0.04207490 | 0.3668347 | -1.247370 |\n",
       "| 1 | 1797 |  0.7929883 | 110690.0 | 44686.14 | 3065.971 | 0.5065064 | 0.03713626 | 0.4693702 |  2.935448 |\n",
       "\n"
      ],
      "text/plain": [
       "  default_nm n    mean_pay0  mean_limit mean_bill mean_pay mean_usage_cdt\n",
       "1 0          5704 -0.1127279 156730.4   47404.96  5194.716 0.4089096     \n",
       "2 1          1797  0.7929883 110690.0   44686.14  3065.971 0.5065064     \n",
       "  mean_pmt   mean_diff_usage_pmt mean_pay_overall\n",
       "1 0.04207490 0.3668347           -1.247370       \n",
       "2 0.03713626 0.4693702            2.935448       "
      ]
     },
     "metadata": {},
     "output_type": "display_data"
    }
   ],
   "source": [
    "cd_training_means <- cd_training %>%\n",
    "                group_by(default_nm) %>%\n",
    "                summarize(n = n(),\n",
    "                         mean_pay0 = mean(PAY_0, na.rm = TRUE), # to see the means for PAY_0\n",
    "                         mean_limit = mean(limit, na.rm = TRUE), # to see the means for limit\n",
    "                         mean_bill = mean(bill_avg, na.rm = TRUE),\n",
    "                         mean_pay = mean(pay_avg, na.rm = TRUE),\n",
    "                         mean_usage_cdt = mean(usage_cdt, na.rm = TRUE),\n",
    "                         mean_pmt = mean(pmt, na.rm = TRUE),\n",
    "                         mean_diff_usage_pmt = mean(diff_usage_pmt, na.rm = TRUE),\n",
    "                         mean_pay_overall = mean(pay_overall, na.rm = TRUE)\n",
    "                         )\n",
    "cd_training_means"
   ]
  },
  {
   "cell_type": "markdown",
   "metadata": {},
   "source": [
    "We can analyze some of the columns we created by selecting the variables of interest. "
   ]
  },
  {
   "cell_type": "code",
   "execution_count": 14,
   "metadata": {},
   "outputs": [
    {
     "data": {
      "text/html": [
       "<table>\n",
       "<caption>A tibble: 6 × 9</caption>\n",
       "<thead>\n",
       "\t<tr><th scope=col>limit</th><th scope=col>PAY_0</th><th scope=col>bill_avg</th><th scope=col>pay_avg</th><th scope=col>usage_cdt</th><th scope=col>pmt</th><th scope=col>diff_usage_pmt</th><th scope=col>pay_overall</th><th scope=col>default_nm</th></tr>\n",
       "\t<tr><th scope=col>&lt;dbl&gt;</th><th scope=col>&lt;dbl&gt;</th><th scope=col>&lt;dbl&gt;</th><th scope=col>&lt;dbl&gt;</th><th scope=col>&lt;dbl&gt;</th><th scope=col>&lt;dbl&gt;</th><th scope=col>&lt;dbl&gt;</th><th scope=col>&lt;dbl&gt;</th><th scope=col>&lt;fct&gt;</th></tr>\n",
       "</thead>\n",
       "<tbody>\n",
       "\t<tr><td> 60000</td><td>0</td><td> 41089.167</td><td> 1649.3333</td><td>0.6848194</td><td>0.02748889</td><td>0.6573306</td><td> 0</td><td>0</td></tr>\n",
       "\t<tr><td>210000</td><td>0</td><td>110816.000</td><td> 4268.1667</td><td>0.5276952</td><td>0.02032460</td><td>0.5073706</td><td> 0</td><td>0</td></tr>\n",
       "\t<tr><td> 90000</td><td>0</td><td> 72520.833</td><td> 2935.1667</td><td>0.8057870</td><td>0.03261296</td><td>0.7731741</td><td> 4</td><td>0</td></tr>\n",
       "\t<tr><td>110000</td><td>0</td><td>102567.833</td><td>15242.0000</td><td>0.9324348</td><td>0.13856364</td><td>0.7938712</td><td> 2</td><td>1</td></tr>\n",
       "\t<tr><td> 20000</td><td>0</td><td>  2977.833</td><td>  773.8333</td><td>0.1488917</td><td>0.03869167</td><td>0.1102000</td><td>-6</td><td>0</td></tr>\n",
       "\t<tr><td>170000</td><td>0</td><td>115828.833</td><td> 9804.8333</td><td>0.6813461</td><td>0.05767549</td><td>0.6236706</td><td> 0</td><td>0</td></tr>\n",
       "</tbody>\n",
       "</table>\n"
      ],
      "text/latex": [
       "A tibble: 6 × 9\n",
       "\\begin{tabular}{lllllllll}\n",
       " limit & PAY\\_0 & bill\\_avg & pay\\_avg & usage\\_cdt & pmt & diff\\_usage\\_pmt & pay\\_overall & default\\_nm\\\\\n",
       " <dbl> & <dbl> & <dbl> & <dbl> & <dbl> & <dbl> & <dbl> & <dbl> & <fct>\\\\\n",
       "\\hline\n",
       "\t  60000 & 0 &  41089.167 &  1649.3333 & 0.6848194 & 0.02748889 & 0.6573306 &  0 & 0\\\\\n",
       "\t 210000 & 0 & 110816.000 &  4268.1667 & 0.5276952 & 0.02032460 & 0.5073706 &  0 & 0\\\\\n",
       "\t  90000 & 0 &  72520.833 &  2935.1667 & 0.8057870 & 0.03261296 & 0.7731741 &  4 & 0\\\\\n",
       "\t 110000 & 0 & 102567.833 & 15242.0000 & 0.9324348 & 0.13856364 & 0.7938712 &  2 & 1\\\\\n",
       "\t  20000 & 0 &   2977.833 &   773.8333 & 0.1488917 & 0.03869167 & 0.1102000 & -6 & 0\\\\\n",
       "\t 170000 & 0 & 115828.833 &  9804.8333 & 0.6813461 & 0.05767549 & 0.6236706 &  0 & 0\\\\\n",
       "\\end{tabular}\n"
      ],
      "text/markdown": [
       "\n",
       "A tibble: 6 × 9\n",
       "\n",
       "| limit &lt;dbl&gt; | PAY_0 &lt;dbl&gt; | bill_avg &lt;dbl&gt; | pay_avg &lt;dbl&gt; | usage_cdt &lt;dbl&gt; | pmt &lt;dbl&gt; | diff_usage_pmt &lt;dbl&gt; | pay_overall &lt;dbl&gt; | default_nm &lt;fct&gt; |\n",
       "|---|---|---|---|---|---|---|---|---|\n",
       "|  60000 | 0 |  41089.167 |  1649.3333 | 0.6848194 | 0.02748889 | 0.6573306 |  0 | 0 |\n",
       "| 210000 | 0 | 110816.000 |  4268.1667 | 0.5276952 | 0.02032460 | 0.5073706 |  0 | 0 |\n",
       "|  90000 | 0 |  72520.833 |  2935.1667 | 0.8057870 | 0.03261296 | 0.7731741 |  4 | 0 |\n",
       "| 110000 | 0 | 102567.833 | 15242.0000 | 0.9324348 | 0.13856364 | 0.7938712 |  2 | 1 |\n",
       "|  20000 | 0 |   2977.833 |   773.8333 | 0.1488917 | 0.03869167 | 0.1102000 | -6 | 0 |\n",
       "| 170000 | 0 | 115828.833 |  9804.8333 | 0.6813461 | 0.05767549 | 0.6236706 |  0 | 0 |\n",
       "\n"
      ],
      "text/plain": [
       "  limit  PAY_0 bill_avg   pay_avg    usage_cdt pmt        diff_usage_pmt\n",
       "1  60000 0      41089.167  1649.3333 0.6848194 0.02748889 0.6573306     \n",
       "2 210000 0     110816.000  4268.1667 0.5276952 0.02032460 0.5073706     \n",
       "3  90000 0      72520.833  2935.1667 0.8057870 0.03261296 0.7731741     \n",
       "4 110000 0     102567.833 15242.0000 0.9324348 0.13856364 0.7938712     \n",
       "5  20000 0       2977.833   773.8333 0.1488917 0.03869167 0.1102000     \n",
       "6 170000 0     115828.833  9804.8333 0.6813461 0.05767549 0.6236706     \n",
       "  pay_overall default_nm\n",
       "1  0          0         \n",
       "2  0          0         \n",
       "3  4          0         \n",
       "4  2          1         \n",
       "5 -6          0         \n",
       "6  0          0         "
      ]
     },
     "metadata": {},
     "output_type": "display_data"
    }
   ],
   "source": [
    "cd_training_select <- cd_training %>%\n",
    "                select(limit, PAY_0, bill_avg, pay_avg, usage_cdt, pmt, diff_usage_pmt, pay_overall, default_nm)\n",
    "head(cd_training_select) "
   ]
  },
  {
   "cell_type": "code",
   "execution_count": null,
   "metadata": {},
   "outputs": [],
   "source": []
  },
  {
   "cell_type": "code",
   "execution_count": null,
   "metadata": {},
   "outputs": [],
   "source": []
  },
  {
   "cell_type": "code",
   "execution_count": null,
   "metadata": {},
   "outputs": [],
   "source": [
    "usage_cdt = ((BILL_AMT1 + BILL_AMT2 + BILL_AMT3 + BILL_AMT4 + BILL_AMT5 + BILL_AMT6)/6)/limit, # column that measures average proportion of credit limit that is used over the time period\n",
    "              pmt = ((PAY_AMT1 + PAY_AMT2 + PAY_AMT3 + PAY_AMT4 + PAY_AMT5 + PAY_AMT6)/6)/limit) %>% # column that measures average proportion of credit limit that is paid over the time period\n",
    "\n",
    "select(-ID, -SEX, -EDUCATION, -MARRIAGE, -AGE)\n",
    "head(cd_sample)\n",
    "tail(cd_sample)"
   ]
  },
  {
   "cell_type": "markdown",
   "metadata": {},
   "source": [
    "SPLIT TESTTT"
   ]
  },
  {
   "cell_type": "code",
   "execution_count": null,
   "metadata": {},
   "outputs": [],
   "source": []
  },
  {
   "cell_type": "code",
   "execution_count": 8,
   "metadata": {},
   "outputs": [
    {
     "data": {
      "text/html": [
       "<table>\n",
       "<caption>A tibble: 6 × 27</caption>\n",
       "<thead>\n",
       "\t<tr><th scope=col>ID</th><th scope=col>LIMIT_BAL</th><th scope=col>SEX</th><th scope=col>EDUCATION</th><th scope=col>MARRIAGE</th><th scope=col>AGE</th><th scope=col>PAY_0</th><th scope=col>PAY_2</th><th scope=col>PAY_3</th><th scope=col>PAY_4</th><th scope=col>⋯</th><th scope=col>BILL_AMT6</th><th scope=col>PAY_AMT1</th><th scope=col>PAY_AMT2</th><th scope=col>PAY_AMT3</th><th scope=col>PAY_AMT4</th><th scope=col>PAY_AMT5</th><th scope=col>PAY_AMT6</th><th scope=col>default_nm</th><th scope=col>pay_avg</th><th scope=col>bill_avg</th></tr>\n",
       "\t<tr><th scope=col>&lt;dbl&gt;</th><th scope=col>&lt;dbl&gt;</th><th scope=col>&lt;dbl&gt;</th><th scope=col>&lt;dbl&gt;</th><th scope=col>&lt;dbl&gt;</th><th scope=col>&lt;dbl&gt;</th><th scope=col>&lt;dbl&gt;</th><th scope=col>&lt;dbl&gt;</th><th scope=col>&lt;dbl&gt;</th><th scope=col>&lt;dbl&gt;</th><th scope=col>⋯</th><th scope=col>&lt;dbl&gt;</th><th scope=col>&lt;dbl&gt;</th><th scope=col>&lt;dbl&gt;</th><th scope=col>&lt;dbl&gt;</th><th scope=col>&lt;dbl&gt;</th><th scope=col>&lt;dbl&gt;</th><th scope=col>&lt;dbl&gt;</th><th scope=col>&lt;fct&gt;</th><th scope=col>&lt;dbl&gt;</th><th scope=col>&lt;dbl&gt;</th></tr>\n",
       "</thead>\n",
       "<tbody>\n",
       "\t<tr><td>1</td><td> 20000</td><td>2</td><td>2</td><td>1</td><td>24</td><td> 2</td><td> 2</td><td>-1</td><td>-1</td><td>⋯</td><td>    0</td><td>   0</td><td>  689</td><td>    0</td><td>   0</td><td>   0</td><td>   0</td><td>1</td><td> 114.8333</td><td>  7704</td></tr>\n",
       "\t<tr><td>2</td><td>120000</td><td>2</td><td>2</td><td>2</td><td>26</td><td>-1</td><td> 2</td><td> 0</td><td> 0</td><td>⋯</td><td> 3261</td><td>   0</td><td> 1000</td><td> 1000</td><td>1000</td><td>   0</td><td>2000</td><td>1</td><td> 833.3333</td><td> 17077</td></tr>\n",
       "\t<tr><td>3</td><td> 90000</td><td>2</td><td>2</td><td>2</td><td>34</td><td> 0</td><td> 0</td><td> 0</td><td> 0</td><td>⋯</td><td>15549</td><td>1518</td><td> 1500</td><td> 1000</td><td>1000</td><td>1000</td><td>5000</td><td>0</td><td>1836.3333</td><td>101653</td></tr>\n",
       "\t<tr><td>4</td><td> 50000</td><td>2</td><td>2</td><td>1</td><td>37</td><td> 0</td><td> 0</td><td> 0</td><td> 0</td><td>⋯</td><td>29547</td><td>2000</td><td> 2019</td><td> 1200</td><td>1100</td><td>1069</td><td>1000</td><td>0</td><td>1398.0000</td><td>231334</td></tr>\n",
       "\t<tr><td>5</td><td> 50000</td><td>1</td><td>2</td><td>1</td><td>57</td><td>-1</td><td> 0</td><td>-1</td><td> 0</td><td>⋯</td><td>19131</td><td>2000</td><td>36681</td><td>10000</td><td>9000</td><td> 689</td><td> 679</td><td>0</td><td>9841.5000</td><td>109339</td></tr>\n",
       "\t<tr><td>8</td><td>100000</td><td>2</td><td>2</td><td>2</td><td>23</td><td> 0</td><td>-1</td><td>-1</td><td> 0</td><td>⋯</td><td>  567</td><td> 380</td><td>  601</td><td>    0</td><td> 581</td><td>1687</td><td>1542</td><td>0</td><td> 798.5000</td><td> 13486</td></tr>\n",
       "</tbody>\n",
       "</table>\n"
      ],
      "text/latex": [
       "A tibble: 6 × 27\n",
       "\\begin{tabular}{lllllllllllllllllllll}\n",
       " ID & LIMIT\\_BAL & SEX & EDUCATION & MARRIAGE & AGE & PAY\\_0 & PAY\\_2 & PAY\\_3 & PAY\\_4 & ⋯ & BILL\\_AMT6 & PAY\\_AMT1 & PAY\\_AMT2 & PAY\\_AMT3 & PAY\\_AMT4 & PAY\\_AMT5 & PAY\\_AMT6 & default\\_nm & pay\\_avg & bill\\_avg\\\\\n",
       " <dbl> & <dbl> & <dbl> & <dbl> & <dbl> & <dbl> & <dbl> & <dbl> & <dbl> & <dbl> & ⋯ & <dbl> & <dbl> & <dbl> & <dbl> & <dbl> & <dbl> & <dbl> & <fct> & <dbl> & <dbl>\\\\\n",
       "\\hline\n",
       "\t 1 &  20000 & 2 & 2 & 1 & 24 &  2 &  2 & -1 & -1 & ⋯ &     0 &    0 &   689 &     0 &    0 &    0 &    0 & 1 &  114.8333 &   7704\\\\\n",
       "\t 2 & 120000 & 2 & 2 & 2 & 26 & -1 &  2 &  0 &  0 & ⋯ &  3261 &    0 &  1000 &  1000 & 1000 &    0 & 2000 & 1 &  833.3333 &  17077\\\\\n",
       "\t 3 &  90000 & 2 & 2 & 2 & 34 &  0 &  0 &  0 &  0 & ⋯ & 15549 & 1518 &  1500 &  1000 & 1000 & 1000 & 5000 & 0 & 1836.3333 & 101653\\\\\n",
       "\t 4 &  50000 & 2 & 2 & 1 & 37 &  0 &  0 &  0 &  0 & ⋯ & 29547 & 2000 &  2019 &  1200 & 1100 & 1069 & 1000 & 0 & 1398.0000 & 231334\\\\\n",
       "\t 5 &  50000 & 1 & 2 & 1 & 57 & -1 &  0 & -1 &  0 & ⋯ & 19131 & 2000 & 36681 & 10000 & 9000 &  689 &  679 & 0 & 9841.5000 & 109339\\\\\n",
       "\t 8 & 100000 & 2 & 2 & 2 & 23 &  0 & -1 & -1 &  0 & ⋯ &   567 &  380 &   601 &     0 &  581 & 1687 & 1542 & 0 &  798.5000 &  13486\\\\\n",
       "\\end{tabular}\n"
      ],
      "text/markdown": [
       "\n",
       "A tibble: 6 × 27\n",
       "\n",
       "| ID &lt;dbl&gt; | LIMIT_BAL &lt;dbl&gt; | SEX &lt;dbl&gt; | EDUCATION &lt;dbl&gt; | MARRIAGE &lt;dbl&gt; | AGE &lt;dbl&gt; | PAY_0 &lt;dbl&gt; | PAY_2 &lt;dbl&gt; | PAY_3 &lt;dbl&gt; | PAY_4 &lt;dbl&gt; | ⋯ ⋯ | BILL_AMT6 &lt;dbl&gt; | PAY_AMT1 &lt;dbl&gt; | PAY_AMT2 &lt;dbl&gt; | PAY_AMT3 &lt;dbl&gt; | PAY_AMT4 &lt;dbl&gt; | PAY_AMT5 &lt;dbl&gt; | PAY_AMT6 &lt;dbl&gt; | default_nm &lt;fct&gt; | pay_avg &lt;dbl&gt; | bill_avg &lt;dbl&gt; |\n",
       "|---|---|---|---|---|---|---|---|---|---|---|---|---|---|---|---|---|---|---|---|---|\n",
       "| 1 |  20000 | 2 | 2 | 1 | 24 |  2 |  2 | -1 | -1 | ⋯ |     0 |    0 |   689 |     0 |    0 |    0 |    0 | 1 |  114.8333 |   7704 |\n",
       "| 2 | 120000 | 2 | 2 | 2 | 26 | -1 |  2 |  0 |  0 | ⋯ |  3261 |    0 |  1000 |  1000 | 1000 |    0 | 2000 | 1 |  833.3333 |  17077 |\n",
       "| 3 |  90000 | 2 | 2 | 2 | 34 |  0 |  0 |  0 |  0 | ⋯ | 15549 | 1518 |  1500 |  1000 | 1000 | 1000 | 5000 | 0 | 1836.3333 | 101653 |\n",
       "| 4 |  50000 | 2 | 2 | 1 | 37 |  0 |  0 |  0 |  0 | ⋯ | 29547 | 2000 |  2019 |  1200 | 1100 | 1069 | 1000 | 0 | 1398.0000 | 231334 |\n",
       "| 5 |  50000 | 1 | 2 | 1 | 57 | -1 |  0 | -1 |  0 | ⋯ | 19131 | 2000 | 36681 | 10000 | 9000 |  689 |  679 | 0 | 9841.5000 | 109339 |\n",
       "| 8 | 100000 | 2 | 2 | 2 | 23 |  0 | -1 | -1 |  0 | ⋯ |   567 |  380 |   601 |     0 |  581 | 1687 | 1542 | 0 |  798.5000 |  13486 |\n",
       "\n"
      ],
      "text/plain": [
       "  ID LIMIT_BAL SEX EDUCATION MARRIAGE AGE PAY_0 PAY_2 PAY_3 PAY_4 ⋯ BILL_AMT6\n",
       "1 1   20000    2   2         1        24   2     2    -1    -1    ⋯     0    \n",
       "2 2  120000    2   2         2        26  -1     2     0     0    ⋯  3261    \n",
       "3 3   90000    2   2         2        34   0     0     0     0    ⋯ 15549    \n",
       "4 4   50000    2   2         1        37   0     0     0     0    ⋯ 29547    \n",
       "5 5   50000    1   2         1        57  -1     0    -1     0    ⋯ 19131    \n",
       "6 8  100000    2   2         2        23   0    -1    -1     0    ⋯   567    \n",
       "  PAY_AMT1 PAY_AMT2 PAY_AMT3 PAY_AMT4 PAY_AMT5 PAY_AMT6 default_nm pay_avg  \n",
       "1    0       689        0       0        0        0     1           114.8333\n",
       "2    0      1000     1000    1000        0     2000     1           833.3333\n",
       "3 1518      1500     1000    1000     1000     5000     0          1836.3333\n",
       "4 2000      2019     1200    1100     1069     1000     0          1398.0000\n",
       "5 2000     36681    10000    9000      689      679     0          9841.5000\n",
       "6  380       601        0     581     1687     1542     0           798.5000\n",
       "  bill_avg\n",
       "1   7704  \n",
       "2  17077  \n",
       "3 101653  \n",
       "4 231334  \n",
       "5 109339  \n",
       "6  13486  "
      ]
     },
     "metadata": {},
     "output_type": "display_data"
    }
   ],
   "source": [
    "cd_university_mutated <- cd_university %>%\n",
    "        rename(default_nm = default.payment.next.month) %>%\n",
    "        mutate(default_nm = as_factor(default_nm)) %>%\n",
    "        mutate(pay_avg = (PAY_AMT1 + PAY_AMT2 + PAY_AMT3 + PAY_AMT4 + PAY_AMT5 + PAY_AMT6)/6) %>%\n",
    "        mutate(bill_avg = (BILL_AMT1 + BILL_AMT2 + BILL_AMT3 + BILL_AMT4 + BILL_AMT5 + BILL_AMT6))\n",
    "\n",
    "head(cd_university_mutated)"
   ]
  },
  {
   "cell_type": "code",
   "execution_count": 29,
   "metadata": {},
   "outputs": [],
   "source": [
    "# cd_corr <- ggpairs(cd_university_mutated)\n",
    "# cd_corr\n"
   ]
  },
  {
   "cell_type": "code",
   "execution_count": 9,
   "metadata": {},
   "outputs": [],
   "source": [
    "cd_split <- initial_split(cd_university_mutated, prop=0.75, strata=default_nm)\n",
    "cd_training <- training(cd_split)\n",
    "cd_testing <- testing(cd_split)"
   ]
  },
  {
   "cell_type": "code",
   "execution_count": 22,
   "metadata": {},
   "outputs": [
    {
     "data": {
      "text/html": [
       "<table>\n",
       "<caption>A tibble: 6 × 9</caption>\n",
       "<thead>\n",
       "\t<tr><th scope=col>LIMIT_BAL</th><th scope=col>PAY_0</th><th scope=col>bill_avg</th><th scope=col>pay_avg</th><th scope=col>usage_cdt</th><th scope=col>pmt</th><th scope=col>diff_usage_pmt</th><th scope=col>PAY_6</th><th scope=col>default_nm</th></tr>\n",
       "\t<tr><th scope=col>&lt;dbl&gt;</th><th scope=col>&lt;dbl&gt;</th><th scope=col>&lt;dbl&gt;</th><th scope=col>&lt;dbl&gt;</th><th scope=col>&lt;dbl&gt;</th><th scope=col>&lt;dbl&gt;</th><th scope=col>&lt;dbl&gt;</th><th scope=col>&lt;dbl&gt;</th><th scope=col>&lt;fct&gt;</th></tr>\n",
       "</thead>\n",
       "<tbody>\n",
       "\t<tr><td> 90000</td><td> 0</td><td>101653</td><td>1836.3333</td><td>1.12947778</td><td>0.020403704</td><td>1.10907407</td><td> 0</td><td>0</td></tr>\n",
       "\t<tr><td> 50000</td><td>-1</td><td>109339</td><td>9841.5000</td><td>2.18678000</td><td>0.196830000</td><td>1.98995000</td><td> 0</td><td>0</td></tr>\n",
       "\t<tr><td>100000</td><td> 0</td><td> 13486</td><td> 798.5000</td><td>0.13486000</td><td>0.007985000</td><td>0.12687500</td><td>-1</td><td>0</td></tr>\n",
       "\t<tr><td>630000</td><td>-1</td><td> 41007</td><td>3895.0000</td><td>0.06509048</td><td>0.006182540</td><td>0.05890794</td><td>-1</td><td>0</td></tr>\n",
       "\t<tr><td>120000</td><td>-1</td><td>  1896</td><td> 263.3333</td><td>0.01580000</td><td>0.002194444</td><td>0.01360556</td><td>-1</td><td>1</td></tr>\n",
       "\t<tr><td> 70000</td><td> 2</td><td>265475</td><td>1835.0000</td><td>3.79250000</td><td>0.026214286</td><td>3.76628571</td><td> 2</td><td>1</td></tr>\n",
       "</tbody>\n",
       "</table>\n"
      ],
      "text/latex": [
       "A tibble: 6 × 9\n",
       "\\begin{tabular}{lllllllll}\n",
       " LIMIT\\_BAL & PAY\\_0 & bill\\_avg & pay\\_avg & usage\\_cdt & pmt & diff\\_usage\\_pmt & PAY\\_6 & default\\_nm\\\\\n",
       " <dbl> & <dbl> & <dbl> & <dbl> & <dbl> & <dbl> & <dbl> & <dbl> & <fct>\\\\\n",
       "\\hline\n",
       "\t  90000 &  0 & 101653 & 1836.3333 & 1.12947778 & 0.020403704 & 1.10907407 &  0 & 0\\\\\n",
       "\t  50000 & -1 & 109339 & 9841.5000 & 2.18678000 & 0.196830000 & 1.98995000 &  0 & 0\\\\\n",
       "\t 100000 &  0 &  13486 &  798.5000 & 0.13486000 & 0.007985000 & 0.12687500 & -1 & 0\\\\\n",
       "\t 630000 & -1 &  41007 & 3895.0000 & 0.06509048 & 0.006182540 & 0.05890794 & -1 & 0\\\\\n",
       "\t 120000 & -1 &   1896 &  263.3333 & 0.01580000 & 0.002194444 & 0.01360556 & -1 & 1\\\\\n",
       "\t  70000 &  2 & 265475 & 1835.0000 & 3.79250000 & 0.026214286 & 3.76628571 &  2 & 1\\\\\n",
       "\\end{tabular}\n"
      ],
      "text/markdown": [
       "\n",
       "A tibble: 6 × 9\n",
       "\n",
       "| LIMIT_BAL &lt;dbl&gt; | PAY_0 &lt;dbl&gt; | bill_avg &lt;dbl&gt; | pay_avg &lt;dbl&gt; | usage_cdt &lt;dbl&gt; | pmt &lt;dbl&gt; | diff_usage_pmt &lt;dbl&gt; | PAY_6 &lt;dbl&gt; | default_nm &lt;fct&gt; |\n",
       "|---|---|---|---|---|---|---|---|---|\n",
       "|  90000 |  0 | 101653 | 1836.3333 | 1.12947778 | 0.020403704 | 1.10907407 |  0 | 0 |\n",
       "|  50000 | -1 | 109339 | 9841.5000 | 2.18678000 | 0.196830000 | 1.98995000 |  0 | 0 |\n",
       "| 100000 |  0 |  13486 |  798.5000 | 0.13486000 | 0.007985000 | 0.12687500 | -1 | 0 |\n",
       "| 630000 | -1 |  41007 | 3895.0000 | 0.06509048 | 0.006182540 | 0.05890794 | -1 | 0 |\n",
       "| 120000 | -1 |   1896 |  263.3333 | 0.01580000 | 0.002194444 | 0.01360556 | -1 | 1 |\n",
       "|  70000 |  2 | 265475 | 1835.0000 | 3.79250000 | 0.026214286 | 3.76628571 |  2 | 1 |\n",
       "\n"
      ],
      "text/plain": [
       "  LIMIT_BAL PAY_0 bill_avg pay_avg   usage_cdt  pmt         diff_usage_pmt\n",
       "1  90000     0    101653   1836.3333 1.12947778 0.020403704 1.10907407    \n",
       "2  50000    -1    109339   9841.5000 2.18678000 0.196830000 1.98995000    \n",
       "3 100000     0     13486    798.5000 0.13486000 0.007985000 0.12687500    \n",
       "4 630000    -1     41007   3895.0000 0.06509048 0.006182540 0.05890794    \n",
       "5 120000    -1      1896    263.3333 0.01580000 0.002194444 0.01360556    \n",
       "6  70000     2    265475   1835.0000 3.79250000 0.026214286 3.76628571    \n",
       "  PAY_6 default_nm\n",
       "1  0    0         \n",
       "2  0    0         \n",
       "3 -1    0         \n",
       "4 -1    0         \n",
       "5 -1    1         \n",
       "6  2    1         "
      ]
     },
     "metadata": {},
     "output_type": "display_data"
    }
   ],
   "source": [
    "cd_uni <- cd_training %>%\n",
    "        mutate(payment_to_bill_ratio = pay_avg/bill_avg) %>%  # the ratio of their average payment to average bill    \n",
    "        mutate(usage_cdt = bill_avg/LIMIT_BAL) %>% # to see how much of their balance they use \n",
    "        mutate(pmt = pay_avg/LIMIT_BAL) %>% # to see how much of their balance they pay\n",
    "        mutate(diff_usage_pmt = usage_cdt - pmt) %>% # \n",
    "        select(LIMIT_BAL, PAY_0, bill_avg, pay_avg, usage_cdt, pmt, diff_usage_pmt, PAY_6, default_nm)\n",
    "head(cd_uni)\n",
    "#cd_uni"
   ]
  },
  {
   "cell_type": "code",
   "execution_count": 28,
   "metadata": {},
   "outputs": [],
   "source": [
    "# options(repr.plot.width = 10, repr.plot.height = 8)\n",
    "# cd_corr <- select(cd_uni, PAY_0, default_nm) %>% ggpairs()\n",
    "# cd_corr\n"
   ]
  },
  {
   "cell_type": "code",
   "execution_count": null,
   "metadata": {},
   "outputs": [],
   "source": [
    "#cd_corr "
   ]
  },
  {
   "cell_type": "code",
   "execution_count": 15,
   "metadata": {},
   "outputs": [
    {
     "data": {
      "text/plain": [
       "K-Nearest Neighbor Model Specification (classification)\n",
       "\n",
       "Main Arguments:\n",
       "  neighbors = tune()\n",
       "  weight_func = rectangular\n",
       "\n",
       "Computational engine: kknn \n"
      ]
     },
     "metadata": {},
     "output_type": "display_data"
    }
   ],
   "source": [
    "cd_recipe <- recipe(default_nm ~ LIMIT_BAL + usage_cdt + pmt + PAY_0, data = cd_uni) %>%\n",
    "step_scale(all_predictors()) %>%\n",
    "step_center(all_predictors())\n",
    "\n",
    "cd_spec <- nearest_neighbor(weight_func = \"rectangular\", neighbors = tune()) %>%\n",
    "set_engine(\"kknn\") %>%\n",
    "set_mode(\"classification\")\n",
    "#cd_recipe\n",
    "cd_spec"
   ]
  },
  {
   "cell_type": "code",
   "execution_count": 17,
   "metadata": {},
   "outputs": [
    {
     "data": {
      "text/html": [
       "<table>\n",
       "<caption>A tibble: 34 × 7</caption>\n",
       "<thead>\n",
       "\t<tr><th scope=col>neighbors</th><th scope=col>.metric</th><th scope=col>.estimator</th><th scope=col>mean</th><th scope=col>n</th><th scope=col>std_err</th><th scope=col>.config</th></tr>\n",
       "\t<tr><th scope=col>&lt;dbl&gt;</th><th scope=col>&lt;chr&gt;</th><th scope=col>&lt;chr&gt;</th><th scope=col>&lt;dbl&gt;</th><th scope=col>&lt;int&gt;</th><th scope=col>&lt;dbl&gt;</th><th scope=col>&lt;chr&gt;</th></tr>\n",
       "</thead>\n",
       "<tbody>\n",
       "\t<tr><td> 1</td><td>accuracy</td><td>binary</td><td>0.7201367</td><td>5</td><td>0.002425915</td><td>Model01</td></tr>\n",
       "\t<tr><td> 1</td><td>roc_auc </td><td>binary</td><td>0.6123526</td><td>5</td><td>0.002927261</td><td>Model01</td></tr>\n",
       "\t<tr><td> 4</td><td>accuracy</td><td>binary</td><td>0.7680321</td><td>5</td><td>0.002067549</td><td>Model02</td></tr>\n",
       "\t<tr><td> 4</td><td>roc_auc </td><td>binary</td><td>0.6965768</td><td>5</td><td>0.002940774</td><td>Model02</td></tr>\n",
       "\t<tr><td> 7</td><td>accuracy</td><td>binary</td><td>0.7949259</td><td>5</td><td>0.002572713</td><td>Model03</td></tr>\n",
       "\t<tr><td> 7</td><td>roc_auc </td><td>binary</td><td>0.7179940</td><td>5</td><td>0.006318236</td><td>Model03</td></tr>\n",
       "\t<tr><td>10</td><td>accuracy</td><td>binary</td><td>0.7992027</td><td>5</td><td>0.002734419</td><td>Model04</td></tr>\n",
       "\t<tr><td>10</td><td>roc_auc </td><td>binary</td><td>0.7294159</td><td>5</td><td>0.006192167</td><td>Model04</td></tr>\n",
       "\t<tr><td>13</td><td>accuracy</td><td>binary</td><td>0.8055700</td><td>5</td><td>0.003130852</td><td>Model05</td></tr>\n",
       "\t<tr><td>13</td><td>roc_auc </td><td>binary</td><td>0.7330785</td><td>5</td><td>0.005957879</td><td>Model05</td></tr>\n",
       "\t<tr><td>16</td><td>accuracy</td><td>binary</td><td>0.8063304</td><td>5</td><td>0.003320859</td><td>Model06</td></tr>\n",
       "\t<tr><td>16</td><td>roc_auc </td><td>binary</td><td>0.7381287</td><td>5</td><td>0.004904232</td><td>Model06</td></tr>\n",
       "\t<tr><td>19</td><td>accuracy</td><td>binary</td><td>0.8083253</td><td>5</td><td>0.001899538</td><td>Model07</td></tr>\n",
       "\t<tr><td>19</td><td>roc_auc </td><td>binary</td><td>0.7393935</td><td>5</td><td>0.005908237</td><td>Model07</td></tr>\n",
       "\t<tr><td>22</td><td>accuracy</td><td>binary</td><td>0.8082305</td><td>5</td><td>0.002306340</td><td>Model08</td></tr>\n",
       "\t<tr><td>22</td><td>roc_auc </td><td>binary</td><td>0.7427071</td><td>5</td><td>0.005871273</td><td>Model08</td></tr>\n",
       "\t<tr><td>25</td><td>accuracy</td><td>binary</td><td>0.8076601</td><td>5</td><td>0.001430421</td><td>Model09</td></tr>\n",
       "\t<tr><td>25</td><td>roc_auc </td><td>binary</td><td>0.7448128</td><td>5</td><td>0.005063891</td><td>Model09</td></tr>\n",
       "\t<tr><td>28</td><td>accuracy</td><td>binary</td><td>0.8083253</td><td>5</td><td>0.001685296</td><td>Model10</td></tr>\n",
       "\t<tr><td>28</td><td>roc_auc </td><td>binary</td><td>0.7473252</td><td>5</td><td>0.004862765</td><td>Model10</td></tr>\n",
       "\t<tr><td>31</td><td>accuracy</td><td>binary</td><td>0.8090853</td><td>5</td><td>0.001036607</td><td>Model11</td></tr>\n",
       "\t<tr><td>31</td><td>roc_auc </td><td>binary</td><td>0.7491380</td><td>5</td><td>0.004876480</td><td>Model11</td></tr>\n",
       "\t<tr><td>34</td><td>accuracy</td><td>binary</td><td>0.8084204</td><td>5</td><td>0.001877323</td><td>Model12</td></tr>\n",
       "\t<tr><td>34</td><td>roc_auc </td><td>binary</td><td>0.7484211</td><td>5</td><td>0.005734947</td><td>Model12</td></tr>\n",
       "\t<tr><td>37</td><td>accuracy</td><td>binary</td><td>0.8091807</td><td>5</td><td>0.001941636</td><td>Model13</td></tr>\n",
       "\t<tr><td>37</td><td>roc_auc </td><td>binary</td><td>0.7502160</td><td>5</td><td>0.006363731</td><td>Model13</td></tr>\n",
       "\t<tr><td>40</td><td>accuracy</td><td>binary</td><td>0.8089906</td><td>5</td><td>0.001749739</td><td>Model14</td></tr>\n",
       "\t<tr><td>40</td><td>roc_auc </td><td>binary</td><td>0.7506303</td><td>5</td><td>0.006525964</td><td>Model14</td></tr>\n",
       "\t<tr><td>43</td><td>accuracy</td><td>binary</td><td>0.8096557</td><td>5</td><td>0.001409023</td><td>Model15</td></tr>\n",
       "\t<tr><td>43</td><td>roc_auc </td><td>binary</td><td>0.7509473</td><td>5</td><td>0.006385968</td><td>Model15</td></tr>\n",
       "\t<tr><td>46</td><td>accuracy</td><td>binary</td><td>0.8100358</td><td>5</td><td>0.001492454</td><td>Model16</td></tr>\n",
       "\t<tr><td>46</td><td>roc_auc </td><td>binary</td><td>0.7527695</td><td>5</td><td>0.006315128</td><td>Model16</td></tr>\n",
       "\t<tr><td>49</td><td>accuracy</td><td>binary</td><td>0.8101310</td><td>5</td><td>0.001805378</td><td>Model17</td></tr>\n",
       "\t<tr><td>49</td><td>roc_auc </td><td>binary</td><td>0.7543642</td><td>5</td><td>0.005859695</td><td>Model17</td></tr>\n",
       "</tbody>\n",
       "</table>\n"
      ],
      "text/latex": [
       "A tibble: 34 × 7\n",
       "\\begin{tabular}{lllllll}\n",
       " neighbors & .metric & .estimator & mean & n & std\\_err & .config\\\\\n",
       " <dbl> & <chr> & <chr> & <dbl> & <int> & <dbl> & <chr>\\\\\n",
       "\\hline\n",
       "\t  1 & accuracy & binary & 0.7201367 & 5 & 0.002425915 & Model01\\\\\n",
       "\t  1 & roc\\_auc  & binary & 0.6123526 & 5 & 0.002927261 & Model01\\\\\n",
       "\t  4 & accuracy & binary & 0.7680321 & 5 & 0.002067549 & Model02\\\\\n",
       "\t  4 & roc\\_auc  & binary & 0.6965768 & 5 & 0.002940774 & Model02\\\\\n",
       "\t  7 & accuracy & binary & 0.7949259 & 5 & 0.002572713 & Model03\\\\\n",
       "\t  7 & roc\\_auc  & binary & 0.7179940 & 5 & 0.006318236 & Model03\\\\\n",
       "\t 10 & accuracy & binary & 0.7992027 & 5 & 0.002734419 & Model04\\\\\n",
       "\t 10 & roc\\_auc  & binary & 0.7294159 & 5 & 0.006192167 & Model04\\\\\n",
       "\t 13 & accuracy & binary & 0.8055700 & 5 & 0.003130852 & Model05\\\\\n",
       "\t 13 & roc\\_auc  & binary & 0.7330785 & 5 & 0.005957879 & Model05\\\\\n",
       "\t 16 & accuracy & binary & 0.8063304 & 5 & 0.003320859 & Model06\\\\\n",
       "\t 16 & roc\\_auc  & binary & 0.7381287 & 5 & 0.004904232 & Model06\\\\\n",
       "\t 19 & accuracy & binary & 0.8083253 & 5 & 0.001899538 & Model07\\\\\n",
       "\t 19 & roc\\_auc  & binary & 0.7393935 & 5 & 0.005908237 & Model07\\\\\n",
       "\t 22 & accuracy & binary & 0.8082305 & 5 & 0.002306340 & Model08\\\\\n",
       "\t 22 & roc\\_auc  & binary & 0.7427071 & 5 & 0.005871273 & Model08\\\\\n",
       "\t 25 & accuracy & binary & 0.8076601 & 5 & 0.001430421 & Model09\\\\\n",
       "\t 25 & roc\\_auc  & binary & 0.7448128 & 5 & 0.005063891 & Model09\\\\\n",
       "\t 28 & accuracy & binary & 0.8083253 & 5 & 0.001685296 & Model10\\\\\n",
       "\t 28 & roc\\_auc  & binary & 0.7473252 & 5 & 0.004862765 & Model10\\\\\n",
       "\t 31 & accuracy & binary & 0.8090853 & 5 & 0.001036607 & Model11\\\\\n",
       "\t 31 & roc\\_auc  & binary & 0.7491380 & 5 & 0.004876480 & Model11\\\\\n",
       "\t 34 & accuracy & binary & 0.8084204 & 5 & 0.001877323 & Model12\\\\\n",
       "\t 34 & roc\\_auc  & binary & 0.7484211 & 5 & 0.005734947 & Model12\\\\\n",
       "\t 37 & accuracy & binary & 0.8091807 & 5 & 0.001941636 & Model13\\\\\n",
       "\t 37 & roc\\_auc  & binary & 0.7502160 & 5 & 0.006363731 & Model13\\\\\n",
       "\t 40 & accuracy & binary & 0.8089906 & 5 & 0.001749739 & Model14\\\\\n",
       "\t 40 & roc\\_auc  & binary & 0.7506303 & 5 & 0.006525964 & Model14\\\\\n",
       "\t 43 & accuracy & binary & 0.8096557 & 5 & 0.001409023 & Model15\\\\\n",
       "\t 43 & roc\\_auc  & binary & 0.7509473 & 5 & 0.006385968 & Model15\\\\\n",
       "\t 46 & accuracy & binary & 0.8100358 & 5 & 0.001492454 & Model16\\\\\n",
       "\t 46 & roc\\_auc  & binary & 0.7527695 & 5 & 0.006315128 & Model16\\\\\n",
       "\t 49 & accuracy & binary & 0.8101310 & 5 & 0.001805378 & Model17\\\\\n",
       "\t 49 & roc\\_auc  & binary & 0.7543642 & 5 & 0.005859695 & Model17\\\\\n",
       "\\end{tabular}\n"
      ],
      "text/markdown": [
       "\n",
       "A tibble: 34 × 7\n",
       "\n",
       "| neighbors &lt;dbl&gt; | .metric &lt;chr&gt; | .estimator &lt;chr&gt; | mean &lt;dbl&gt; | n &lt;int&gt; | std_err &lt;dbl&gt; | .config &lt;chr&gt; |\n",
       "|---|---|---|---|---|---|---|\n",
       "|  1 | accuracy | binary | 0.7201367 | 5 | 0.002425915 | Model01 |\n",
       "|  1 | roc_auc  | binary | 0.6123526 | 5 | 0.002927261 | Model01 |\n",
       "|  4 | accuracy | binary | 0.7680321 | 5 | 0.002067549 | Model02 |\n",
       "|  4 | roc_auc  | binary | 0.6965768 | 5 | 0.002940774 | Model02 |\n",
       "|  7 | accuracy | binary | 0.7949259 | 5 | 0.002572713 | Model03 |\n",
       "|  7 | roc_auc  | binary | 0.7179940 | 5 | 0.006318236 | Model03 |\n",
       "| 10 | accuracy | binary | 0.7992027 | 5 | 0.002734419 | Model04 |\n",
       "| 10 | roc_auc  | binary | 0.7294159 | 5 | 0.006192167 | Model04 |\n",
       "| 13 | accuracy | binary | 0.8055700 | 5 | 0.003130852 | Model05 |\n",
       "| 13 | roc_auc  | binary | 0.7330785 | 5 | 0.005957879 | Model05 |\n",
       "| 16 | accuracy | binary | 0.8063304 | 5 | 0.003320859 | Model06 |\n",
       "| 16 | roc_auc  | binary | 0.7381287 | 5 | 0.004904232 | Model06 |\n",
       "| 19 | accuracy | binary | 0.8083253 | 5 | 0.001899538 | Model07 |\n",
       "| 19 | roc_auc  | binary | 0.7393935 | 5 | 0.005908237 | Model07 |\n",
       "| 22 | accuracy | binary | 0.8082305 | 5 | 0.002306340 | Model08 |\n",
       "| 22 | roc_auc  | binary | 0.7427071 | 5 | 0.005871273 | Model08 |\n",
       "| 25 | accuracy | binary | 0.8076601 | 5 | 0.001430421 | Model09 |\n",
       "| 25 | roc_auc  | binary | 0.7448128 | 5 | 0.005063891 | Model09 |\n",
       "| 28 | accuracy | binary | 0.8083253 | 5 | 0.001685296 | Model10 |\n",
       "| 28 | roc_auc  | binary | 0.7473252 | 5 | 0.004862765 | Model10 |\n",
       "| 31 | accuracy | binary | 0.8090853 | 5 | 0.001036607 | Model11 |\n",
       "| 31 | roc_auc  | binary | 0.7491380 | 5 | 0.004876480 | Model11 |\n",
       "| 34 | accuracy | binary | 0.8084204 | 5 | 0.001877323 | Model12 |\n",
       "| 34 | roc_auc  | binary | 0.7484211 | 5 | 0.005734947 | Model12 |\n",
       "| 37 | accuracy | binary | 0.8091807 | 5 | 0.001941636 | Model13 |\n",
       "| 37 | roc_auc  | binary | 0.7502160 | 5 | 0.006363731 | Model13 |\n",
       "| 40 | accuracy | binary | 0.8089906 | 5 | 0.001749739 | Model14 |\n",
       "| 40 | roc_auc  | binary | 0.7506303 | 5 | 0.006525964 | Model14 |\n",
       "| 43 | accuracy | binary | 0.8096557 | 5 | 0.001409023 | Model15 |\n",
       "| 43 | roc_auc  | binary | 0.7509473 | 5 | 0.006385968 | Model15 |\n",
       "| 46 | accuracy | binary | 0.8100358 | 5 | 0.001492454 | Model16 |\n",
       "| 46 | roc_auc  | binary | 0.7527695 | 5 | 0.006315128 | Model16 |\n",
       "| 49 | accuracy | binary | 0.8101310 | 5 | 0.001805378 | Model17 |\n",
       "| 49 | roc_auc  | binary | 0.7543642 | 5 | 0.005859695 | Model17 |\n",
       "\n"
      ],
      "text/plain": [
       "   neighbors .metric  .estimator mean      n std_err     .config\n",
       "1   1        accuracy binary     0.7201367 5 0.002425915 Model01\n",
       "2   1        roc_auc  binary     0.6123526 5 0.002927261 Model01\n",
       "3   4        accuracy binary     0.7680321 5 0.002067549 Model02\n",
       "4   4        roc_auc  binary     0.6965768 5 0.002940774 Model02\n",
       "5   7        accuracy binary     0.7949259 5 0.002572713 Model03\n",
       "6   7        roc_auc  binary     0.7179940 5 0.006318236 Model03\n",
       "7  10        accuracy binary     0.7992027 5 0.002734419 Model04\n",
       "8  10        roc_auc  binary     0.7294159 5 0.006192167 Model04\n",
       "9  13        accuracy binary     0.8055700 5 0.003130852 Model05\n",
       "10 13        roc_auc  binary     0.7330785 5 0.005957879 Model05\n",
       "11 16        accuracy binary     0.8063304 5 0.003320859 Model06\n",
       "12 16        roc_auc  binary     0.7381287 5 0.004904232 Model06\n",
       "13 19        accuracy binary     0.8083253 5 0.001899538 Model07\n",
       "14 19        roc_auc  binary     0.7393935 5 0.005908237 Model07\n",
       "15 22        accuracy binary     0.8082305 5 0.002306340 Model08\n",
       "16 22        roc_auc  binary     0.7427071 5 0.005871273 Model08\n",
       "17 25        accuracy binary     0.8076601 5 0.001430421 Model09\n",
       "18 25        roc_auc  binary     0.7448128 5 0.005063891 Model09\n",
       "19 28        accuracy binary     0.8083253 5 0.001685296 Model10\n",
       "20 28        roc_auc  binary     0.7473252 5 0.004862765 Model10\n",
       "21 31        accuracy binary     0.8090853 5 0.001036607 Model11\n",
       "22 31        roc_auc  binary     0.7491380 5 0.004876480 Model11\n",
       "23 34        accuracy binary     0.8084204 5 0.001877323 Model12\n",
       "24 34        roc_auc  binary     0.7484211 5 0.005734947 Model12\n",
       "25 37        accuracy binary     0.8091807 5 0.001941636 Model13\n",
       "26 37        roc_auc  binary     0.7502160 5 0.006363731 Model13\n",
       "27 40        accuracy binary     0.8089906 5 0.001749739 Model14\n",
       "28 40        roc_auc  binary     0.7506303 5 0.006525964 Model14\n",
       "29 43        accuracy binary     0.8096557 5 0.001409023 Model15\n",
       "30 43        roc_auc  binary     0.7509473 5 0.006385968 Model15\n",
       "31 46        accuracy binary     0.8100358 5 0.001492454 Model16\n",
       "32 46        roc_auc  binary     0.7527695 5 0.006315128 Model16\n",
       "33 49        accuracy binary     0.8101310 5 0.001805378 Model17\n",
       "34 49        roc_auc  binary     0.7543642 5 0.005859695 Model17"
      ]
     },
     "metadata": {},
     "output_type": "display_data"
    }
   ],
   "source": [
    "cd_vfold <- vfold_cv(cd_uni, v=5, strata= default_nm)\n",
    "\n",
    "grids <- tibble(neighbors = seq(1, 50, 3))\n",
    "\n",
    "cd_results <- workflow() %>%\n",
    "            add_recipe(cd_recipe) %>%\n",
    "            add_model(cd_spec) %>%\n",
    "            tune_grid(resamples = cd_vfold, grid=grids) %>%\n",
    "            collect_metrics()\n",
    "cd_results"
   ]
  },
  {
   "cell_type": "code",
   "execution_count": null,
   "metadata": {},
   "outputs": [],
   "source": []
  },
  {
   "cell_type": "code",
   "execution_count": null,
   "metadata": {},
   "outputs": [],
   "source": []
  },
  {
   "cell_type": "markdown",
   "metadata": {},
   "source": [
    "# Discussion "
   ]
  },
  {
   "cell_type": "code",
   "execution_count": null,
   "metadata": {},
   "outputs": [],
   "source": []
  },
  {
   "cell_type": "code",
   "execution_count": null,
   "metadata": {},
   "outputs": [],
   "source": []
  },
  {
   "cell_type": "code",
   "execution_count": null,
   "metadata": {},
   "outputs": [],
   "source": []
  },
  {
   "cell_type": "markdown",
   "metadata": {},
   "source": [
    "# References "
   ]
  },
  {
   "cell_type": "code",
   "execution_count": null,
   "metadata": {},
   "outputs": [],
   "source": []
  }
 ],
 "metadata": {
  "kernelspec": {
   "display_name": "R",
   "language": "R",
   "name": "ir"
  },
  "language_info": {
   "codemirror_mode": "r",
   "file_extension": ".r",
   "mimetype": "text/x-r-source",
   "name": "R",
   "pygments_lexer": "r",
   "version": "4.0.0"
  }
 },
 "nbformat": 4,
 "nbformat_minor": 4
}
