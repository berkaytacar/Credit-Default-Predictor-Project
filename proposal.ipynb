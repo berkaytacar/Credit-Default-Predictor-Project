{
 "cells": [
  {
   "cell_type": "markdown",
   "metadata": {},
   "source": [
    "# DSCI 100 - Course Project Proposal"
   ]
  },
  {
   "cell_type": "markdown",
   "metadata": {},
   "source": [
    "Title: Predicting Credit Card Default"
   ]
  },
  {
   "cell_type": "markdown",
   "metadata": {},
   "source": [
    "# Introduction "
   ]
  },
  {
   "cell_type": "markdown",
   "metadata": {},
   "source": [
    "The dataset, called “default of credit card clients” is credit card data collected from Taiwan by the Department of Information Management \n",
    "and Department of Civil Engineering in, Chung Hua University, Taiwan.\n",
    "A credit card default is when a client fails to repay their debt, including interest or principal, on a loan or security. A default can occur \n",
    "when a borrower is unable to make timely payments, misses payments, or avoids/stops making payments. Individuals, businesses, and even countries \n",
    "can default if they cannot keep up their debt obligations. Default risks are often calculated well in advance by creditors.\n",
    "The data includes the credit limit balance, sex, education status, marital status, age, payment statuses, billed amounts, payment amounts, and \n",
    "whether or not they are in default\n",
    "With this data, we intend to build a classification model that can predict whether the client will default based on payment statuses, and the \n",
    "data will be compared with other factors to find any possible additional correlations\n"
   ]
  },
  {
   "cell_type": "markdown",
   "metadata": {},
   "source": [
    "# Preliminary Exploratory Data Analysis"
   ]
  },
  {
   "cell_type": "code",
   "execution_count": null,
   "metadata": {},
   "outputs": [],
   "source": []
  },
  {
   "cell_type": "markdown",
   "metadata": {},
   "source": [
    "# Methods "
   ]
  },
  {
   "cell_type": "code",
   "execution_count": null,
   "metadata": {},
   "outputs": [],
   "source": []
  },
  {
   "cell_type": "markdown",
   "metadata": {},
   "source": [
    "# Expected Outcomes and Significance "
   ]
  },
  {
   "cell_type": "code",
   "execution_count": null,
   "metadata": {},
   "outputs": [],
   "source": []
  }
 ],
 "metadata": {
  "kernelspec": {
   "display_name": "R",
   "language": "R",
   "name": "ir"
  },
  "language_info": {
   "codemirror_mode": "r",
   "file_extension": ".r",
   "mimetype": "text/x-r-source",
   "name": "R",
   "pygments_lexer": "r",
   "version": "4.0.0"
  }
 },
 "nbformat": 4,
 "nbformat_minor": 4
}
